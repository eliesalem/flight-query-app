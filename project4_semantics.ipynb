{
 "cells": [
  {
   "cell_type": "code",
   "execution_count": 1,
   "id": "be937f91",
   "metadata": {
    "deletable": false,
    "editable": false
   },
   "outputs": [
    {
     "name": "stdout",
     "output_type": "stream",
     "text": [
      "\n"
     ]
    }
   ],
   "source": [
    "# Please do not change this cell because some hidden tests might depend on it.\n",
    "import os\n",
    "\n",
    "# Otter grader does not handle ! commands well, so we define and use our\n",
    "# own function to execute shell commands.\n",
    "def shell(commands, warn=True):\n",
    "    \"\"\"Executes the string `commands` as a sequence of shell commands.\n",
    "     \n",
    "       Prints the result to stdout and returns the exit status. \n",
    "       Provides a printed warning on non-zero exit status unless `warn` \n",
    "       flag is unset.\n",
    "    \"\"\"\n",
    "    file = os.popen(commands)\n",
    "    print (file.read().rstrip('\\n'))\n",
    "    exit_status = file.close()\n",
    "    if warn and exit_status != None:\n",
    "        print(f\"Completed with errors. Exit status: {exit_status}\\n\")\n",
    "    return exit_status\n",
    "\n",
    "shell(\"\"\"\n",
    "ls requirements.txt >/dev/null 2>&1\n",
    "if [ ! $? = 0 ]; then\n",
    " rm -rf .tmp\n",
    " git clone https://github.com/cs187-2024/project4.git .tmp\n",
    " mv .tmp/requirements.txt ./\n",
    " rm -rf .tmp\n",
    "fi\n",
    "pip install -q -r requirements.txt\n",
    "\"\"\")"
   ]
  },
  {
   "cell_type": "code",
   "execution_count": 2,
   "id": "30ed3ba7",
   "metadata": {
    "deletable": false,
    "editable": false
   },
   "outputs": [],
   "source": [
    "# Initialize Otter\n",
    "import otter\n",
    "grader = otter.Notebook()"
   ]
  },
  {
   "cell_type": "raw",
   "id": "59171c62",
   "metadata": {
    "id": "bEbjUNqi2I6_"
   },
   "source": [
    "%%latex\n",
    "\\newcommand{\\vect}[1]{\\mathbf{#1}}\n",
    "\\newcommand{\\cnt}[1]{\\sharp(#1)}\n",
    "\\newcommand{\\argmax}[1]{\\underset{#1}{\\operatorname{argmax}}}\n",
    "\\newcommand{\\softmax}{\\operatorname{softmax}}\n",
    "\\newcommand{\\Prob}{\\Pr}\n",
    "\\newcommand{\\given}{\\,|\\,}"
   ]
  },
  {
   "cell_type": "markdown",
   "id": "02844daf",
   "metadata": {
    "id": "V3wgk50z2I7A"
   },
   "source": [
    "$$\n",
    "\\renewcommand{\\vect}[1]{\\mathbf{#1}}\n",
    "\\renewcommand{\\cnt}[1]{\\sharp(#1)}\n",
    "\\renewcommand{\\argmax}[1]{\\underset{#1}{\\operatorname{argmax}}}\n",
    "\\renewcommand{\\softmax}{\\operatorname{softmax}}\n",
    "\\renewcommand{\\Prob}{\\Pr}\n",
    "\\renewcommand{\\given}{\\,|\\,}\n",
    "$$"
   ]
  },
  {
   "cell_type": "markdown",
   "id": "4f3c2819",
   "metadata": {
    "id": "qyLRFIJ0pWug",
    "tags": [
     "remove_for_latex"
    ]
   },
   "source": [
    "# CS187\n",
    "## Project 4: Semantic Interpretation – Question Answering"
   ]
  },
  {
   "cell_type": "markdown",
   "id": "4af84961",
   "metadata": {
    "id": "qyLRFIJ0pWug"
   },
   "source": [
    "The goal of semantic parsing is to convert natural language utterances to a meaning representation such as a _logical form_ expression or a _SQL query_. In the previous project segment, you built a parsing system to reconstruct parse trees from the natural-language queries in the ATIS dataset. However, that only solves an intermediary task, not the end-user task of obtaining answers to the queries.\n",
    "\n",
    "In this final project segment, you will go further, building a semantic parsing system to convert English queries to SQL queries, so that by consulting a database you will be able to answer those questions. You will implement both a rule-based approach and an end-to-end sequence-to-sequence (seq2seq) approach. Both algorithms come with their pros and cons, and by the end of this segment you should have a basic understanding of the characteristics of the two approaches. \n",
    "\n",
    "## Goals\n",
    "\n",
    "1. Build a semantic parsing algorithm to convert text to SQL queries based on\n",
    "   the syntactic parse trees from the last project.\n",
    "2. Build an attention-based end-to-end seq2seq system to convert text to SQL.\n",
    "3. Improve the attention-based end-to-end seq2seq system with self-attention to convert text to SQL.\n",
    "4. (Optional) Use state-of-the-art pretrained transformers for text-to-SQL conversion.\n",
    "5. Discuss the pros and cons of the rule-based system and the end-to-end system.\n",
    "\n",
    "This will be an extremely challenging project, so we recommend that you start early."
   ]
  },
  {
   "cell_type": "markdown",
   "id": "43492ae1",
   "metadata": {
    "id": "IZC1IGmoujpw"
   },
   "source": [
    "# Setup"
   ]
  },
  {
   "cell_type": "code",
   "execution_count": 3,
   "id": "1f8296dd",
   "metadata": {
    "id": "KKoO7UWR2I7I"
   },
   "outputs": [],
   "source": [
    "import copy\n",
    "import datetime\n",
    "import math\n",
    "import os\n",
    "import random\n",
    "import re\n",
    "import sys\n",
    "import warnings\n",
    "\n",
    "import wget\n",
    "import nltk\n",
    "import sqlite3\n",
    "import csv\n",
    "import torch\n",
    "import torch.nn as nn\n",
    "import datasets\n",
    "\n",
    "from datasets import load_dataset\n",
    "from tokenizers import Tokenizer\n",
    "from tokenizers import Regex\n",
    "from tokenizers.pre_tokenizers import WhitespaceSplit, Split\n",
    "from tokenizers.processors import TemplateProcessing\n",
    "from tokenizers import normalizers\n",
    "from tokenizers.models import WordLevel\n",
    "from tokenizers.trainers import WordLevelTrainer\n",
    "from transformers import PreTrainedTokenizerFast\n",
    "\n",
    "from cryptography.fernet import Fernet\n",
    "from func_timeout import func_set_timeout\n",
    "from torch.nn.utils.rnn import pack_padded_sequence as pack\n",
    "from torch.nn.utils.rnn import pad_packed_sequence as unpack\n",
    "from tqdm.notebook import tqdm\n",
    "from transformers import BartTokenizer, BartForConditionalGeneration"
   ]
  },
  {
   "cell_type": "code",
   "execution_count": 4,
   "id": "7429dac5",
   "metadata": {
    "colab": {
     "base_uri": "https://localhost:8080/"
    },
    "id": "U1jEUUYXpU0V",
    "outputId": "dd870d00-ed05-4986-ba6a-7d3855709ff8"
   },
   "outputs": [],
   "source": [
    "# Set random seeds for reproducibility\n",
    "SEED = 1234\n",
    "\n",
    "def reseed(seed=SEED):\n",
    "    torch.manual_seed(seed)\n",
    "    random.seed(seed)\n",
    "\n",
    "reseed()"
   ]
  },
  {
   "cell_type": "code",
   "execution_count": 5,
   "id": "ae6a660a",
   "metadata": {
    "colab": {
     "base_uri": "https://localhost:8080/"
    },
    "id": "U1jEUUYXpU0V",
    "outputId": "dd870d00-ed05-4986-ba6a-7d3855709ff8"
   },
   "outputs": [],
   "source": [
    "# Set timeout for executing SQL\n",
    "TIMEOUT = 3 # seconds"
   ]
  },
  {
   "cell_type": "code",
   "execution_count": 6,
   "id": "49c91dc5",
   "metadata": {
    "colab": {
     "base_uri": "https://localhost:8080/"
    },
    "id": "U1jEUUYXpU0V",
    "outputId": "dd870d00-ed05-4986-ba6a-7d3855709ff8"
   },
   "outputs": [
    {
     "name": "stdout",
     "output_type": "stream",
     "text": [
      "cpu\n"
     ]
    }
   ],
   "source": [
    "# GPU check: Set runtime type to use GPU where available\n",
    "device = torch.device(\"cuda\" if torch.cuda.is_available() else \"cpu\")\n",
    "print (device)"
   ]
  },
  {
   "cell_type": "code",
   "execution_count": 7,
   "id": "82b3afc6",
   "metadata": {
    "colab": {
     "base_uri": "https://localhost:8080/",
     "height": 91
    },
    "id": "vnw2cCQT2I7M",
    "outputId": "ee04be09-88fc-4ab9-fc0c-59f20d8bf210"
   },
   "outputs": [
    {
     "name": "stdout",
     "output_type": "stream",
     "text": [
      "Skipping atis_sqlite.db\n",
      "Skipping train_flightid.nl\n",
      "Skipping train_flightid.sql\n",
      "Skipping dev_flightid.nl\n",
      "Skipping dev_flightid.sql\n",
      "Skipping test_flightid.nl\n",
      "Skipping test_flightid.sql\n",
      "Skipping transform.py\n"
     ]
    }
   ],
   "source": [
    "# Prepare to download needed data\n",
    "def download_if_needed(source, dest, filename, add_to_path=True):\n",
    "    os.makedirs(dest, exist_ok=True)  # ensure destination\n",
    "    if add_to_path:\n",
    "        sys.path.insert(1, dest)  # add local to path\n",
    "    if os.path.exists(f\"./{dest}{filename}\"):\n",
    "        print(f\"Skipping {filename}\")\n",
    "    else:\n",
    "        print(f\"Downloading {filename} from {source}\")\n",
    "        wget.download(source + filename, out=dest)\n",
    "        print(\"\", flush=True)\n",
    "\n",
    "\n",
    "source_path = \"https://raw.githubusercontent.com/\" \"nlp-course/data/master/ATIS/\"\n",
    "code_path = \"https://raw.githubusercontent.com/\" \"nlp-course/data/master/scripts/trees/\"\n",
    "data_path = \"data/\"\n",
    "\n",
    "\n",
    "# Grammar to augment for this segment\n",
    "if not os.path.isfile(\"data/grammar\"):\n",
    "    download_if_needed(source_path, data_path, \"grammar_distrib4.crypt\")\n",
    "\n",
    "    # Decrypt the grammar file\n",
    "    key = b\"bfksTY2BJ5VKKK9xZb1PDDLaGkdu7KCDFYfVePSEfGY=\"\n",
    "    fernet = Fernet(key)\n",
    "    with open(data_path + \"grammar_distrib4.crypt\", \"rb\") as f:\n",
    "        restored = Fernet(key).decrypt(f.read())\n",
    "    with open(data_path + \"grammar\", \"wb\") as f:\n",
    "        f.write(restored)\n",
    "\n",
    "\n",
    "# Acquire the datasets (training, development, and test splits of the\n",
    "# ATIS queries and corresponding SQL queries) and ATIS SQL database\n",
    "for filename in [\n",
    "    \"atis_sqlite.db\",  # ATIS SQL database\n",
    "    \"train_flightid.nl\",\n",
    "    \"train_flightid.sql\",\n",
    "    \"dev_flightid.nl\",\n",
    "    \"dev_flightid.sql\",\n",
    "    \"test_flightid.nl\",\n",
    "    \"test_flightid.sql\",\n",
    "]:\n",
    "    download_if_needed(source_path, data_path, filename)\n",
    "\n",
    "# Download scripts and ATIS database\n",
    "for filename in [\"transform.py\"]:  # tree transformations\n",
    "    download_if_needed(code_path, data_path, filename)"
   ]
  },
  {
   "cell_type": "code",
   "execution_count": 8,
   "id": "afddb9ed",
   "metadata": {
    "id": "0rIXNNMX2I7O"
   },
   "outputs": [],
   "source": [
    "# Import downloaded scripts for parsing augmented grammars\n",
    "import transform as xform"
   ]
  },
  {
   "cell_type": "markdown",
   "id": "33d25c3e",
   "metadata": {
    "id": "CFyzRZfk2I7P"
   },
   "source": [
    "# Semantically augmented grammars\n",
    "\n",
    "In the first part of this project segment, you'll be implementing a rule-based system for semantic interpretation of sentences. Before jumping into using such a system on the ATIS dataset – we'll get to that soon enough – let's first work with some trivial examples to get things going.\n",
    "\n",
    "The fundamental idea of rule-based semantic interpretation is the rule of compositionality, that *the meaning of a constituent is a function of the meanings of its immediate subconstituents and the syntactic rule that combined them*. This leads to an infrastructure for specifying semantic interpretation in which each syntactic rule in a grammar (in our case, a context-free grammar) is associated with a semantic rule that applies to the meanings associated with the elements on the right-hand side of the rule.\n",
    "\n",
    "## Example: arithmetic expressions\n",
    "\n",
    "As a first example, let's consider an augmented grammar for arithmetic expressions, familiar from lab 3-1. We again use the function `xform.parse_augmented_grammar` to parse the augmented grammar. You can read more about it in the file `scripts/transform.py`."
   ]
  },
  {
   "cell_type": "code",
   "execution_count": 9,
   "id": "8b9dfc53",
   "metadata": {
    "id": "KSMzkIrN2I7Q"
   },
   "outputs": [],
   "source": [
    "arithmetic_grammar, arithmetic_augmentations = xform.parse_augmented_grammar(\n",
    "    \"\"\"\n",
    "    ## Sample grammar for arithmetic expressions\n",
    "    \n",
    "    S -> NUM                              : lambda Num: Num\n",
    "       | S OP S                           : lambda S1, Op, S2: Op(S1, S2)\n",
    "\n",
    "    OP -> ADD                             : lambda Op: Op\n",
    "        | SUB \n",
    "        | MULT\n",
    "        | DIV\n",
    "\n",
    "    NUM -> 'zero'                         : lambda: 0\n",
    "         | 'one'                          : lambda: 1\n",
    "         | 'two'                          : lambda: 2\n",
    "         | 'three'                        : lambda: 3\n",
    "         | 'four'                         : lambda: 4\n",
    "         | 'five'                         : lambda: 5\n",
    "         | 'six'                          : lambda: 6\n",
    "         | 'seven'                        : lambda: 7\n",
    "         | 'eight'                        : lambda: 8\n",
    "         | 'nine'                         : lambda: 9\n",
    "         | 'ten'                          : lambda: 10\n",
    "\n",
    "    ADD -> 'plus' | 'added' 'to'          : lambda: lambda x, y: x + y\n",
    "    SUB -> 'minus'                        : lambda: lambda x, y: x - y\n",
    "    MULT -> 'times' | 'multiplied' 'by'   : lambda: lambda x, y: x * y\n",
    "    DIV -> 'divided' 'by'                 : lambda: lambda x, y: x / y\n",
    "    \"\"\"\n",
    ")"
   ]
  },
  {
   "cell_type": "markdown",
   "id": "dab0517f",
   "metadata": {
    "id": "H7YT2yLQ2I7Q"
   },
   "source": [
    "Recall that in this grammar specification format, rules that are not explicitly provided with an augmentation (like all the `OP` rules after the first `OP -> ADD`) are associated with the textually most recent one (in this case, `lambda Op: Op`).\n",
    "\n",
    "The `parse_augmented_grammar` function returns both an NLTK grammar and a dictionary that maps from productions in the grammar to their associated augmentations. Let's examine the returned grammar."
   ]
  },
  {
   "cell_type": "code",
   "execution_count": 10,
   "id": "95018d50",
   "metadata": {
    "colab": {
     "base_uri": "https://localhost:8080/"
    },
    "id": "YRxbzRJZ2I7Q",
    "outputId": "4cf0273f-9fe3-4455-e1c7-b1b0a13b8718"
   },
   "outputs": [
    {
     "name": "stdout",
     "output_type": "stream",
     "text": [
      "S -> NUM                      <function <lambda> at 0x15aaf8d30>\n",
      "S -> S OP S                   <function <lambda> at 0x15aaf8ca0>\n",
      "OP -> ADD                     <function <lambda> at 0x15aaf8dc0>\n",
      "OP -> SUB                     <function <lambda> at 0x15aaf8e50>\n",
      "OP -> MULT                    <function <lambda> at 0x15aaf8ee0>\n",
      "OP -> DIV                     <function <lambda> at 0x15aaf8f70>\n",
      "NUM -> 'zero'                 <function <lambda> at 0x15aaea040>\n",
      "NUM -> 'one'                  <function <lambda> at 0x15aaea0d0>\n",
      "NUM -> 'two'                  <function <lambda> at 0x15aaea160>\n",
      "NUM -> 'three'                <function <lambda> at 0x15aaea1f0>\n",
      "NUM -> 'four'                 <function <lambda> at 0x15aaea280>\n",
      "NUM -> 'five'                 <function <lambda> at 0x15aaea310>\n",
      "NUM -> 'six'                  <function <lambda> at 0x15aaea3a0>\n",
      "NUM -> 'seven'                <function <lambda> at 0x15aaea430>\n",
      "NUM -> 'eight'                <function <lambda> at 0x15aaea4c0>\n",
      "NUM -> 'nine'                 <function <lambda> at 0x15aaea550>\n",
      "NUM -> 'ten'                  <function <lambda> at 0x15aaea5e0>\n",
      "ADD -> 'plus'                 <function <lambda> at 0x15aaea670>\n",
      "ADD -> 'added' 'to'           <function <lambda> at 0x15aaea700>\n",
      "SUB -> 'minus'                <function <lambda> at 0x15aaea790>\n",
      "MULT -> 'times'               <function <lambda> at 0x15aaea820>\n",
      "MULT -> 'multiplied' 'by'     <function <lambda> at 0x15aaea8b0>\n",
      "DIV -> 'divided' 'by'         <function <lambda> at 0x15aaea940>\n"
     ]
    }
   ],
   "source": [
    "for production in arithmetic_grammar.productions():\n",
    "  print(f\"{repr(production):25}     {arithmetic_augmentations[production]}\")"
   ]
  },
  {
   "cell_type": "markdown",
   "id": "46df9793",
   "metadata": {
    "id": "xj3C8Qa22I7R"
   },
   "source": [
    "We can parse with the grammar using one of the built-in NLTK parsers."
   ]
  },
  {
   "cell_type": "code",
   "execution_count": 11,
   "id": "f23ed75c",
   "metadata": {
    "colab": {
     "base_uri": "https://localhost:8080/"
    },
    "id": "hSL-Ncta2I7S",
    "outputId": "6b122d16-0f3f-4f66-9185-9dd210787f54"
   },
   "outputs": [
    {
     "name": "stdout",
     "output_type": "stream",
     "text": [
      "            S            \n",
      "        ____|_________    \n",
      "       S         |    |  \n",
      "   ____|____     |    |   \n",
      "  S    OP   S    OP   S  \n",
      "  |    |    |    |    |   \n",
      " NUM  ADD  NUM  MULT NUM \n",
      "  |    |    |    |    |   \n",
      "three plus one times four\n",
      "\n",
      "            S            \n",
      "   _________|____         \n",
      "  |    |         S       \n",
      "  |    |     ____|____    \n",
      "  S    OP   S    OP   S  \n",
      "  |    |    |    |    |   \n",
      " NUM  ADD  NUM  MULT NUM \n",
      "  |    |    |    |    |   \n",
      "three plus one times four\n",
      "\n"
     ]
    }
   ],
   "source": [
    "arithmetic_parser = nltk.parse.BottomUpChartParser(arithmetic_grammar)\n",
    "parses = [p for p in arithmetic_parser.parse('three plus one times four'.split())]\n",
    "for parse in parses:\n",
    "  parse.pretty_print()"
   ]
  },
  {
   "cell_type": "markdown",
   "id": "e516eb38",
   "metadata": {
    "id": "vWrW3XKq2I7S"
   },
   "source": [
    "Now let's turn to the augmentations. They can be arbitrary Python functions applied to the semantic representations associated with the right-hand-side nonterminals, returning the semantic representation of the left-hand side. To interpret the semantic representation of the entire sentence (at the root of the parse tree), we can use the following pseudo-code:\n",
    "```\n",
    "to interpret a tree:\n",
    "  interpret each of the nonterminal-rooted subtrees\n",
    "  find the augmentation associated with the root production of the tree\n",
    "    (it should be a function of as many arguments as there are nonterminals on the right-hand side)\n",
    "  return the result of applying the augmentation to the subtree values\n",
    "```\n",
    "(The base case of this recursion occurs when the number of nonterminal-rooted subtrees is zero, that is, a rule all of whose right-hand side elements are terminals.)\n",
    "\n",
    "Suppose we had such a function, call it `interpret`. How would it operate on, for instance, the tree `(S (S (NUM three)) (OP (ADD plus)) (S (NUM one)))`?\n",
    "\n",
    "```\n",
    "interpret (S (S (NUM three)) (OP (ADD plus)) (S (NUM one)))\n",
    "    |->interpret (S (NUM three))\n",
    "    |      |->interpret (NUM three)\n",
    "    |      |      |->(no subconstituents to evaluate)\n",
    "    |      |      |->apply the augmentation for the rule NUM -> three to the empty set of values\n",
    "    |      |      |      (lambda: 3) () ==> 3\n",
    "    |      |      \\==> 3\n",
    "    |      |->apply the augmentation for the rule S -> NUM to the value 3\n",
    "    |      |      (lambda NUM: NUM)(3) ==> 3\n",
    "    |      \\==> 3\n",
    "    |->interpret (OP (ADD plus)) \n",
    "    |      |...\n",
    "    |      \\==> lambda x, y: x + y\n",
    "    |->interpret (S (NUM one))\n",
    "    |      |...\n",
    "    |      \\==> 1\n",
    "    |->apply the augmentation for the rule S -> S OP S to the values 3, (lambda x, y: x + y), and 1\n",
    "    |      (lambda S1, Op, S2: Op(S1, S2))(3, (lambda x, y: x + y), 1) ==> 4\n",
    "    \\==> 4\n",
    "```\n",
    "\n",
    "Thus, the string \"three plus one\" is semantically interpreted as the value 4.\n",
    "\n",
    "We provide the `interpret` function to carry out this recursive process, copied over from lab 4-2:"
   ]
  },
  {
   "cell_type": "code",
   "execution_count": 12,
   "id": "b1007ded",
   "metadata": {
    "id": "AOtYqElK2I7T"
   },
   "outputs": [],
   "source": [
    "def interpret(tree, augmentations):\n",
    "  syntactic_rule = tree.productions()[0]\n",
    "  semantic_rule = augmentations[syntactic_rule]\n",
    "  child_meanings = [interpret(child, augmentations) \n",
    "                    for child in tree \n",
    "                    if isinstance(child, nltk.Tree)]\n",
    "  return semantic_rule(*child_meanings)"
   ]
  },
  {
   "cell_type": "markdown",
   "id": "da83c487",
   "metadata": {
    "id": "ikKmIXI72I7U"
   },
   "source": [
    "Now we should be able to evaluate the arithmetic example from above."
   ]
  },
  {
   "cell_type": "code",
   "execution_count": 13,
   "id": "c6e18b70",
   "metadata": {
    "colab": {
     "base_uri": "https://localhost:8080/"
    },
    "id": "MKeDTiaf2I7U",
    "outputId": "bb832f5b-8cd7-4c6f-f775-a1d9792196a1"
   },
   "outputs": [
    {
     "data": {
      "text/plain": [
       "16"
      ]
     },
     "execution_count": 13,
     "metadata": {},
     "output_type": "execute_result"
    }
   ],
   "source": [
    "interpret(parses[0], arithmetic_augmentations)"
   ]
  },
  {
   "cell_type": "markdown",
   "id": "9ed9d727",
   "metadata": {
    "id": "6Mrcmpcc2I7W"
   },
   "source": [
    "And we can even write a function that parses and interprets a string. We'll have it evaluate each of the possible parses and print the results."
   ]
  },
  {
   "cell_type": "code",
   "execution_count": 14,
   "id": "56b727ff",
   "metadata": {
    "id": "LxwtJT8A2I7W"
   },
   "outputs": [],
   "source": [
    "def parse_and_interpret(string, grammar, augmentations):\n",
    "  parser = nltk.parse.BottomUpChartParser(grammar)\n",
    "  parses = parser.parse(string.split())\n",
    "  for parse in parses:\n",
    "    parse.pretty_print()\n",
    "    print(\"==>\", interpret(parse, augmentations))"
   ]
  },
  {
   "cell_type": "code",
   "execution_count": 15,
   "id": "f4a902cb",
   "metadata": {
    "colab": {
     "base_uri": "https://localhost:8080/"
    },
    "id": "9iMG9rhi2I7W",
    "outputId": "928a4f8a-bee2-466c-f635-c28cfffdb365"
   },
   "outputs": [
    {
     "name": "stdout",
     "output_type": "stream",
     "text": [
      "            S            \n",
      "        ____|_________    \n",
      "       S         |    |  \n",
      "   ____|____     |    |   \n",
      "  S    OP   S    OP   S  \n",
      "  |    |    |    |    |   \n",
      " NUM  ADD  NUM  MULT NUM \n",
      "  |    |    |    |    |   \n",
      "three plus one times four\n",
      "\n",
      "==> 16\n",
      "            S            \n",
      "   _________|____         \n",
      "  |    |         S       \n",
      "  |    |     ____|____    \n",
      "  S    OP   S    OP   S  \n",
      "  |    |    |    |    |   \n",
      " NUM  ADD  NUM  MULT NUM \n",
      "  |    |    |    |    |   \n",
      "three plus one times four\n",
      "\n",
      "==> 7\n"
     ]
    }
   ],
   "source": [
    "parse_and_interpret(\"three plus one times four\", arithmetic_grammar, arithmetic_augmentations)"
   ]
  },
  {
   "cell_type": "markdown",
   "id": "a89897f7",
   "metadata": {
    "id": "5Mrbtt6D2I7X"
   },
   "source": [
    "Since the string is syntactically ambiguous according to the grammar, it is semantically ambiguous as well."
   ]
  },
  {
   "cell_type": "markdown",
   "id": "5844d219",
   "metadata": {
    "id": "hFJqeTjo2I7Y"
   },
   "source": [
    "## Some grammar specification conveniences\n",
    "\n",
    "Before going on, it will be useful to have a few more conveniences in writing augmentations for rules. First, since the augmentations are arbitrary Python expressions, they can be built from and make use of other functions. For instance, you'll notice that many of the augmentations at the leaves of the tree took no arguments and returned a constant. We can define a function `constant` that returns a function that ignores its arguments and returns a particular value."
   ]
  },
  {
   "cell_type": "code",
   "execution_count": 16,
   "id": "5fb63bab",
   "metadata": {
    "id": "iaPtS8Z42I7Y"
   },
   "outputs": [],
   "source": [
    "def constant(value):\n",
    "  \"\"\"Return `value`, ignoring any arguments\"\"\"\n",
    "  return lambda *args: value"
   ]
  },
  {
   "cell_type": "markdown",
   "id": "2fa0bd4e",
   "metadata": {
    "id": "az0vj6hx2I7Z"
   },
   "source": [
    "Similarly, several of the augmentations are functions that just return their first argument. Again, we can define a generic form `first` of such a function:"
   ]
  },
  {
   "cell_type": "code",
   "execution_count": 17,
   "id": "01ad70dc",
   "metadata": {
    "id": "HNKWoa4f2I7Z"
   },
   "outputs": [],
   "source": [
    "def first(*args):\n",
    "  \"\"\"Return the value of the first (and perhaps only) subconstituent, \n",
    "     ignoring any others\"\"\"  \n",
    "  return args[0]"
   ]
  },
  {
   "cell_type": "markdown",
   "id": "4497a8dd",
   "metadata": {
    "id": "tvMy8Dz62I7Z"
   },
   "source": [
    "We can now rewrite the grammar above to take advantage of these shortcuts. \n",
    "\n",
    "> _Some Python-related details:_ In the call to `parse_augmented_grammar` below, we pass in the global environment, extracted via a `globals()` function call, via the named argument `globals`. This allows the `parse_augmented_grammar` function to make use of the global bindings for `constant`, `first`, and the like when evaluating the augmentation expressions to their values. You can check out the code in `transform.py` to see how the passed in `globals` bindings are used. To help understand what's going on, see what happens if you don't include the `globals=globals()`."
   ]
  },
  {
   "cell_type": "code",
   "execution_count": 18,
   "id": "e9613551",
   "metadata": {
    "id": "nUZdEEhH2I7Z"
   },
   "outputs": [],
   "source": [
    "arithmetic_grammar_2, arithmetic_augmentations_2 = xform.parse_augmented_grammar(\n",
    "    \"\"\"\n",
    "    ## Sample grammar for arithmetic expressions\n",
    "    \n",
    "    S -> NUM                              : first\n",
    "       | S OP S                           : lambda S1, Op, S2: Op(S1, S2)\n",
    "\n",
    "    OP -> ADD                             : first\n",
    "       | SUB \n",
    "       | MULT\n",
    "       | DIV\n",
    "\n",
    "    NUM -> 'zero'                         : constant(0)\n",
    "         | 'one'                          : constant(1)\n",
    "         | 'two'                          : constant(2)\n",
    "         | 'three'                        : constant(3)\n",
    "         | 'four'                         : constant(4)\n",
    "         | 'five'                         : constant(5)\n",
    "         | 'six'                          : constant(6)\n",
    "         | 'seven'                        : constant(7)\n",
    "         | 'eight'                        : constant(8)\n",
    "         | 'nine'                         : constant(9)\n",
    "         | 'ten'                          : constant(10)\n",
    "\n",
    "    ADD -> 'plus' | 'added' 'to'          : constant(lambda x, y: x + y)\n",
    "    SUB -> 'minus'                        : constant(lambda x, y: x - y)\n",
    "    MULT -> 'times' | 'multiplied' 'by'   : constant(lambda x, y: x * y)\n",
    "    DIV -> 'divided' 'by'                 : constant(lambda x, y: x / y)\n",
    "    \"\"\",\n",
    "    globals=globals())"
   ]
  },
  {
   "cell_type": "markdown",
   "id": "42cee9a5",
   "metadata": {
    "id": "XK8pm5fR2I7a"
   },
   "source": [
    "Finally, it might make our lives easier to write a template of augmentations whose instantiation depends on the right-hand side of the rule. \n",
    "\n",
    "We use a reserved keyword `_RHS` to denote the right-hand side of the syntactic rule, which will be replaced by a **list** of the right-hand-side strings. For example, an augmentation `numeric_template(_RHS)` would operate as if written as `numeric_template(['zero'])` when the rule is `NUM -> 'zero'`, and `numeric_template(['one'])` when the rule is `NUM -> 'one'`. The details of how this works can be found at [`scripts/transform.py`](https://github.com/nlp-course/data/blob/master/scripts/trees/transform.py).\n",
    "\n",
    "This would allow us to use a single template function, for example,"
   ]
  },
  {
   "cell_type": "code",
   "execution_count": 19,
   "id": "f6dbb034",
   "metadata": {
    "id": "R-NhYa2z2I7a"
   },
   "outputs": [],
   "source": [
    "def numeric_template(rhs):\n",
    "  \"\"\"Ignore the subphrase meanings and lookup the first right-hand-side symbol \n",
    "     as a number\"\"\"\n",
    "  return constant({'zero':0, 'one':1, 'two':2, 'three':3, 'four':4, 'five':5,\n",
    "          'six':6, 'seven':7, 'eight':8, 'nine':9, 'ten':10}[rhs[0]])"
   ]
  },
  {
   "cell_type": "markdown",
   "id": "60dab5d4",
   "metadata": {
    "id": "izdoK5oK2I7b"
   },
   "source": [
    "and then further simplify the grammar specification:"
   ]
  },
  {
   "cell_type": "code",
   "execution_count": 20,
   "id": "96cfb077",
   "metadata": {
    "id": "QfEHRbws2I7b"
   },
   "outputs": [],
   "source": [
    "arithmetic_grammar_3, arithmetic_augmentations_3 = xform.parse_augmented_grammar(\n",
    "    \"\"\"\n",
    "    ## Sample grammar for arithmetic expressions\n",
    "    \n",
    "    S -> NUM                              : first\n",
    "       | S OP S                           : lambda S1, Op, S2: Op(S1, S2)\n",
    "\n",
    "    OP -> ADD                             : first\n",
    "       | SUB\n",
    "       | MULT\n",
    "       | DIV\n",
    "\n",
    "    NUM -> 'zero'  | 'one'   | 'two'      : numeric_template(_RHS)\n",
    "         | 'three' | 'four'  | 'five'\n",
    "         | 'six'   | 'seven' | 'eight'\n",
    "         | 'nine'  | 'ten'\n",
    "\n",
    "    ADD -> 'plus' | 'added' 'to'          : constant(lambda x, y: x + y)\n",
    "    SUB -> 'minus'                        : constant(lambda x, y: x - y)\n",
    "    MULT -> 'times' | 'multiplied' 'by'   : constant(lambda x, y: x * y)\n",
    "    DIV -> 'divided' 'by'                 : constant(lambda x, y: x / y)\n",
    "    \"\"\",\n",
    "    globals=globals())"
   ]
  },
  {
   "cell_type": "code",
   "execution_count": 21,
   "id": "85da24f2",
   "metadata": {
    "colab": {
     "base_uri": "https://localhost:8080/"
    },
    "id": "toQy2Kha2I7c",
    "outputId": "0604a394-c23a-4265-e589-d28b60a4e7ba"
   },
   "outputs": [
    {
     "name": "stdout",
     "output_type": "stream",
     "text": [
      "       S                 \n",
      "  _____|______________    \n",
      " S           OP       S  \n",
      " |           |        |   \n",
      "NUM         DIV      NUM \n",
      " |      _____|___     |   \n",
      "six divided      by three\n",
      "\n",
      "==> 2.0\n"
     ]
    }
   ],
   "source": [
    "parse_and_interpret(\"six divided by three\", arithmetic_grammar_3, arithmetic_augmentations_3)"
   ]
  },
  {
   "cell_type": "markdown",
   "id": "d10dff2d",
   "metadata": {
    "id": "Xrb5gJGl2I7c"
   },
   "source": [
    "## Example: _Green Eggs and Ham_ revisited\n",
    "\n",
    "This stuff is tricky, so it's useful to see more examples before jumping in the deep end. In this simple GEaH fragment grammar, we use a larger set of auxiliary functions to build the augmentations."
   ]
  },
  {
   "cell_type": "code",
   "execution_count": 22,
   "id": "f1524a29",
   "metadata": {
    "id": "UExUoClu2I7d"
   },
   "outputs": [],
   "source": [
    "def forward(F, A):\n",
    "  \"\"\"Forward application: Return the application of the first \n",
    "     argument to the second\"\"\"\n",
    "  return F(A)\n",
    "\n",
    "def backward(A, F):\n",
    "  \"\"\"Backward application: Return the application of the second \n",
    "     argument to the first\"\"\"\n",
    "  return F(A)\n",
    "\n",
    "def second(*args):\n",
    "  \"\"\"Return the value of the second subconstituent, ignoring any others\"\"\"\n",
    "  return args[1]\n",
    "\n",
    "def ignore(*args):\n",
    "  \"\"\"Return `None`, ignoring everything about the constituent. (Good as a\n",
    "     placeholder until a better augmentation can be devised.)\"\"\"\n",
    "  return None"
   ]
  },
  {
   "cell_type": "markdown",
   "id": "14ed8975",
   "metadata": {
    "id": "eAeFyh3s2I7d"
   },
   "source": [
    "Using these, we can build and test the grammar."
   ]
  },
  {
   "cell_type": "code",
   "execution_count": 23,
   "id": "5e161b94",
   "metadata": {
    "id": "7yVkW0hO2I7d"
   },
   "outputs": [],
   "source": [
    "geah_grammar_spec = \"\"\"\n",
    "  ## Productions\n",
    "  S -> NP VP            : backward\n",
    "  VP -> V NP            : forward\n",
    "\n",
    "  ## Lexicon\n",
    "  V -> 'likes'          : constant(lambda Object: lambda Subject: f\"like({Subject}, {Object})\")\n",
    "  NP -> 'Sam' | 'sam'   : constant(_RHS[0])\n",
    "  NP -> 'ham'\n",
    "  NP -> 'eggs'\n",
    "\"\"\""
   ]
  },
  {
   "cell_type": "code",
   "execution_count": 24,
   "id": "a3950870",
   "metadata": {
    "id": "bWbs9vFH2I7e"
   },
   "outputs": [],
   "source": [
    "geah_grammar, geah_augmentations = xform.parse_augmented_grammar(geah_grammar_spec, \n",
    "                                                                 globals=globals())"
   ]
  },
  {
   "cell_type": "code",
   "execution_count": 25,
   "id": "275a3259",
   "metadata": {
    "colab": {
     "base_uri": "https://localhost:8080/"
    },
    "id": "vuzqlaPS2I7e",
    "outputId": "f644e189-e5f3-4cd0-cd5d-667e312d825f"
   },
   "outputs": [
    {
     "name": "stdout",
     "output_type": "stream",
     "text": [
      "      S          \n",
      "  ____|____       \n",
      " |         VP    \n",
      " |     ____|___   \n",
      " NP   V        NP\n",
      " |    |        |  \n",
      "Sam likes     ham\n",
      "\n",
      "==> like(Sam, ham)\n"
     ]
    }
   ],
   "source": [
    "parse_and_interpret(\"Sam likes ham\", geah_grammar, geah_augmentations)"
   ]
  },
  {
   "cell_type": "markdown",
   "id": "307f3768",
   "metadata": {
    "id": "kfPU9-bM2I7e"
   },
   "source": [
    "# Semantics of ATIS queries\n",
    "\n",
    "Now you're in a good position to understand and add augmentations to a more comprehensive grammar, say, one that parses ATIS queries and generates SQL queries."
   ]
  },
  {
   "cell_type": "markdown",
   "id": "07995727",
   "metadata": {
    "id": "zBALH7ZHLjhh"
   },
   "source": [
    "## Corpus preprocessing\n",
    "\n",
    "To simplify things a bit, we'll only consider ATIS queries whose question type (remember that from project segment 1?) is `flight_id`. We've already downloaded the  training, development, and test splits for this subset of the ATIS corpus, including corresponding SQL queries. We now combine the NL queries and corresponding SQL queries into a single file for each split."
   ]
  },
  {
   "cell_type": "code",
   "execution_count": 26,
   "id": "0de32d4a",
   "metadata": {},
   "outputs": [],
   "source": [
    "# Process data into CSV files\n",
    "for split in ['train', 'dev', 'test']:\n",
    "    src_in_file = f'{data_path}{split}_flightid.nl'\n",
    "    tgt_in_file = f'{data_path}{split}_flightid.sql'\n",
    "    out_file = f'{data_path}{split}.csv'\n",
    "    \n",
    "    with open(src_in_file, 'r') as f_src_in, open(tgt_in_file, 'r') as f_tgt_in:\n",
    "        with open(out_file, 'w') as f_out:\n",
    "            src, tgt= [], []\n",
    "            writer = csv.writer(f_out)\n",
    "            writer.writerow(('src','tgt'))\n",
    "            for src_line, tgt_line in zip(f_src_in, f_tgt_in):\n",
    "                writer.writerow((src_line.strip(), tgt_line.strip()))"
   ]
  },
  {
   "cell_type": "markdown",
   "id": "43bb38e8",
   "metadata": {
    "id": "UW7A_icx3zjr"
   },
   "source": [
    "Let's take a look at an example of the merged data."
   ]
  },
  {
   "cell_type": "code",
   "execution_count": 27,
   "id": "73288266",
   "metadata": {
    "colab": {
     "base_uri": "https://localhost:8080/"
    },
    "id": "Ux_vIRC337FG",
    "outputId": "5e4ea6cd-e548-4bad-de03-a32da1a9326c"
   },
   "outputs": [
    {
     "name": "stdout",
     "output_type": "stream",
     "text": [
      "src,tgt\n",
      "list all the flights that arrive at general mitchell international from various cities,\"SELECT DISTINCT flight_1.flight_id FROM flight flight_1 , airport airport_1 , airport_service airport_service_1 , city city_1 WHERE flight_1.to_airport = airport_1.airport_code AND airport_1.airport_code = 'MKE' AND flight_1.from_airport = airport_service_1.airport_code AND airport_service_1.city_code = city_1.city_code AND 1 = 1\"\n"
     ]
    }
   ],
   "source": [
    "shell(\"head -2 data/train.csv\")"
   ]
  },
  {
   "cell_type": "markdown",
   "id": "40ad1f06",
   "metadata": {
    "id": "GxjjnghgCJ_b"
   },
   "source": [
    "We'll use `tokenizers` and `datasets` to process the data. We'll use the NLTK tokenizer from project segment 3."
   ]
  },
  {
   "cell_type": "code",
   "execution_count": 28,
   "id": "aff314a8",
   "metadata": {
    "colab": {
     "base_uri": "https://localhost:8080/"
    },
    "id": "HJeeHOqw2I7g",
    "outputId": "a35cf40a-c063-4a04-e954-fb5c3cbb7c42"
   },
   "outputs": [
    {
     "name": "stdout",
     "output_type": "stream",
     "text": [
      "['are', 'there', 'any', 'first-class', 'flights', 'from', 'st.', 'louis', 'at', '11', 'pm', 'for', 'less', 'than', '$3.50', '?']\n"
     ]
    }
   ],
   "source": [
    "## NLTK Tokenizer\n",
    "tokenizer_pattern = '\\d+|st\\.|[\\w-]+|\\$[\\d\\.]+|\\S+'\n",
    "nltk_tokenizer = nltk.tokenize.RegexpTokenizer(tokenizer_pattern)\n",
    "def tokenize_nltk(string):\n",
    "  return nltk_tokenizer.tokenize(string.lower())\n",
    "  \n",
    "## Demonstrating the tokenizer\n",
    "## Note especially the handling of `\"11pm\"` and hyphenated words.\n",
    "print(tokenize_nltk(\"Are there any first-class flights from St. Louis at 11pm for less than $3.50?\"))"
   ]
  },
  {
   "cell_type": "code",
   "execution_count": 29,
   "id": "78af9ac4",
   "metadata": {},
   "outputs": [
    {
     "data": {
      "application/vnd.jupyter.widget-view+json": {
       "model_id": "b4d35999f5044a71b77d3f9cdbcb8184",
       "version_major": 2,
       "version_minor": 0
      },
      "text/plain": [
       "Downloading data files:   0%|          | 0/3 [00:00<?, ?it/s]"
      ]
     },
     "metadata": {},
     "output_type": "display_data"
    },
    {
     "data": {
      "application/vnd.jupyter.widget-view+json": {
       "model_id": "73fc00a2f18a4887933dce3ae9ce1a2a",
       "version_major": 2,
       "version_minor": 0
      },
      "text/plain": [
       "Extracting data files:   0%|          | 0/3 [00:00<?, ?it/s]"
      ]
     },
     "metadata": {},
     "output_type": "display_data"
    },
    {
     "data": {
      "application/vnd.jupyter.widget-view+json": {
       "model_id": "ccad295a3e0d4e898c673f823591ffcb",
       "version_major": 2,
       "version_minor": 0
      },
      "text/plain": [
       "Generating train split: 0 examples [00:00, ? examples/s]"
      ]
     },
     "metadata": {},
     "output_type": "display_data"
    },
    {
     "data": {
      "application/vnd.jupyter.widget-view+json": {
       "model_id": "f64bfc3f1b6844d6bc68f8a2abd286a9",
       "version_major": 2,
       "version_minor": 0
      },
      "text/plain": [
       "Generating val split: 0 examples [00:00, ? examples/s]"
      ]
     },
     "metadata": {},
     "output_type": "display_data"
    },
    {
     "data": {
      "application/vnd.jupyter.widget-view+json": {
       "model_id": "78a87c148707426596b51ba7a7565da4",
       "version_major": 2,
       "version_minor": 0
      },
      "text/plain": [
       "Generating test split: 0 examples [00:00, ? examples/s]"
      ]
     },
     "metadata": {},
     "output_type": "display_data"
    },
    {
     "data": {
      "text/plain": [
       "DatasetDict({\n",
       "    train: Dataset({\n",
       "        features: ['src', 'tgt'],\n",
       "        num_rows: 3651\n",
       "    })\n",
       "    val: Dataset({\n",
       "        features: ['src', 'tgt'],\n",
       "        num_rows: 398\n",
       "    })\n",
       "    test: Dataset({\n",
       "        features: ['src', 'tgt'],\n",
       "        num_rows: 332\n",
       "    })\n",
       "})"
      ]
     },
     "execution_count": 29,
     "metadata": {},
     "output_type": "execute_result"
    }
   ],
   "source": [
    "dataset = load_dataset(\n",
    "    \"csv\",\n",
    "    data_files={\n",
    "        \"train\": f\"{data_path}train.csv\",\n",
    "        \"val\": f\"{data_path}dev.csv\",\n",
    "        \"test\": f\"{data_path}test.csv\",\n",
    "    },\n",
    ")\n",
    "dataset"
   ]
  },
  {
   "cell_type": "code",
   "execution_count": 30,
   "id": "ef5e98b0",
   "metadata": {},
   "outputs": [],
   "source": [
    "train_data = dataset['train']\n",
    "val_data = dataset['val']\n",
    "test_data = dataset['test']"
   ]
  },
  {
   "cell_type": "code",
   "execution_count": 31,
   "id": "49b944cf",
   "metadata": {},
   "outputs": [],
   "source": [
    "MIN_FREQ = 3\n",
    "unk_token = '[UNK]'\n",
    "pad_token = '[PAD]'\n",
    "bos_token = '<bos>'\n",
    "eos_token = '<eos>'\n",
    "\n",
    "## source tokenizer\n",
    "src_tokenizer = Tokenizer(WordLevel(unk_token=unk_token))\n",
    "src_tokenizer.normalizer = normalizers.Lowercase()\n",
    "src_tokenizer.pre_tokenizer = Split(Regex(tokenizer_pattern),\n",
    "                                    behavior='removed', \n",
    "                                    invert=True)\n",
    "\n",
    "src_trainer = WordLevelTrainer(min_frequency=MIN_FREQ, \n",
    "                               special_tokens=[pad_token, unk_token])\n",
    "src_tokenizer.train_from_iterator(train_data['src'], \n",
    "                                  trainer=src_trainer)\n",
    "\n",
    "## target tokenizer\n",
    "tgt_tokenizer = Tokenizer(WordLevel(unk_token=unk_token))\n",
    "tgt_tokenizer.pre_tokenizer = WhitespaceSplit()\n",
    "\n",
    "tgt_trainer = WordLevelTrainer(min_frequency=MIN_FREQ, \n",
    "                               special_tokens=[pad_token, unk_token, \n",
    "                                               bos_token, eos_token])\n",
    "tgt_tokenizer.train_from_iterator(train_data['tgt'], \n",
    "                                  trainer=tgt_trainer)\n",
    "tgt_tokenizer.post_processor = \\\n",
    "    TemplateProcessing(single=f\"{bos_token} $A {eos_token}\", \n",
    "                       special_tokens=[(bos_token,\n",
    "                                        tgt_tokenizer.token_to_id(bos_token)), \n",
    "                                       (eos_token, \n",
    "                                        tgt_tokenizer.token_to_id(eos_token))])"
   ]
  },
  {
   "cell_type": "markdown",
   "id": "b75801d8",
   "metadata": {},
   "source": [
    "Note that we prepended `<bos>` and appended `<eos>` to target sentences.\n",
    "\n",
    "We use `datasets.Dataset.map` to convert text into word ids. As shown in lab 1-5, first we need to wrap `tokenizer` with the `transformers.PreTrainedTokenizerFast` class to be compatible with the `datasets` library."
   ]
  },
  {
   "cell_type": "code",
   "execution_count": 32,
   "id": "d7597fbd",
   "metadata": {},
   "outputs": [
    {
     "name": "stderr",
     "output_type": "stream",
     "text": [
      "/opt/anaconda3/envs/cs187/lib/python3.8/site-packages/transformers/tokenization_utils_base.py:1617: FutureWarning: `clean_up_tokenization_spaces` was not set. It will be set to `True` by default. This behavior will be deprecated in transformers v4.45, and will be then set to `False` by default. For more details check this issue: https://github.com/huggingface/transformers/issues/31884\n",
      "  warnings.warn(\n"
     ]
    },
    {
     "data": {
      "application/vnd.jupyter.widget-view+json": {
       "model_id": "ab157ffd65c64b779d5e6ed6a8b532ac",
       "version_major": 2,
       "version_minor": 0
      },
      "text/plain": [
       "Map:   0%|          | 0/3651 [00:00<?, ? examples/s]"
      ]
     },
     "metadata": {},
     "output_type": "display_data"
    },
    {
     "data": {
      "application/vnd.jupyter.widget-view+json": {
       "model_id": "16e3c3750681401bb897d91ccff3a3ee",
       "version_major": 2,
       "version_minor": 0
      },
      "text/plain": [
       "Map:   0%|          | 0/398 [00:00<?, ? examples/s]"
      ]
     },
     "metadata": {},
     "output_type": "display_data"
    },
    {
     "data": {
      "application/vnd.jupyter.widget-view+json": {
       "model_id": "09968de6587a4d859daa93c1a6f411f3",
       "version_major": 2,
       "version_minor": 0
      },
      "text/plain": [
       "Map:   0%|          | 0/332 [00:00<?, ? examples/s]"
      ]
     },
     "metadata": {},
     "output_type": "display_data"
    }
   ],
   "source": [
    "hf_src_tokenizer = PreTrainedTokenizerFast(tokenizer_object=src_tokenizer, \n",
    "                                           pad_token=pad_token)\n",
    "hf_tgt_tokenizer = PreTrainedTokenizerFast(tokenizer_object=tgt_tokenizer,\n",
    "                                           pad_token=pad_token)\n",
    "\n",
    "def encode(example):\n",
    "    example['src_ids'] = hf_src_tokenizer(example['src']).input_ids\n",
    "    example['tgt_ids'] = hf_tgt_tokenizer(example['tgt']).input_ids\n",
    "    return example\n",
    "\n",
    "train_data = train_data.map(encode)\n",
    "val_data = val_data.map(encode)\n",
    "test_data = test_data.map(encode)"
   ]
  },
  {
   "cell_type": "code",
   "execution_count": 33,
   "id": "8621c884",
   "metadata": {},
   "outputs": [
    {
     "name": "stdout",
     "output_type": "stream",
     "text": [
      "Size of English vocab: 421\n",
      "Size of SQL vocab: 392\n",
      "Index for src padding: 0\n",
      "Index for tgt padding: 0\n",
      "Index for start of sequence token: 2\n",
      "Index for end of sequence token: 3\n"
     ]
    }
   ],
   "source": [
    "# Compute size of vocabulary\n",
    "src_vocab = src_tokenizer.get_vocab()\n",
    "tgt_vocab = tgt_tokenizer.get_vocab()\n",
    "\n",
    "print(f\"Size of English vocab: {len(src_vocab)}\")\n",
    "print(f\"Size of SQL vocab: {len(tgt_vocab)}\")\n",
    "print(f\"Index for src padding: {src_vocab[pad_token]}\")\n",
    "print(f\"Index for tgt padding: {tgt_vocab[pad_token]}\")\n",
    "print(f\"Index for start of sequence token: {tgt_vocab[bos_token]}\")\n",
    "print(f\"Index for end of sequence token: {tgt_vocab[eos_token]}\")"
   ]
  },
  {
   "cell_type": "markdown",
   "id": "548a7a1a",
   "metadata": {},
   "source": [
    "Next, we batch our data to facilitate processing on a GPU. \n",
    "Batching is a bit tricky because the source and target will typically be of different lengths and we have to pad the sequences to the same length.\n",
    "Since there is  padding, we need to handle them with [`pack`](https://pytorch.org/docs/stable/generated/torch.nn.utils.rnn.pack_padded_sequence.html#torch.nn.utils.rnn.pack_padded_sequence) and [`unpack`](https://pytorch.org/docs/stable/generated/torch.nn.utils.rnn.pad_packed_sequence.html) later on in the seq2seq part (as in lab 4-4 and 4-5). "
   ]
  },
  {
   "cell_type": "code",
   "execution_count": 34,
   "id": "36d8c8ed",
   "metadata": {
    "id": "lnoY1oIj37bC"
   },
   "outputs": [],
   "source": [
    "BATCH_SIZE = 16     # batch size for training and validation\n",
    "TEST_BATCH_SIZE = 1 # batch size for test; we use 1 to make implementation easier\n",
    "\n",
    "# Defines how to batch a list of examples together\n",
    "def collate_fn(examples):\n",
    "    batch = {}\n",
    "    bsz = len(examples)\n",
    "    src_ids, tgt_ids = [], []\n",
    "    for example in examples:\n",
    "        src_ids.append(example['src_ids'])\n",
    "        tgt_ids.append(example['tgt_ids'])\n",
    "\n",
    "    src_len = torch.LongTensor([len(word_ids) for word_ids in src_ids]).to(device)\n",
    "    src_max_length = max(src_len)\n",
    "    tgt_max_length = max([len(word_ids) for word_ids in tgt_ids])\n",
    "\n",
    "    src_batch = torch.zeros(bsz, src_max_length).long().fill_(src_vocab[pad_token]).to(device)\n",
    "    tgt_batch = torch.zeros(bsz, tgt_max_length).long().fill_(tgt_vocab[pad_token]).to(device)\n",
    "    for b in range(bsz):\n",
    "        src_batch[b][:len(src_ids[b])] = torch.LongTensor(src_ids[b]).to(device)\n",
    "        tgt_batch[b][:len(tgt_ids[b])] = torch.LongTensor(tgt_ids[b]).to(device)\n",
    "    \n",
    "    batch['src_lengths'] = src_len\n",
    "    batch['src_ids'] = src_batch\n",
    "    batch['tgt_ids'] = tgt_batch\n",
    "    return batch\n",
    "\n",
    "train_iter = torch.utils.data.DataLoader(train_data, \n",
    "                                         batch_size=BATCH_SIZE, \n",
    "                                         shuffle=True, \n",
    "                                         collate_fn=collate_fn)\n",
    "val_iter = torch.utils.data.DataLoader(val_data, \n",
    "                                       batch_size=BATCH_SIZE, \n",
    "                                       shuffle=False, \n",
    "                                       collate_fn=collate_fn)\n",
    "test_iter = torch.utils.data.DataLoader(test_data, \n",
    "                                        batch_size=TEST_BATCH_SIZE, \n",
    "                                        shuffle=False, \n",
    "                                        collate_fn=collate_fn)"
   ]
  },
  {
   "cell_type": "markdown",
   "id": "26641bb1",
   "metadata": {
    "id": "kVzpFHVRKM1k"
   },
   "source": [
    "Let's look at a single batch from one of these iterators."
   ]
  },
  {
   "cell_type": "code",
   "execution_count": 35,
   "id": "a647094e",
   "metadata": {
    "colab": {
     "base_uri": "https://localhost:8080/"
    },
    "id": "SeEpkHdiKVYV",
    "outputId": "f5bdc461-ca25-4084-91a4-df3071a4ab65"
   },
   "outputs": [
    {
     "name": "stdout",
     "output_type": "stream",
     "text": [
      "Size of text batch: torch.Size([16, 30])\n",
      "Third sentence in batch: tensor([ 9,  7,  4,  3, 13, 16,  2, 11,  6, 69,  0,  0,  0,  0,  0,  0,  0,  0,\n",
      "         0,  0,  0,  0,  0,  0,  0,  0,  0,  0,  0,  0])\n",
      "Length of the third sentence in batch: 30\n",
      "Converted back to string: show me flights from san francisco to boston on thursday [PAD] [PAD] [PAD] [PAD] [PAD] [PAD] [PAD] [PAD] [PAD] [PAD] [PAD] [PAD] [PAD] [PAD] [PAD] [PAD] [PAD] [PAD] [PAD] [PAD]\n",
      "Size of sql batch: torch.Size([16, 153])\n",
      "Third sql in batch: tensor([  2,  14,  31,  11,  13,  12,  16,   6,   7,  22,   6,   8,  23,   6,\n",
      "          7,  29,   6,   8,  30,   6,  33,  40,   6,  38,  46,  15,  21,   4,\n",
      "         18,   5,  19,   4,  17,   5,  20,   4,  54,  56,   5,   9,  24,   4,\n",
      "         25,   5,  26,   4,  27,   5,  28,   4,  52,   5,  34,   4,  36,   5,\n",
      "         37,   4,  41,   5,  44,   4,  35,   5,  43,   4, 103,   5,  42,   4,\n",
      "        126,  10,   3,   0,   0,   0,   0,   0,   0,   0,   0,   0,   0,   0,\n",
      "          0,   0,   0,   0,   0,   0,   0,   0,   0,   0,   0,   0,   0,   0,\n",
      "          0,   0,   0,   0,   0,   0,   0,   0,   0,   0,   0,   0,   0,   0,\n",
      "          0,   0,   0,   0,   0,   0,   0,   0,   0,   0,   0,   0,   0,   0,\n",
      "          0,   0,   0,   0,   0,   0,   0,   0,   0,   0,   0,   0,   0,   0,\n",
      "          0,   0,   0,   0,   0,   0,   0,   0,   0,   0,   0,   0,   0])\n",
      "Converted back to string: <bos> SELECT DISTINCT flight_1.flight_id FROM flight flight_1 , airport_service airport_service_1 , city city_1 , airport_service airport_service_2 , city city_2 , days days_1 , date_day date_day_1 WHERE flight_1.from_airport = airport_service_1.airport_code AND airport_service_1.city_code = city_1.city_code AND city_1.city_name = 'SAN FRANCISCO' AND ( flight_1.to_airport = airport_service_2.airport_code AND airport_service_2.city_code = city_2.city_code AND city_2.city_name = 'BOSTON' AND flight_1.flight_days = days_1.days_code AND days_1.day_name = date_day_1.day_name AND date_day_1.year = 1991 AND date_day_1.month_number = 5 AND date_day_1.day_number = 24 ) <eos> [PAD] [PAD] [PAD] [PAD] [PAD] [PAD] [PAD] [PAD] [PAD] [PAD] [PAD] [PAD] [PAD] [PAD] [PAD] [PAD] [PAD] [PAD] [PAD] [PAD] [PAD] [PAD] [PAD] [PAD] [PAD] [PAD] [PAD] [PAD] [PAD] [PAD] [PAD] [PAD] [PAD] [PAD] [PAD] [PAD] [PAD] [PAD] [PAD] [PAD] [PAD] [PAD] [PAD] [PAD] [PAD] [PAD] [PAD] [PAD] [PAD] [PAD] [PAD] [PAD] [PAD] [PAD] [PAD] [PAD] [PAD] [PAD] [PAD] [PAD] [PAD] [PAD] [PAD] [PAD] [PAD] [PAD] [PAD] [PAD] [PAD] [PAD] [PAD] [PAD] [PAD] [PAD] [PAD] [PAD] [PAD] [PAD] [PAD] [PAD]\n"
     ]
    }
   ],
   "source": [
    "batch = next(iter(train_iter))\n",
    "src_ids = batch['src_ids']\n",
    "src_example = src_ids[2]\n",
    "print (f\"Size of text batch: {src_ids.size()}\")\n",
    "print (f\"Third sentence in batch: {src_example}\")\n",
    "print (f\"Length of the third sentence in batch: {len(src_example)}\")\n",
    "print (f\"Converted back to string: {hf_src_tokenizer.decode(src_example)}\")\n",
    "\n",
    "tgt_ids = batch['tgt_ids']\n",
    "tgt_example = tgt_ids[2]\n",
    "print (f\"Size of sql batch: {tgt_ids.size()}\")\n",
    "print (f\"Third sql in batch: {tgt_example}\")\n",
    "print (f\"Converted back to string: {hf_tgt_tokenizer.decode(tgt_example)}\")"
   ]
  },
  {
   "cell_type": "markdown",
   "id": "360ca0a0",
   "metadata": {
    "id": "LZe96xm-tx2-"
   },
   "source": [
    "Alternatively, we can directly iterate over the raw examples, as demonstrated here:"
   ]
  },
  {
   "cell_type": "code",
   "execution_count": 36,
   "id": "4e1c9898",
   "metadata": {
    "colab": {
     "base_uri": "https://localhost:8080/"
    },
    "id": "V6yIqRmwt2FA",
    "outputId": "72e8d078-902f-4c68-f7d9-e5272d09d0b6"
   },
   "outputs": [
    {
     "name": "stdout",
     "output_type": "stream",
     "text": [
      "Question: list all the flights that arrive at general mitchell international from various cities\n",
      "\n",
      "SQL: SELECT DISTINCT flight_1.flight_id FROM flight flight_1 , airport airport_1 , airport_service airport_service_1 , city city_1 WHERE flight_1.to_airport = airport_1.airport_code AND airport_1.airport_code = 'MKE' AND flight_1.from_airport = airport_service_1.airport_code AND airport_service_1.city_code = city_1.city_code AND 1 = 1\n"
     ]
    }
   ],
   "source": [
    "for _, example in zip(range(1), train_data):\n",
    "  train_text_1 = example['src'] # detokenized question\n",
    "  train_sql_1 = example['tgt']  # detokenized sql\n",
    "  print (f\"Question: {train_text_1}\\n\")\n",
    "  print (f\"SQL: {train_sql_1}\")"
   ]
  },
  {
   "cell_type": "markdown",
   "id": "9083dff6",
   "metadata": {
    "id": "Vp_CdmJC5ZY2"
   },
   "source": [
    "## Establishing a SQL database for evaluating ATIS queries\n",
    "\n",
    "The output of our systems will be SQL queries. How should we determine if the generated queries are correct? We can't merely compare against the gold SQL queries, since there are many ways to implement a SQL query that answers any given NL query.\n",
    "\n",
    "Instead, we will execute the queries – both the predicted SQL query and the gold SQL query – on an actual database, and verify that the returned responses are the same. For that purpose, we need a SQL database server to use. We'll set one up here, using the [Python `sqlite3` module](https://docs.python.org/3.8/library/sqlite3.html)."
   ]
  },
  {
   "cell_type": "code",
   "execution_count": 37,
   "id": "10e67e5c",
   "metadata": {
    "id": "yW2XrPpm2I7l"
   },
   "outputs": [],
   "source": [
    "@func_set_timeout(TIMEOUT)\n",
    "def execute_sql(sql):\n",
    "  conn = sqlite3.connect('data/atis_sqlite.db')  # establish the DB based on the downloaded data\n",
    "  c = conn.cursor()                              # build a \"cursor\"\n",
    "  c.execute(sql)\n",
    "  results = list(c.fetchall())\n",
    "  c.close()\n",
    "  conn.close()\n",
    "  return results"
   ]
  },
  {
   "cell_type": "markdown",
   "id": "42e93e5f",
   "metadata": {
    "id": "qil-nmhc2I7l"
   },
   "source": [
    "To run a query, we use the cursor's `execute` function, and retrieve the results with `fetchall`. Let's get all the flights that arrive at General Mitchell International – the query `train_sql_1` above. There's a lot, so we'll just print out the first few."
   ]
  },
  {
   "cell_type": "code",
   "execution_count": 38,
   "id": "717eb852",
   "metadata": {
    "colab": {
     "base_uri": "https://localhost:8080/"
    },
    "id": "rfPRGxxf2I7m",
    "outputId": "0632f299-9567-48c0-8aec-47a3f7b53f8d"
   },
   "outputs": [
    {
     "name": "stdout",
     "output_type": "stream",
     "text": [
      "\n",
      "Executing: SELECT DISTINCT flight_1.flight_id FROM flight flight_1 , airport airport_1 , airport_service airport_service_1 , city city_1 WHERE flight_1.to_airport = airport_1.airport_code AND airport_1.airport_code = 'MKE' AND flight_1.from_airport = airport_service_1.airport_code AND airport_service_1.city_code = city_1.city_code AND 1 = 1\n",
      "\n",
      "Result: 534 entries starting with\n",
      "\n",
      "[(107929,), (107930,), (107931,), (107932,), (107933,), (107934,), (107935,), (107936,), (107937,), (107938,)]\n",
      "\n"
     ]
    }
   ],
   "source": [
    "predicted_ret = execute_sql(train_sql_1)\n",
    "\n",
    "print(f\"\"\"\n",
    "Executing: {train_sql_1}\n",
    "\n",
    "Result: {len(predicted_ret)} entries starting with\n",
    "\n",
    "{predicted_ret[:10]}\n",
    "\"\"\"\n",
    ")"
   ]
  },
  {
   "cell_type": "markdown",
   "id": "1cdfaa3a",
   "metadata": {
    "id": "7T8eGnD42I7m"
   },
   "source": [
    "For your reference, the SQL database we are using has a database schema described at https://github.com/jkkummerfeld/text2sql-data/blob/master/data/atis-schema.csv, and is consistent with the SQL queries provided in the various `.sql` files loaded above."
   ]
  },
  {
   "cell_type": "markdown",
   "id": "e81442cf",
   "metadata": {
    "deletable": false,
    "editable": false,
    "id": "0Mri4_xjCecY"
   },
   "source": [
    "# Rule-based parsing and interpretation of ATIS queries\n",
    "\n",
    "First, you will implement a rule-based semantic parser using a grammar like the one you completed in the third project segment. We've placed an initial grammar in the file `data/grammar`.\n",
    "In addition to the helper functions defined above (`constant`, `first`, etc.), it makes use of some other simple functions. We've included those below, but you can (and almost certainly should) augment this set with others that you define as you build out the full set of augmentations.\n",
    "\n",
    "<!--\n",
    "BEGIN QUESTION\n",
    "name: helper_functions\n",
    "-->"
   ]
  },
  {
   "cell_type": "code",
   "execution_count": 39,
   "id": "b723d151",
   "metadata": {
    "id": "_UwunFRs2I7o"
   },
   "outputs": [],
   "source": [
    "def upper(term):\n",
    "  return '\"' + term.upper() + '\"'\n",
    "\n",
    "def weekday(day):\n",
    "  return f\"flight.flight_days IN (SELECT days.days_code FROM days WHERE days.day_name = '{day.upper()}')\"\n",
    "\n",
    "def month_name(month):\n",
    "  return {'JANUARY' : 1,\n",
    "          'FEBRUARY' : 2,\n",
    "          'MARCH' : 3,\n",
    "          'APRIL' : 4,\n",
    "          'MAY' : 5,\n",
    "          'JUNE' : 6,\n",
    "          'JULY' : 7,\n",
    "          'AUGUST' : 8,\n",
    "          'SEPTEMBER' : 9,\n",
    "          'OCTOBER' : 10,\n",
    "          'NOVEMBER' : 11,\n",
    "          'DECEMBER' : 12}[month.upper()]\n",
    "\n",
    "def airports_from_airport_name(airport_name):\n",
    "  return f\"(SELECT airport.airport_code FROM airport WHERE airport.airport_name = {upper(airport_name)})\"\n",
    "\n",
    "def airports_from_city(city):\n",
    "  return f\"\"\"\n",
    "    (SELECT airport_service.airport_code FROM airport_service WHERE airport_service.city_code IN\n",
    "      (SELECT city.city_code FROM city WHERE city.city_name = {upper(city)}))\n",
    "  \"\"\"\n",
    "\n",
    "def null_condition(*args, **kwargs):\n",
    "  return 1\n",
    "\n",
    "def depart_around(time):\n",
    "  return f\"\"\"\n",
    "    flight.departure_time >= {add_delta(miltime(time), -15).strftime('%H%M')}\n",
    "    AND flight.departure_time <= {add_delta(miltime(time), 15).strftime('%H%M')}\n",
    "    \"\"\".strip()\n",
    "\n",
    "def add_delta(tme, delta):\n",
    "    # transform to a full datetime first\n",
    "    return (datetime.datetime.combine(datetime.date.today(), tme) + \n",
    "            datetime.timedelta(minutes=delta)).time()\n",
    "\n",
    "def miltime(minutes):\n",
    "  return datetime.time(hour=int(minutes/100), minute=(minutes % 100))\n"
   ]
  },
  {
   "cell_type": "markdown",
   "id": "9c99c8f4",
   "metadata": {
    "id": "_cDMyygB2I7p"
   },
   "source": [
    "We can build a parser with the augmented grammar:"
   ]
  },
  {
   "cell_type": "code",
   "execution_count": 40,
   "id": "2df01f8f",
   "metadata": {
    "id": "ffnITiTa2I7p"
   },
   "outputs": [],
   "source": [
    "atis_grammar, atis_augmentations = xform.read_augmented_grammar('data/grammar', globals=globals())\n",
    "atis_parser = nltk.parse.BottomUpChartParser(atis_grammar)"
   ]
  },
  {
   "cell_type": "markdown",
   "id": "c5ff11fa",
   "metadata": {
    "id": "W5r324z-2I73"
   },
   "source": [
    "We'll define a function to return a parse tree for a string according to the ATIS grammar (if available). If there's more than one, we just return the first one we find — essentially a random choice."
   ]
  },
  {
   "cell_type": "code",
   "execution_count": 41,
   "id": "d35ebd19",
   "metadata": {
    "id": "e_oEe9-K2I74"
   },
   "outputs": [],
   "source": [
    "def parse_tree(sentence):\n",
    "  \"\"\"Parse a sentence and return the parse tree, or None if failure.\"\"\"\n",
    "  try:\n",
    "    parses = list(atis_parser.parse(tokenize_nltk(sentence)))\n",
    "    if len(parses) == 0:\n",
    "      return None\n",
    "    else:\n",
    "      return parses[0]\n",
    "  except:\n",
    "    return None"
   ]
  },
  {
   "cell_type": "markdown",
   "id": "a35ae77b",
   "metadata": {
    "id": "dkR03Lhr2I75"
   },
   "source": [
    "We can check the overall coverage of this grammar on the training set by using the `parse_tree` function to determine if a parse is available. The grammar that we provide should get about a 44% coverage of the training set."
   ]
  },
  {
   "cell_type": "code",
   "execution_count": 42,
   "id": "b699b407",
   "metadata": {
    "colab": {
     "base_uri": "https://localhost:8080/"
    },
    "id": "ki0b_BwT2I76",
    "outputId": "da92e37b-59e8-43d3-c986-f796a2cae758"
   },
   "outputs": [
    {
     "data": {
      "application/vnd.jupyter.widget-view+json": {
       "model_id": "2d9ac10776694b9bb156ff327ffccc08",
       "version_major": 2,
       "version_minor": 0
      },
      "text/plain": [
       "  0%|          | 0/3651 [00:00<?, ?it/s]"
      ]
     },
     "metadata": {},
     "output_type": "display_data"
    },
    {
     "name": "stdout",
     "output_type": "stream",
     "text": [
      "\n",
      "Parsed 1609 of 3651 (44.07%)\n"
     ]
    }
   ],
   "source": [
    "def check_coverage(sentence_file):\n",
    "    \"\"\" Tests the coverage of the grammar on the sentences in the \n",
    "    file `sentence_file`. Returns the number of sentences that parse \n",
    "    as well as the total number of sentences in the file\n",
    "    \"\"\"\n",
    "    parsed = 0\n",
    "    with open(sentence_file) as sentences:\n",
    "        sentences = sentences.readlines()[:]\n",
    "    for sentence in tqdm(sentences):\n",
    "        if parse_tree(sentence):\n",
    "            parsed += 1\n",
    "        else:\n",
    "            next\n",
    "    return parsed, len(sentences)\n",
    "\n",
    "\n",
    "# Check coverage on training set\n",
    "parsed, total = check_coverage(f\"{data_path}/train_flightid.nl\")\n",
    "\n",
    "print(f\"\\nParsed {parsed} of {total} ({parsed*100/total:.2f}%)\")"
   ]
  },
  {
   "cell_type": "markdown",
   "id": "e0f9f2ee",
   "metadata": {
    "id": "qF12SmJbDsYb"
   },
   "source": [
    "## Goal 1: Construct SQL queries from a parse tree and evaluate the results"
   ]
  },
  {
   "cell_type": "markdown",
   "id": "699f1264",
   "metadata": {
    "id": "5iqruasFCaws"
   },
   "source": [
    "It's time to turn to the first major part of this project segment, implementing a rule-based semantic parsing system to answer flight-ID-type ATIS queries.\n",
    "\n",
    "Recall that in rule-based semantic parsing, each syntactic rule is associated with a semantic composition rule. The grammar we've provided has semantic augmentations for some of the low-level phrases – cities, airports, times, airlines – but not the higher level syntactic types. You'll be adding those. \n",
    "\n",
    "In the ATIS grammar that we provide, as with the earlier toy grammars, the augmentation for a rule with $n$ nonterminals and $m$ terminals on the right-hand side is assumed to be called with $n$ positional arguments (the values for the corresponding children). The `interpret` function you've already defined should therefore work well with this grammar.\n",
    "\n",
    "Let's run through one way that a semantic derivation might proceed, for the sample query \"flights to boston\":"
   ]
  },
  {
   "cell_type": "code",
   "execution_count": 43,
   "id": "1f05f977",
   "metadata": {
    "colab": {
     "base_uri": "https://localhost:8080/"
    },
    "id": "emXhj_XN2I75",
    "outputId": "9c1732d9-6625-4ffb-bcd1-9aa8e2b80da6"
   },
   "outputs": [
    {
     "name": "stdout",
     "output_type": "stream",
     "text": [
      "['flights', 'to', 'boston']\n",
      "                S                         \n",
      "                |                          \n",
      "            NP_FLIGHT                     \n",
      "                |                          \n",
      "            NOM_FLIGHT                    \n",
      "                |                          \n",
      "             N_FLIGHT                     \n",
      "      __________|_________                 \n",
      "     |                    PP              \n",
      "     |                    |                \n",
      "     |                 PP_PLACE           \n",
      "     |           _________|_________       \n",
      "  N_FLIGHT      |                N_PLACE  \n",
      "     |          |                   |      \n",
      "TERM_FLIGHT  P_PLACE            TERM_PLACE\n",
      "     |          |                   |      \n",
      "  flights       to                boston  \n",
      "\n"
     ]
    }
   ],
   "source": [
    "sample_query = \"flights to boston\"\n",
    "print(tokenize_nltk(sample_query))\n",
    "sample_tree = parse_tree(sample_query)\n",
    "sample_tree.pretty_print()"
   ]
  },
  {
   "cell_type": "markdown",
   "id": "5d7af180",
   "metadata": {
    "id": "XUtOag-e2I78"
   },
   "source": [
    "Given a sentence, we first construct its parse tree using the syntactic rules, then compose the corresponding semantic rules bottom-up, until eventually we arrive at the root node with a finished SQL statement. For this query, we will go through what the possible meaning representations for the subconstituents of \"flights to boston\" might be. But this is just one way of doing things; other ways are possible, and you should feel free to experiment.\n",
    "\n",
    "Working from bottom up:\n",
    "\n",
    "1. The `TERM_PLACE` phrase \"boston\" uses the composition function template `constant(airports_from_city(' '.join(_RHS)))`, which will be instantiated as `constant(airports_from_city(' '.join(['boston'])))` (recall that `_RHS` is replaced by the right-hand side of the rule). The meaning of `TERM_PLACE` will be the SQL snippet\n",
    "```\n",
    "SELECT airport_service.airport_code \n",
    "FROM airport_service \n",
    "WHERE airport_service.city_code IN\n",
    "    (SELECT city.city_code \n",
    "     FROM city \n",
    "     WHERE city.city_name = \"BOSTON\")\n",
    "```\n",
    "(This query generates a list of all of the airports in Boston.)\n",
    "\n",
    "2. The `N_PLACE` phrase \"boston\" can have the same meaning as the `TERM_PLACE`.\n",
    "\n",
    "3. The `P_PLACE` phrase \"to\" might be associated with a function that maps a SQL query for a list of airports to a SQL condition that holds of flights that go to one of those airports, i.e., `flight.to_airport IN (...)`.\n",
    "\n",
    "4. The `PP_PLACE` phrase \"to boston\" might apply the `P_PLACE` meaning to the `TERM_PLACE` meaning, thus generating a SQL condition that holds of flights that go to one of the Boston airports:\n",
    "```\n",
    "flight.to_airport IN\n",
    "    (SELECT airport_service.airport_code \n",
    "     FROM airport_service \n",
    "     WHERE airport_service.city_code IN\n",
    "         (SELECT city.city_code \n",
    "          FROM city \n",
    "          WHERE city.city_name = \"BOSTON\"))\n",
    "```\n",
    "\n",
    "5. The `PP` phrase \"to Boston\" can again get its meaning from the `PP_PLACE`.\n",
    "\n",
    "6. The `TERM_FLIGHT` phrase \"flights\" might also return a condition on flights, this time the \"null condition\", represented by the SQL truth value `1`. Ditto for the `N_FLIGHT` phrase \"flights\".\n",
    "\n",
    "7. The `N_FLIGHT` phrase \"flights to boston\" can conjoin the two conditions, yielding the SQL condition\n",
    "```\n",
    "flight.to_airport IN\n",
    "    (SELECT airport_service.airport_code \n",
    "     FROM airport_service \n",
    "     WHERE airport_service.city_code IN\n",
    "         (SELECT city.city_code \n",
    "          FROM city \n",
    "          WHERE city.city_name = \"BOSTON\"))\n",
    "AND 1\n",
    "```\n",
    "which can be inherited by the `NOM_FLIGHT` and `NP_FLIGHT` phrases.\n",
    "\n",
    "8. The `S` phrase \"flights to boston\" can use the condition provided by the `NP_FLIGHT` phrase to select all flights satisfying the condition with a SQL query like\n",
    "```\n",
    "SELECT DISTINCT flight.flight_id\n",
    "FROM flight\n",
    "WHERE flight.to_airport IN\n",
    "        (SELECT airport_service.airport_code \n",
    "         FROM airport_service \n",
    "         WHERE airport_service.city_code IN\n",
    "             (SELECT city.city_code \n",
    "              FROM city \n",
    "              WHERE city.city_name = \"BOSTON\"))\n",
    "      AND 1\n",
    "```\n",
    "\n",
    "This SQL query is then taken to be a representation of the meaning for the NL query \"flights to boston\", and can be executed against the ATIS database to retrieve the requested flights."
   ]
  },
  {
   "cell_type": "markdown",
   "id": "214bb52e",
   "metadata": {
    "id": "MlLiq50V2I78"
   },
   "source": [
    "Now, it's your turn to add augmentations to `data/grammar` to make this example work. The augmentations that we have provided for the grammar make use of a set of auxiliary functions that we defined above. You should feel free to add your own auxiliary functions that you make use of in the grammar."
   ]
  },
  {
   "cell_type": "code",
   "execution_count": 44,
   "id": "f796fc60",
   "metadata": {
    "id": "3T3b43eHBTtq"
   },
   "outputs": [
    {
     "name": "stdout",
     "output_type": "stream",
     "text": [
      "Predicted SQL:\n",
      "\n",
      " SELECT DISTINCT flight.flight_id FROM flight WHERE flight.to_airport IN (\n",
      "    (SELECT airport_service.airport_code FROM airport_service WHERE airport_service.city_code IN\n",
      "      (SELECT city.city_code FROM city WHERE city.city_name = \"BOSTON\"))\n",
      "  ) AND 1 \n",
      "\n"
     ]
    }
   ],
   "source": [
    "#TODO: add augmentations to `data/grammar` to make this example work\n",
    "atis_grammar, atis_augmentations = xform.read_augmented_grammar(f\"{data_path}grammar\", globals=globals())\n",
    "atis_parser = nltk.parse.BottomUpChartParser(atis_grammar)\n",
    "predicted_sql = interpret(sample_tree, atis_augmentations)\n",
    "print(\"Predicted SQL:\\n\\n\", predicted_sql, \"\\n\")"
   ]
  },
  {
   "cell_type": "markdown",
   "id": "7f652ad7",
   "metadata": {
    "id": "3T3b43eHBTts"
   },
   "source": [
    "#### Verification on some examples\n",
    "\n",
    "With a rule-based semantic parsing system, we can generate SQL queries given questions, and then execute those queries on a SQL database to answer the given questions. To evaluate the performance of the system, we compare the returned results against the results of executing the ground truth queries.\n",
    "\n",
    "We provide a function `verify` to compare the results from our generated SQL to the ground truth SQL. It should be useful for testing individual queries."
   ]
  },
  {
   "cell_type": "code",
   "execution_count": 45,
   "id": "ababa3b4",
   "metadata": {
    "id": "zMGUCce9BXEd"
   },
   "outputs": [],
   "source": [
    "def verify(predicted_sql, gold_sql, silent=True):\n",
    "    \"\"\"\n",
    "    Compare the correctness of the `predicted_sql` by executing on the\n",
    "    ATIS database and comparing the returned results to the`gold_sql`.\n",
    "    Arguments:\n",
    "        predicted_sql: the predicted SQL query\n",
    "        gold_sql: the reference SQL query to compare against\n",
    "        silent: print outputs or not\n",
    "    Returns: \n",
    "        True if the returned results are the same, otherwise False\n",
    "    \"\"\"\n",
    "    # Execute predicted SQL\n",
    "    try:\n",
    "        predicted_result = execute_sql(predicted_sql)\n",
    "    except BaseException as e:\n",
    "        if not silent:\n",
    "            print(f\"predicted sql exec failed: {e}\")\n",
    "        return False\n",
    "    if not silent:\n",
    "        print(\"Predicted DB result:\\n\\n\", predicted_result[:10], \"\\n\")\n",
    "\n",
    "    # Execute gold SQL\n",
    "    try:\n",
    "        gold_result = execute_sql(gold_sql)\n",
    "    except BaseException as e:\n",
    "        if not silent:\n",
    "            print(f\"gold sql exec failed: {e}\")\n",
    "        return False\n",
    "    if not silent:\n",
    "        print(\"Gold DB result:\\n\\n\", gold_result[:10], \"\\n\")\n",
    "\n",
    "    # Verify correctness\n",
    "    if gold_result == predicted_result:\n",
    "        return True"
   ]
  },
  {
   "cell_type": "markdown",
   "id": "5fb49566",
   "metadata": {
    "id": "zoConst9BQSg"
   },
   "source": [
    "Let's try this methodology on a simple example: \"flights from phoenix to milwaukee\". we provide it along with the gold SQL query."
   ]
  },
  {
   "cell_type": "code",
   "execution_count": 46,
   "id": "2a120db9",
   "metadata": {
    "id": "JZNW0pWxBiyj"
   },
   "outputs": [],
   "source": [
    "def rule_based_trial(sentence, gold_sql):\n",
    "    print(\"Sentence: \", sentence, \"\\n\")\n",
    "    tree = parse_tree(sentence)\n",
    "    print(\"Parse:\\n\\n\")\n",
    "    tree.pretty_print()\n",
    "\n",
    "    predicted_sql = interpret(tree, atis_augmentations)\n",
    "    print(\"Predicted SQL:\\n\\n\", predicted_sql, \"\\n\")\n",
    "\n",
    "    if verify(predicted_sql, gold_sql, silent=False):\n",
    "        print(\"Correct!\")\n",
    "    else:\n",
    "        print(\"Incorrect!\")"
   ]
  },
  {
   "cell_type": "code",
   "execution_count": 47,
   "id": "0fc5530e",
   "metadata": {
    "id": "rkk6_Zkv2I8_"
   },
   "outputs": [],
   "source": [
    "# Run this cell to reload augmentations after you make changes to `data/grammar`\n",
    "atis_grammar, atis_augmentations = xform.read_augmented_grammar(f\"{data_path}grammar\", globals=globals())\n",
    "atis_parser = nltk.parse.BottomUpChartParser(atis_grammar)"
   ]
  },
  {
   "cell_type": "code",
   "execution_count": 48,
   "id": "12bc942b",
   "metadata": {
    "colab": {
     "base_uri": "https://localhost:8080/"
    },
    "id": "rkk6_Zkv2I7_",
    "outputId": "866a2814-dfb9-4f8f-9b66-ced4689566c2"
   },
   "outputs": [
    {
     "name": "stdout",
     "output_type": "stream",
     "text": [
      "Sentence:  flights from phoenix to milwaukee \n",
      "\n",
      "Parse:\n",
      "\n",
      "\n",
      "                                  S                                 \n",
      "                                  |                                  \n",
      "                              NP_FLIGHT                             \n",
      "                                  |                                  \n",
      "                              NOM_FLIGHT                            \n",
      "                                  |                                  \n",
      "                               N_FLIGHT                             \n",
      "                __________________|_________________                 \n",
      "            N_FLIGHT                                |               \n",
      "      _________|________                            |                \n",
      "     |                  PP                          PP              \n",
      "     |                  |                           |                \n",
      "     |               PP_PLACE                    PP_PLACE           \n",
      "     |          ________|_________           _______|_________       \n",
      "  N_FLIGHT     |               N_PLACE      |              N_PLACE  \n",
      "     |         |                  |         |                 |      \n",
      "TERM_FLIGHT P_PLACE           TERM_PLACE P_PLACE          TERM_PLACE\n",
      "     |         |                  |         |                 |      \n",
      "  flights     from             phoenix      to            milwaukee \n",
      "\n",
      "Predicted SQL:\n",
      "\n",
      " SELECT DISTINCT flight.flight_id FROM flight WHERE flight.to_airport IN (\n",
      "    (SELECT airport_service.airport_code FROM airport_service WHERE airport_service.city_code IN\n",
      "      (SELECT city.city_code FROM city WHERE city.city_name = \"MILWAUKEE\"))\n",
      "  ) AND flight.from_airport IN (\n",
      "    (SELECT airport_service.airport_code FROM airport_service WHERE airport_service.city_code IN\n",
      "      (SELECT city.city_code FROM city WHERE city.city_name = \"PHOENIX\"))\n",
      "  ) AND 1 \n",
      "\n",
      "Predicted DB result:\n",
      "\n",
      " [(108086,), (108087,), (301763,), (301764,), (301765,), (301766,), (302323,), (304881,), (310619,), (310620,)] \n",
      "\n",
      "Gold DB result:\n",
      "\n",
      " [(108086,), (108087,), (301763,), (301764,), (301765,), (301766,), (302323,), (304881,), (310619,), (310620,)] \n",
      "\n",
      "Correct!\n"
     ]
    }
   ],
   "source": [
    "#TODO: add augmentations to `data/grammar` to make this example work\n",
    "# Example 1\n",
    "example_1 = 'flights from phoenix to milwaukee'\n",
    "gold_sql_1 = \"\"\"\n",
    "  SELECT DISTINCT flight_1.flight_id \n",
    "  FROM flight flight_1 , \n",
    "       airport_service airport_service_1 , \n",
    "       city city_1 , \n",
    "       airport_service airport_service_2 , \n",
    "       city city_2 \n",
    "  WHERE flight_1.from_airport = airport_service_1.airport_code \n",
    "        AND airport_service_1.city_code = city_1.city_code \n",
    "        AND city_1.city_name = 'PHOENIX' \n",
    "        AND flight_1.to_airport = airport_service_2.airport_code \n",
    "        AND airport_service_2.city_code = city_2.city_code \n",
    "        AND city_2.city_name = 'MILWAUKEE'\n",
    "  \"\"\"\n",
    "\n",
    "rule_based_trial(example_1, gold_sql_1)"
   ]
  },
  {
   "cell_type": "markdown",
   "id": "d505d731",
   "metadata": {
    "id": "IPR4zSqzM58Z"
   },
   "source": [
    "To make development faster, we _**highly recommend**_ starting with a few examples before running the full evaluation script. We've taken some examples from the ATIS dataset including the gold SQL queries that they provided. Of course, yours (and those of the project segment solution set) may differ."
   ]
  },
  {
   "cell_type": "code",
   "execution_count": 49,
   "id": "f72da9c2",
   "metadata": {
    "colab": {
     "base_uri": "https://localhost:8080/"
    },
    "id": "_ER7QlkPK4pg",
    "outputId": "e338b817-a5e3-4e62-be8d-0728277b72dc"
   },
   "outputs": [
    {
     "name": "stdout",
     "output_type": "stream",
     "text": [
      "Sentence:  i would like a united flight \n",
      "\n",
      "Parse:\n",
      "\n",
      "\n",
      "                                                 S                                                                      \n",
      "                                     ____________|____________________________________________________                   \n",
      "                                    |                                                             NP_FLIGHT             \n",
      "                                    |                                                                 |                  \n",
      "                                PREIGNORE                                                         NOM_FLIGHT            \n",
      "        ____________________________|____________                                          ___________|___________       \n",
      "       |                                     PREIGNORE                                   ADJ                      |     \n",
      "       |                _________________________|____________                            |                       |      \n",
      "       |               |                                  PREIGNORE                  ADJ_AIRLINE              NOM_FLIGHT\n",
      "       |               |                          ____________|____________               |                       |      \n",
      "       |               |                         |                     PREIGNORE     TERM_AIRLINE              N_FLIGHT \n",
      "       |               |                         |                         |              |                       |      \n",
      "PREIGNORESYMBOL PREIGNORESYMBOL           PREIGNORESYMBOL           PREIGNORESYMBOL TERM_AIRBRAND            TERM_FLIGHT\n",
      "       |               |                         |                         |              |                       |      \n",
      "       i             would                      like                       a            united                  flight  \n",
      "\n",
      "Predicted SQL:\n",
      "\n",
      " SELECT DISTINCT flight.flight_id FROM flight WHERE flight.airline_code = 'UA' AND 1 \n",
      "\n",
      "Predicted DB result:\n",
      "\n",
      " [(100094,), (100099,), (100145,), (100158,), (100164,), (100167,), (100169,), (100203,), (100204,), (100296,)] \n",
      "\n",
      "Gold DB result:\n",
      "\n",
      " [(100094,), (100099,), (100145,), (100158,), (100164,), (100167,), (100169,), (100203,), (100204,), (100296,)] \n",
      "\n",
      "Correct!\n"
     ]
    }
   ],
   "source": [
    "#TODO: add augmentations to `data/grammar` to make this example work\n",
    "# Example 2\n",
    "example_2 = 'i would like a united flight'\n",
    "gold_sql_2 = \"\"\"\n",
    "  SELECT DISTINCT flight_1.flight_id\n",
    "  FROM flight flight_1 \n",
    "  WHERE flight_1.airline_code = 'UA'\n",
    "  \"\"\"\n",
    "\n",
    "rule_based_trial(example_2, gold_sql_2)"
   ]
  },
  {
   "cell_type": "code",
   "execution_count": 50,
   "id": "83c677f3",
   "metadata": {
    "colab": {
     "base_uri": "https://localhost:8080/"
    },
    "id": "IjMh5E_H2I8A",
    "outputId": "9e2bf9f8-1839-4381-ddf9-5e6635eb0a05"
   },
   "outputs": [
    {
     "name": "stdout",
     "output_type": "stream",
     "text": [
      "Sentence:  i would like a flight between boston and dallas \n",
      "\n",
      "Parse:\n",
      "\n",
      "\n",
      "                                                                                         S                                               \n",
      "                                     ____________________________________________________|__________                                      \n",
      "                                    |                                                           NP_FLIGHT                                \n",
      "                                    |                                                               |                                     \n",
      "                                    |                                                           NOM_FLIGHT                               \n",
      "                                    |                                                               |                                     \n",
      "                                PREIGNORE                                                        N_FLIGHT                                \n",
      "        ____________________________|____________                                         __________|_________                            \n",
      "       |                                     PREIGNORE                                   |                    PP                         \n",
      "       |                _________________________|____________                           |                    |                           \n",
      "       |               |                                  PREIGNORE                      |                 PP_PLACE                      \n",
      "       |               |                          ____________|____________              |           _________|____________________       \n",
      "       |               |                         |                     PREIGNORE      N_FLIGHT      |         |      N_PLACE    N_PLACE  \n",
      "       |               |                         |                         |             |          |         |         |          |      \n",
      "PREIGNORESYMBOL PREIGNORESYMBOL           PREIGNORESYMBOL           PREIGNORESYMBOL TERM_FLIGHT     |         |     TERM_PLACE TERM_PLACE\n",
      "       |               |                         |                         |             |          |         |         |          |      \n",
      "       i             would                      like                       a           flight    between     and      boston     dallas  \n",
      "\n",
      "Predicted SQL:\n",
      "\n",
      " SELECT DISTINCT flight.flight_id FROM flight WHERE flight.from_airport IN \n",
      "    (SELECT airport_service.airport_code FROM airport_service WHERE airport_service.city_code IN\n",
      "      (SELECT city.city_code FROM city WHERE city.city_name = \"BOSTON\"))\n",
      "   AND flight.to_airport IN (\n",
      "    (SELECT airport_service.airport_code FROM airport_service WHERE airport_service.city_code IN\n",
      "      (SELECT city.city_code FROM city WHERE city.city_name = \"DALLAS\"))\n",
      "  ) AND 1 \n",
      "\n",
      "Predicted DB result:\n",
      "\n",
      " [(103171,), (103172,), (103173,), (103174,), (103175,), (103176,), (103177,), (103178,), (103179,), (103180,)] \n",
      "\n",
      "Gold DB result:\n",
      "\n",
      " [(103171,), (103172,), (103173,), (103174,), (103175,), (103176,), (103177,), (103178,), (103179,), (103180,)] \n",
      "\n",
      "Correct!\n"
     ]
    }
   ],
   "source": [
    "#TODO: add augmentations to `data/grammar` to make this example work\n",
    "# Example 3\n",
    "example_3 = 'i would like a flight between boston and dallas'\n",
    "gold_sql_3 = \"\"\"\n",
    "  SELECT DISTINCT flight_1.flight_id \n",
    "  FROM flight flight_1 , \n",
    "       airport_service airport_service_1 , \n",
    "       city city_1 , \n",
    "       airport_service airport_service_2 , \n",
    "       city city_2 \n",
    "  WHERE flight_1.from_airport = airport_service_1.airport_code \n",
    "        AND airport_service_1.city_code = city_1.city_code \n",
    "        AND city_1.city_name = 'BOSTON' \n",
    "        AND flight_1.to_airport = airport_service_2.airport_code \n",
    "        AND airport_service_2.city_code = city_2.city_code \n",
    "        AND city_2.city_name = 'DALLAS'\n",
    "  \"\"\"\n",
    "\n",
    "# Note that the parse tree might appear wrong: instead of\n",
    "# `PP_PLACE -> 'between' N_PLACE 'and' N_PLACE`, the tree appears to be\n",
    "# `PP_PLACE -> 'between' 'and' N_PLACE N_PLACE`. But it's only a visualization\n",
    "# error of tree.pretty_print() and you should assume that the production is\n",
    "# `PP_PLACE -> 'between' N_PLACE 'and' N_PLACE` (you can verify by printing out\n",
    "# all productions).\n",
    "rule_based_trial(example_3, gold_sql_3)"
   ]
  },
  {
   "cell_type": "code",
   "execution_count": 51,
   "id": "62fb2463",
   "metadata": {
    "colab": {
     "base_uri": "https://localhost:8080/"
    },
    "id": "tQua_Wfb2I8B",
    "outputId": "adc42130-fa59-4f0b-99eb-e7373d69a651"
   },
   "outputs": [
    {
     "name": "stdout",
     "output_type": "stream",
     "text": [
      "Sentence:  show me the united flights from denver to baltimore \n",
      "\n",
      "Parse:\n",
      "\n",
      "\n",
      "                                                                             S                                                                \n",
      "                        _____________________________________________________|__________                                                       \n",
      "                       |                                                            NP_FLIGHT                                                 \n",
      "                       |                                                                |                                                      \n",
      "                       |                                                            NOM_FLIGHT                                                \n",
      "                       |                                         _______________________|___________________                                   \n",
      "                       |                                        |                                       NOM_FLIGHT                            \n",
      "                       |                                        |                                           |                                  \n",
      "                       |                                        |                                        N_FLIGHT                             \n",
      "                       |                                        |                        ___________________|_________________                 \n",
      "                       |                                        |                    N_FLIGHT                                 |               \n",
      "                       |                                        |             __________|_________                            |                \n",
      "                   PREIGNORE                                   ADJ           |                    PP                          PP              \n",
      "        _______________|____________                            |            |                    |                           |                \n",
      "       |                        PREIGNORE                  ADJ_AIRLINE       |                 PP_PLACE                    PP_PLACE           \n",
      "       |                ____________|____________               |            |           _________|_________           _______|_________       \n",
      "       |               |                     PREIGNORE     TERM_AIRLINE   N_FLIGHT      |                N_PLACE      |              N_PLACE  \n",
      "       |               |                         |              |            |          |                   |         |                 |      \n",
      "PREIGNORESYMBOL PREIGNORESYMBOL           PREIGNORESYMBOL TERM_AIRBRAND TERM_FLIGHT  P_PLACE            TERM_PLACE P_PLACE          TERM_PLACE\n",
      "       |               |                         |              |            |          |                   |         |                 |      \n",
      "      show             me                       the           united      flights      from               denver      to            baltimore \n",
      "\n",
      "Predicted SQL:\n",
      "\n",
      " SELECT DISTINCT flight.flight_id FROM flight WHERE flight.airline_code = 'UA' AND flight.to_airport IN (\n",
      "    (SELECT airport_service.airport_code FROM airport_service WHERE airport_service.city_code IN\n",
      "      (SELECT city.city_code FROM city WHERE city.city_name = \"BALTIMORE\"))\n",
      "  ) AND flight.from_airport IN (\n",
      "    (SELECT airport_service.airport_code FROM airport_service WHERE airport_service.city_code IN\n",
      "      (SELECT city.city_code FROM city WHERE city.city_name = \"DENVER\"))\n",
      "  ) AND 1 \n",
      "\n",
      "Predicted DB result:\n",
      "\n",
      " [(101231,), (101233,), (305983,)] \n",
      "\n",
      "Gold DB result:\n",
      "\n",
      " [(101231,), (101233,), (305983,)] \n",
      "\n",
      "Correct!\n"
     ]
    }
   ],
   "source": [
    "#TODO: add augmentations to `data/grammar` to make this example work\n",
    "# Example 4\n",
    "example_4 = 'show me the united flights from denver to baltimore'\n",
    "gold_sql_4 = \"\"\"\n",
    "  SELECT DISTINCT flight_1.flight_id \n",
    "  FROM flight flight_1 , \n",
    "       airport_service airport_service_1 , \n",
    "       city city_1 , \n",
    "       airport_service airport_service_2 , \n",
    "       city city_2 \n",
    "  WHERE flight_1.airline_code = 'UA' \n",
    "        AND ( flight_1.from_airport = airport_service_1.airport_code \n",
    "              AND airport_service_1.city_code = city_1.city_code \n",
    "              AND city_1.city_name = 'DENVER' \n",
    "              AND flight_1.to_airport = airport_service_2.airport_code \n",
    "              AND airport_service_2.city_code = city_2.city_code \n",
    "              AND city_2.city_name = 'BALTIMORE' )\n",
    "\n",
    "  \"\"\"\n",
    "\n",
    "rule_based_trial(example_4, gold_sql_4)"
   ]
  },
  {
   "cell_type": "code",
   "execution_count": 52,
   "id": "d8b20c07",
   "metadata": {
    "colab": {
     "base_uri": "https://localhost:8080/"
    },
    "id": "mtYzy5VJ2I8B",
    "outputId": "b88c917a-4ac2-4c10-bba6-da28e03b8fa4"
   },
   "outputs": [
    {
     "name": "stdout",
     "output_type": "stream",
     "text": [
      "Sentence:  show flights from cleveland to miami that arrive before 4pm \n",
      "\n",
      "Parse:\n",
      "\n",
      "\n",
      "                               S                                                                                                         \n",
      "        _______________________|______________________________________________                                                            \n",
      "       |                                                                  NP_FLIGHT                                                      \n",
      "       |                                                                      |                                                           \n",
      "       |                                                                  NOM_FLIGHT                                                     \n",
      "       |                                                                      |                                                           \n",
      "       |                                                                   N_FLIGHT                                                      \n",
      "       |                                           ___________________________|_____________________                                      \n",
      "       |                                       N_FLIGHT                                             |                                    \n",
      "       |                        __________________|_________________                                |                                     \n",
      "       |                    N_FLIGHT                                |                               PP                                   \n",
      "       |              _________|________                            |                               |                                     \n",
      "       |             |                  PP                          PP                           PP_TIME                                 \n",
      "       |             |                  |                           |                        _______|__________________                   \n",
      "       |             |               PP_PLACE                    PP_PLACE                   |                       NP_TIME              \n",
      "       |             |          ________|_________           _______|_________              |                          |                  \n",
      "   PREIGNORE      N_FLIGHT     |               N_PLACE      |              N_PLACE          |                      TERM_TIME             \n",
      "       |             |         |                  |         |                 |             |                 _________|__________        \n",
      "PREIGNORESYMBOL TERM_FLIGHT P_PLACE           TERM_PLACE P_PLACE          TERM_PLACE      P_TIME         TERM_TIME           TERM_TIMEMOD\n",
      "       |             |         |                  |         |                 |        _____|_______         |                    |       \n",
      "      show        flights     from            cleveland     to              miami    that arrive  before     4                    pm     \n",
      "\n",
      "Predicted SQL:\n",
      "\n",
      " SELECT DISTINCT flight.flight_id FROM flight WHERE flight.arrival_time <  1600 AND flight.to_airport IN (\n",
      "    (SELECT airport_service.airport_code FROM airport_service WHERE airport_service.city_code IN\n",
      "      (SELECT city.city_code FROM city WHERE city.city_name = \"MIAMI\"))\n",
      "  ) AND flight.from_airport IN (\n",
      "    (SELECT airport_service.airport_code FROM airport_service WHERE airport_service.city_code IN\n",
      "      (SELECT city.city_code FROM city WHERE city.city_name = \"CLEVELAND\"))\n",
      "  ) AND 1 \n",
      "\n",
      "Predicted DB result:\n",
      "\n",
      " [(107698,), (301117,)] \n",
      "\n",
      "Gold DB result:\n",
      "\n",
      " [(107698,), (301117,)] \n",
      "\n",
      "Correct!\n"
     ]
    }
   ],
   "source": [
    "#TODO: add augmentations to `data/grammar` to make this example work\n",
    "# Example 5\n",
    "example_5 = 'show flights from cleveland to miami that arrive before 4pm'\n",
    "gold_sql_5 = \"\"\"\n",
    "  SELECT DISTINCT flight_1.flight_id \n",
    "  FROM flight flight_1 , \n",
    "       airport_service airport_service_1 , \n",
    "       city city_1 , \n",
    "       airport_service airport_service_2 , \n",
    "       city city_2 \n",
    "  WHERE flight_1.from_airport = airport_service_1.airport_code \n",
    "        AND airport_service_1.city_code = city_1.city_code \n",
    "        AND city_1.city_name = 'CLEVELAND' \n",
    "        AND ( flight_1.to_airport = airport_service_2.airport_code \n",
    "              AND airport_service_2.city_code = city_2.city_code \n",
    "              AND city_2.city_name = 'MIAMI' \n",
    "              AND flight_1.arrival_time < 1600 )\n",
    "  \"\"\"\n",
    "\n",
    "rule_based_trial(example_5, gold_sql_5)"
   ]
  },
  {
   "cell_type": "code",
   "execution_count": 53,
   "id": "686305ff",
   "metadata": {
    "colab": {
     "base_uri": "https://localhost:8080/"
    },
    "id": "AQbppVgr2I8C",
    "outputId": "4bade917-65ee-4a3b-ad02-eb669090e819"
   },
   "outputs": [
    {
     "name": "stdout",
     "output_type": "stream",
     "text": [
      "Sentence:  okay how about a flight on sunday from tampa to charlotte \n",
      "\n",
      "Parse:\n",
      "\n",
      "\n",
      "                                                                                                   S                                                                                    \n",
      "                                     ______________________________________________________________|______________________________                                                       \n",
      "                                    |                                                                                         NP_FLIGHT                                                 \n",
      "                                    |                                                                                             |                                                      \n",
      "                                    |                                                                                         NOM_FLIGHT                                                \n",
      "                                    |                                                                                             |                                                      \n",
      "                                    |                                                                                          N_FLIGHT                                                 \n",
      "                                    |                                                                                  ___________|_____________________________________                 \n",
      "                                    |                                                                              N_FLIGHT                                             |               \n",
      "                                    |                                                               __________________|_____________________                            |                \n",
      "                                PREIGNORE                                                       N_FLIGHT                                    |                           |               \n",
      "        ____________________________|____________                                         _________|________                                |                           |                \n",
      "       |                                     PREIGNORE                                   |                  PP                              PP                          PP              \n",
      "       |                _________________________|____________                           |                  |                               |                           |                \n",
      "       |               |                                  PREIGNORE                      |               PP_DATE                         PP_PLACE                    PP_PLACE           \n",
      "       |               |                          ____________|____________              |          ________|_________             _________|_________           _______|_________       \n",
      "       |               |                         |                     PREIGNORE      N_FLIGHT     |               NP_DATE        |                N_PLACE      |              N_PLACE  \n",
      "       |               |                         |                         |             |         |                  |           |                   |         |                 |      \n",
      "PREIGNORESYMBOL PREIGNORESYMBOL           PREIGNORESYMBOL           PREIGNORESYMBOL TERM_FLIGHT  P_DATE          TERM_WEEKDAY  P_PLACE            TERM_PLACE P_PLACE          TERM_PLACE\n",
      "       |               |                         |                         |             |         |                  |           |                   |         |                 |      \n",
      "      okay            how                      about                       a           flight      on               sunday       from               tampa       to            charlotte \n",
      "\n",
      "Predicted SQL:\n",
      "\n",
      " SELECT DISTINCT flight.flight_id FROM flight WHERE flight.to_airport IN (\n",
      "    (SELECT airport_service.airport_code FROM airport_service WHERE airport_service.city_code IN\n",
      "      (SELECT city.city_code FROM city WHERE city.city_name = \"CHARLOTTE\"))\n",
      "  ) AND flight.from_airport IN (\n",
      "    (SELECT airport_service.airport_code FROM airport_service WHERE airport_service.city_code IN\n",
      "      (SELECT city.city_code FROM city WHERE city.city_name = \"TAMPA\"))\n",
      "  ) AND flight.flight_days IN (SELECT days.days_code FROM days WHERE days.day_name = 'SUNDAY') AND 1 \n",
      "\n",
      "Predicted DB result:\n",
      "\n",
      " [(101860,), (101861,), (101862,), (101863,), (101864,), (101865,), (305231,)] \n",
      "\n",
      "Gold DB result:\n",
      "\n",
      " [(101860,), (101861,), (101862,), (101863,), (101864,), (101865,), (305231,)] \n",
      "\n",
      "Correct!\n"
     ]
    }
   ],
   "source": [
    "#TODO: add augmentations to `data/grammar` to make this example work\n",
    "# Example 6\n",
    "example_6 = 'okay how about a flight on sunday from tampa to charlotte'\n",
    "gold_sql_6 = \"\"\"\n",
    "  SELECT DISTINCT flight_1.flight_id \n",
    "  FROM flight flight_1 , \n",
    "       airport_service airport_service_1 , \n",
    "       city city_1 , \n",
    "       airport_service airport_service_2 , \n",
    "       city city_2 , \n",
    "       days days_1 , \n",
    "       date_day date_day_1 \n",
    "  WHERE flight_1.from_airport = airport_service_1.airport_code \n",
    "        AND airport_service_1.city_code = city_1.city_code \n",
    "        AND city_1.city_name = 'TAMPA' \n",
    "        AND ( flight_1.to_airport = airport_service_2.airport_code \n",
    "              AND airport_service_2.city_code = city_2.city_code \n",
    "              AND city_2.city_name = 'CHARLOTTE' \n",
    "              AND flight_1.flight_days = days_1.days_code \n",
    "              AND days_1.day_name = date_day_1.day_name \n",
    "              AND date_day_1.year = 1991 \n",
    "              AND date_day_1.month_number = 8 \n",
    "              AND date_day_1.day_number = 27 )\n",
    "  \"\"\"\n",
    "\n",
    "# You might notice that the gold answer above used the exact date, which is\n",
    "# not easily implementable. A more implementable way (generated by the project \n",
    "# segment 4 solution code) is:\n",
    "gold_sql_6b = \"\"\"\n",
    "  SELECT DISTINCT flight.flight_id \n",
    "  FROM flight \n",
    "  WHERE ((((1 \n",
    "            AND flight.flight_days IN (SELECT days.days_code \n",
    "                                       FROM days \n",
    "                                       WHERE days.day_name = 'SUNDAY')\n",
    "            ) \n",
    "           AND flight.from_airport IN (SELECT airport_service.airport_code \n",
    "                                       FROM airport_service \n",
    "                                       WHERE airport_service.city_code IN (SELECT city.city_code \n",
    "                                                                           FROM city \n",
    "                                                                           WHERE city.city_name = \"TAMPA\"))) \n",
    "          AND flight.to_airport IN (SELECT airport_service.airport_code \n",
    "                                    FROM airport_service \n",
    "                                    WHERE airport_service.city_code IN (SELECT city.city_code \n",
    "                                                                        FROM city \n",
    "                                                                        WHERE city.city_name = \"CHARLOTTE\")))) \n",
    "  \"\"\"\n",
    "\n",
    "rule_based_trial(example_6, gold_sql_6b)"
   ]
  },
  {
   "cell_type": "code",
   "execution_count": 54,
   "id": "401319c4",
   "metadata": {
    "colab": {
     "base_uri": "https://localhost:8080/"
    },
    "id": "_R5oLOYQ2I8C",
    "outputId": "d7babbad-055a-4c12-abf5-8e4ec6f3b3d7"
   },
   "outputs": [
    {
     "name": "stdout",
     "output_type": "stream",
     "text": [
      "Sentence:  list all flights going from boston to atlanta that leaves before 7 am on thursday \n",
      "\n",
      "Parse:\n",
      "\n",
      "\n",
      "                                  S                                                                                                                                                  \n",
      "        __________________________|_____________________________________________________                                                                                              \n",
      "       |                                                                            NP_FLIGHT                                                                                        \n",
      "       |          ______________________________________________________________________|__________                                                                                   \n",
      "       |         |                                                                             NOM_FLIGHT                                                                            \n",
      "       |         |                                                                                 |                                                                                  \n",
      "       |         |                                                                              N_FLIGHT                                                                             \n",
      "       |         |                                                                       __________|________________________________________________________________                  \n",
      "       |         |                                                                   N_FLIGHT                                                                       |                \n",
      "       |         |                                 _____________________________________|___________________________                                                |                 \n",
      "       |         |                             N_FLIGHT                                                             |                                               |                \n",
      "       |         |                        ________|___________________________                                      |                                               |                 \n",
      "       |         |                    N_FLIGHT                                |                                     PP                                              |                \n",
      "       |         |        _______________|________                            |                                     |                                               |                 \n",
      "       |         |       |                        PP                          PP                                 PP_TIME                                            PP               \n",
      "       |         |       |                        |                           |                              _______|__________________                             |                 \n",
      "       |         |       |                     PP_PLACE                    PP_PLACE                         |                       NP_TIME                      PP_DATE             \n",
      "       |         |       |                ________|_________           _______|_________                    |                          |                     _______|_________        \n",
      "   PREIGNORE     |    N_FLIGHT           |               N_PLACE      |              N_PLACE                |                      TERM_TIME                |              NP_DATE   \n",
      "       |         |       |               |                  |         |                 |                   |                 _________|__________          |                 |       \n",
      "PREIGNORESYMBOL DET TERM_FLIGHT       P_PLACE           TERM_PLACE P_PLACE          TERM_PLACE            P_TIME         TERM_TIME           TERM_TIMEMOD P_DATE         TERM_WEEKDAY\n",
      "       |         |       |         ______|________          |         |                 |           ________|_______         |                    |         |                 |       \n",
      "      list      all   flights   going            from     boston      to             atlanta      that    leaves  before     7                    am        on             thursday  \n",
      "\n",
      "Predicted SQL:\n",
      "\n",
      " SELECT DISTINCT flight.flight_id FROM flight WHERE flight.flight_days IN (SELECT days.days_code FROM days WHERE days.day_name = 'THURSDAY') AND flight.departure_time <  700 AND flight.to_airport IN (\n",
      "    (SELECT airport_service.airport_code FROM airport_service WHERE airport_service.city_code IN\n",
      "      (SELECT city.city_code FROM city WHERE city.city_name = \"ATLANTA\"))\n",
      "  ) AND flight.from_airport IN (\n",
      "    (SELECT airport_service.airport_code FROM airport_service WHERE airport_service.city_code IN\n",
      "      (SELECT city.city_code FROM city WHERE city.city_name = \"BOSTON\"))\n",
      "  ) AND 1 \n",
      "\n",
      "Predicted DB result:\n",
      "\n",
      " [(100014,)] \n",
      "\n",
      "Gold DB result:\n",
      "\n",
      " [(100014,)] \n",
      "\n",
      "Correct!\n"
     ]
    }
   ],
   "source": [
    "#TODO: add augmentations to `data/grammar` to make this example work\n",
    "# Example 7\n",
    "example_7 = 'list all flights going from boston to atlanta that leaves before 7 am on thursday'\n",
    "gold_sql_7 = \"\"\"\n",
    "  SELECT DISTINCT flight_1.flight_id \n",
    "  FROM flight flight_1 , \n",
    "       airport_service airport_service_1 , \n",
    "       city city_1 , \n",
    "       airport_service airport_service_2 , \n",
    "       city city_2 , \n",
    "       days days_1 , \n",
    "       date_day date_day_1 \n",
    "  WHERE flight_1.from_airport = airport_service_1.airport_code \n",
    "        AND airport_service_1.city_code = city_1.city_code \n",
    "        AND city_1.city_name = 'BOSTON' \n",
    "        AND ( flight_1.to_airport = airport_service_2.airport_code \n",
    "              AND airport_service_2.city_code = city_2.city_code \n",
    "              AND city_2.city_name = 'ATLANTA' \n",
    "              AND ( flight_1.flight_days = days_1.days_code \n",
    "                    AND days_1.day_name = date_day_1.day_name \n",
    "                    AND date_day_1.year = 1991 \n",
    "                    AND date_day_1.month_number = 5 \n",
    "                    AND date_day_1.day_number = 24 \n",
    "                    AND flight_1.departure_time < 700 ) )\n",
    "  \"\"\"\n",
    "\n",
    "# Again, the gold answer above used the exact date, as opposed to the \n",
    "# following approach:\n",
    "gold_sql_7b = \"\"\"\n",
    "  SELECT DISTINCT flight.flight_id \n",
    "  FROM flight \n",
    "  WHERE ((1 \n",
    "          AND ((((1 \n",
    "                  AND flight.from_airport IN (SELECT airport_service.airport_code \n",
    "                                              FROM airport_service \n",
    "                                              WHERE airport_service.city_code IN (SELECT city.city_code \n",
    "                                                                                  FROM city \n",
    "                                                                                  WHERE city.city_name = \"BOSTON\")))\n",
    "                 AND flight.to_airport IN (SELECT airport_service.airport_code \n",
    "                                           FROM airport_service\n",
    "                                           WHERE airport_service.city_code IN (SELECT city.city_code \n",
    "                                                                               FROM city \n",
    "                                                                               WHERE city.city_name = \"ATLANTA\"))) \n",
    "                AND flight.departure_time <= 0700) \n",
    "               AND flight.flight_days IN (SELECT days.days_code \n",
    "                                          FROM days \n",
    "                                          WHERE days.day_name = 'THURSDAY')))) \n",
    "  \"\"\"\n",
    "\n",
    "rule_based_trial(example_7, gold_sql_7b)"
   ]
  },
  {
   "cell_type": "code",
   "execution_count": 55,
   "id": "999a3d29",
   "metadata": {
    "colab": {
     "base_uri": "https://localhost:8080/"
    },
    "id": "yXRRSFOd2I8D",
    "outputId": "3c25153c-c79b-4061-c495-49ce54b84cf4"
   },
   "outputs": [
    {
     "name": "stdout",
     "output_type": "stream",
     "text": [
      "Sentence:  list the flights from dallas to san francisco on american airlines \n",
      "\n",
      "Parse:\n",
      "\n",
      "\n",
      "                                                                                      S                                                                                         \n",
      "                     _________________________________________________________________|________                                                                                  \n",
      "                    |                                                                      NP_FLIGHT                                                                            \n",
      "                    |                                                                          |                                                                                 \n",
      "                    |                                                                      NOM_FLIGHT                                                                           \n",
      "                    |                                                                          |                                                                                 \n",
      "                    |                                                                       N_FLIGHT                                                                            \n",
      "                    |                                                        __________________|___________________________________________                                      \n",
      "                    |                                                    N_FLIGHT                                                          |                                    \n",
      "                    |                                     __________________|__________________                                            |                                     \n",
      "                    |                                 N_FLIGHT                                 |                                           |                                    \n",
      "                    |                           _________|________                             |                                           |                                     \n",
      "                    |                          |                  PP                           PP                                          PP                                   \n",
      "                    |                          |                  |                            |                                           |                                     \n",
      "                PREIGNORE                      |               PP_PLACE                     PP_PLACE                                   PP_AIRLINE                               \n",
      "        ____________|____________              |          ________|_________           ________|__________                      ___________|____________                         \n",
      "       |                     PREIGNORE      N_FLIGHT     |               N_PLACE      |                N_PLACE                 |                   TERM_AIRLINE                 \n",
      "       |                         |             |         |                  |         |                   |                    |            ____________|______________          \n",
      "PREIGNORESYMBOL           PREIGNORESYMBOL TERM_FLIGHT P_PLACE           TERM_PLACE P_PLACE            TERM_PLACE           P_AIRLINE TERM_AIRBRAND              TERM_AIRBRANDTYP\n",
      "       |                         |             |         |                  |         |                   |                    |           |                           E        \n",
      "       |                         |             |         |                  |         |         __________|__________          |           |                           |         \n",
      "      list                      the         flights     from              dallas      to      san                francisco     on       american                    airlines    \n",
      "\n",
      "Predicted SQL:\n",
      "\n",
      " SELECT DISTINCT flight.flight_id FROM flight WHERE flight.airline_code = 'AA' AND flight.to_airport IN (\n",
      "    (SELECT airport_service.airport_code FROM airport_service WHERE airport_service.city_code IN\n",
      "      (SELECT city.city_code FROM city WHERE city.city_name = \"SAN FRANCISCO\"))\n",
      "  ) AND flight.from_airport IN (\n",
      "    (SELECT airport_service.airport_code FROM airport_service WHERE airport_service.city_code IN\n",
      "      (SELECT city.city_code FROM city WHERE city.city_name = \"DALLAS\"))\n",
      "  ) AND 1 \n",
      "\n",
      "Predicted DB result:\n",
      "\n",
      " [(108452,), (108454,), (108456,), (111083,), (111085,), (111086,), (111090,), (111091,), (111092,), (111094,)] \n",
      "\n",
      "Gold DB result:\n",
      "\n",
      " [(108452,), (108454,), (108456,), (111083,), (111085,), (111086,), (111090,), (111091,), (111092,), (111094,)] \n",
      "\n",
      "Correct!\n"
     ]
    }
   ],
   "source": [
    "#TODO: add augmentations to `data/grammar` to make this example work\n",
    "# Example 8\n",
    "example_8 = 'list the flights from dallas to san francisco on american airlines'\n",
    "gold_sql_8 = \"\"\"\n",
    "  SELECT DISTINCT flight_1.flight_id \n",
    "  FROM flight flight_1 , \n",
    "       airport_service airport_service_1 , \n",
    "       city city_1 , \n",
    "       airport_service airport_service_2 , \n",
    "       city city_2 \n",
    "  WHERE flight_1.airline_code = 'AA' \n",
    "        AND ( flight_1.from_airport = airport_service_1.airport_code \n",
    "              AND airport_service_1.city_code = city_1.city_code \n",
    "              AND city_1.city_name = 'DALLAS' \n",
    "              AND flight_1.to_airport = airport_service_2.airport_code \n",
    "              AND airport_service_2.city_code = city_2.city_code \n",
    "              AND city_2.city_name = 'SAN FRANCISCO' )\n",
    "  \"\"\"\n",
    "\n",
    "rule_based_trial(example_8, gold_sql_8)"
   ]
  },
  {
   "cell_type": "markdown",
   "id": "f9ca93ae",
   "metadata": {
    "id": "-ovgNp8m2I8E"
   },
   "source": [
    "### Systematic evaluation on a test set\n",
    "\n",
    "We can perform a more systematic evaluation by checking the accuracy of the queries on an entire test set for which we have gold queries. The `evaluate` function below does just this, calculating precision, recall, and F1 metrics for the test set. It takes as argument a \"predictor\" function, which maps token sequences to predicted SQL queries. We've provided a predictor function for the rule-based model in the next cell (and a predictor for the seq2seq system below when we get to that system).\n",
    "\n",
    "The rule-based system does not generate predictions for all queries; many queries won't parse. The precision and recall metrics take this into account in measuring the efficacy of the method. The recall metric captures what proportion of _all of the test examples_ for which the system generates a correct query. The precision metric captures what proportion of _all of the test examples for which a prediction is generated_ for which the system generates a correct query. (Recall that F1 is just the geometric mean of precision and recall.)\n",
    "\n",
    "Once you've made some progress on adding augmentations to the grammar, you can evaluate your progress by seeing if the precision and recall have improved. For reference, the solution code achieves precision of about 66% and recall of about 28% for an F1 of 39%."
   ]
  },
  {
   "cell_type": "code",
   "execution_count": 56,
   "id": "2944fe51",
   "metadata": {
    "id": "nnEQFYBb2I8E"
   },
   "outputs": [],
   "source": [
    "def evaluate(predictor, dataset, num_examples=0, silent=True):\n",
    "    \"\"\"Evaluate accuracy of `predictor` by executing predictions on a\n",
    "    SQL database and comparing returned results against those of gold queries.\n",
    "\n",
    "    Arguments:\n",
    "        predictor:    a function that maps a token sequence\n",
    "                      to a predicted SQL query string\n",
    "        dataset:      the dataset of token sequences and gold SQL queries\n",
    "        num_examples: number of examples from `dataset` to use; all of\n",
    "                      them if 0\n",
    "        silent: if set to False, will print out logs\n",
    "    Returns: precision, recall, and F1 score\n",
    "    \"\"\"\n",
    "    # Prepare to count results\n",
    "    if num_examples <= 0:\n",
    "        num_examples = len(dataset)\n",
    "    example_count = 0\n",
    "    predicted_count = 0\n",
    "    correct = 0\n",
    "    incorrect = 0\n",
    "\n",
    "    # Process the examples from the dataset\n",
    "    for _, example in tqdm(list(zip(range(num_examples), dataset))):\n",
    "        example_count += 1\n",
    "        # obtain query SQL\n",
    "        predicted_sql = predictor(example[\"src\"])\n",
    "        if predicted_sql == None:\n",
    "            continue\n",
    "        predicted_count += 1\n",
    "        # obtain gold SQL\n",
    "        gold_sql = example[\"tgt\"]\n",
    "\n",
    "        # check that they're compatible\n",
    "        if verify(predicted_sql, gold_sql):\n",
    "            correct += 1\n",
    "        else:\n",
    "            incorrect += 1\n",
    "\n",
    "    # Compute and return precision, recall, F1\n",
    "    precision = correct / predicted_count if predicted_count > 0 else 0\n",
    "    recall = correct / example_count\n",
    "    f1 = (\n",
    "        (2 * precision * recall) / (precision + recall) if precision + recall > 0 else 0\n",
    "    )\n",
    "    return precision, recall, f1"
   ]
  },
  {
   "cell_type": "code",
   "execution_count": 57,
   "id": "70369600",
   "metadata": {
    "id": "XFxYpnE12I8F"
   },
   "outputs": [],
   "source": [
    "def rule_based_predictor(query):\n",
    "    tree = parse_tree(query)\n",
    "    if tree is None:\n",
    "        return None\n",
    "    try:\n",
    "        predicted_sql = interpret(tree, atis_augmentations)\n",
    "    except Exception as err:\n",
    "        return None\n",
    "    return predicted_sql"
   ]
  },
  {
   "cell_type": "code",
   "execution_count": 58,
   "id": "426c21bf",
   "metadata": {
    "id": "TevHEoiu2I8G"
   },
   "outputs": [
    {
     "data": {
      "application/vnd.jupyter.widget-view+json": {
       "model_id": "159df0b6d5ae4b32bd0ef4c4bf32a1bd",
       "version_major": 2,
       "version_minor": 0
      },
      "text/plain": [
       "  0%|          | 0/332 [00:00<?, ?it/s]"
      ]
     },
     "metadata": {},
     "output_type": "display_data"
    },
    {
     "name": "stdout",
     "output_type": "stream",
     "text": [
      "precision: 0.64\n",
      "recall:    0.27\n",
      "F1:        0.38\n"
     ]
    }
   ],
   "source": [
    "precision, recall, f1 = evaluate(rule_based_predictor, test_data, num_examples=0)\n",
    "print(f\"precision: {precision:3.2f}\")\n",
    "print(f\"recall:    {recall:3.2f}\")\n",
    "print(f\"F1:        {f1:3.2f}\")"
   ]
  },
  {
   "cell_type": "markdown",
   "id": "ba74ba0b",
   "metadata": {
    "id": "j00wMxHP3MnB"
   },
   "source": [
    "# End-to-End Seq2Seq Model"
   ]
  },
  {
   "cell_type": "markdown",
   "id": "ff5f98c5",
   "metadata": {},
   "source": [
    "In this part, you will implement a seq2seq model **with attention mechanism** to directly learn the translation from NL query to SQL. You might find labs 4-4 and 4-5 particularly helpful, as the primary difference here is that we are using a different dataset.\n",
    "\n",
    "> **Important note:** _For this and future parts of the assignment, the training and testing computations can be quite long._ We recommend:\n",
    ">    1. Using GPUs to train the models as you'll need to use a very large model to solve the task well. One way to get GPUs is to use [Google Colab](https://colab.research.google.com) and selecting Menu -> Runtime -> Change runtime type -> GPU.\n",
    ">    2. Starting with a much smaller model and training for only 1 epoch during development. Once that's working, you can run for many epochs (see advice for number of epochs in each section below) and turn in the more fully trained notebook."
   ]
  },
  {
   "cell_type": "markdown",
   "id": "8d6eceb3",
   "metadata": {
    "id": "dGvpHlNnN3ym"
   },
   "source": [
    "## Goal 2: Implement a seq2seq model (with attention)"
   ]
  },
  {
   "cell_type": "markdown",
   "id": "b5d55c35",
   "metadata": {
    "id": "4TPBjDalLzXg"
   },
   "source": [
    "In lab 4-5, you implemented a neural encoder-decoder model with attention. That model was used to convert English number phrases to numbers, but one of the biggest advantages of neural models is that we can easily apply them to different tasks (such as machine translation and document summarization) by using different training datasets.\n",
    "\n",
    "<img src=\"https://github.com/nlp-course/data/raw/master/img/encoderdecoder_attn_1layer.png\" alt=\"encoder-decoder-attn illustration\" />\n",
    "\n",
    "Implement the class `AttnEncoderDecoder` to convert natural language queries into SQL statements. You may find that you can reuse most of the code you wrote for lab 4-5. A reasonable way to proceed is to implement the following methods:\n",
    "\n",
    "* **Model**\n",
    "\n",
    "    1. `__init__`: an initializer where you create network modules.\n",
    "\n",
    "    2. `forward`: given source word ids of size `(batch_size, max_src_len)`, source lengths of size `(batch_size)` and decoder input target word ids `(batch_size, max_tgt_len)`, returns logits `(batch_size, max_tgt_len, V_tgt)`. For better modularity you might want to implement it by implementing two functions `forward_encoder` and `forward_decoder`.\n",
    "\n",
    "* **Optimization**\n",
    "\n",
    "    3. `train_all`: compute loss on training data, compute gradients, and update model parameters to minimize the loss.\n",
    "\n",
    "    4. `evaluate_ppl`: evaluate the current model's perplexity on a given dataset iterator, we use the perplexity value on the validation set to select the best model.\n",
    "\n",
    "* **Decoding**\n",
    "\n",
    "    5. `predict`: Generates the target sequence given a list of source tokens using beam search decoding. Note that here you can assume the batch size to be 1 for simplicity. "
   ]
  },
  {
   "cell_type": "code",
   "execution_count": 59,
   "id": "f2c6209f-2bb0-45b0-a154-6b44763bad05",
   "metadata": {},
   "outputs": [],
   "source": [
    "class Beam:\n",
    "    \"\"\"\n",
    "    Helper class for storing a hypothesis, its score and its decoder hidden state.\n",
    "    \"\"\"\n",
    "\n",
    "    def __init__(self, decoder_state, tokens, score):\n",
    "        self.decoder_state = decoder_state\n",
    "        self.tokens = tokens\n",
    "        self.score = score\n",
    "\n",
    "\n",
    "class BeamSearcher:\n",
    "    \"\"\"\n",
    "    Main class for beam search.\n",
    "    \"\"\"\n",
    "\n",
    "    def __init__(self, model):\n",
    "        self.model = model\n",
    "        self.bos_id = model.bos_id\n",
    "        self.eos_id = model.eos_id\n",
    "        self.padding_id_src = model.padding_id_src\n",
    "        self.V = model.V_tgt\n",
    "\n",
    "    def beam_search(self, src, src_lengths, K, max_T=15):\n",
    "        \"\"\"\n",
    "        Performs beam search decoding.\n",
    "        Arguments:\n",
    "            src: src batch of size (1, max_src_len)\n",
    "            src_lengths: src lengths of size (1)\n",
    "            K: beam size\n",
    "            max_T: max possible target length considered\n",
    "        Returns:\n",
    "            a list of token ids and a list of attentions\n",
    "        \"\"\"\n",
    "        finished = []\n",
    "        all_attns = []\n",
    "\n",
    "        self.model.eval()\n",
    "\n",
    "        # Initialize the beam\n",
    "        memory_bank = self.model.forward_encoder(src, src_lengths)[0]\n",
    "        encoder_final_state = self.model.forward_encoder(src, src_lengths)[1]\n",
    "        init_beam = Beam(decoder_state=encoder_final_state, tokens=[torch.tensor(self.bos_id)], score=0)\n",
    "        beams = [init_beam]\n",
    "\n",
    "        with torch.no_grad():\n",
    "            for t in range(max_T):  # main body of search over time steps\n",
    "\n",
    "                # Expand each beam by all possible tokens y_{t+1}\n",
    "                all_total_scores = []\n",
    "                for beam in beams:\n",
    "                    y_1_to_t, score, decoder_state = beam.tokens, beam.score, beam.decoder_state,\n",
    "                    \n",
    "                    y_t = y_1_to_t[-1]\n",
    "                    src_mask = src.ne(self.padding_id_src)\n",
    "                    logits, decoder_state, attn = self.model.forward_decoder_incrementally(decoder_state, y_t, memory_bank, src_mask, normalize=True)\n",
    "\n",
    "                    total_scores = logits + score\n",
    "                    all_total_scores.append(total_scores)\n",
    "                    all_attns.append(attn)  # keep attentions for visualization\n",
    "                    beam.decoder_state = decoder_state  \n",
    "                all_total_scores = torch.stack(all_total_scores)  # (K, V) when t>0, (1, V) when t=0\n",
    "\n",
    "                # Find K best next beams\n",
    "                # The code below has the same functionality as lines 6-12, but is more efficient\n",
    "                all_scores_flattened = all_total_scores.view(-1)  # K*V when t>0, 1*V when t=0\n",
    "                topk_scores, topk_ids = all_scores_flattened.topk(K, 0)\n",
    "                beam_ids = topk_ids.div(self.V, rounding_mode=\"floor\")\n",
    "                next_tokens = topk_ids - beam_ids * self.V\n",
    "                new_beams = []\n",
    "                for k in range(K):\n",
    "                    beam_id = beam_ids[k]  # which beam it comes from\n",
    "                    y_t_plus_1 = next_tokens[k]  # which y_{t+1}\n",
    "                    score = topk_scores[k]\n",
    "                    beam = beams[beam_id]\n",
    "                    decoder_state = beam.decoder_state\n",
    "                    y_1_to_t = beam.tokens\n",
    "                    new_beam = Beam(decoder_state, y_1_to_t + [y_t_plus_1], score)\n",
    "                    new_beams.append(new_beam)\n",
    "                beams = new_beams\n",
    "\n",
    "                # Set aside completed beams\n",
    "                for beam in beams:\n",
    "                    y_t_plus_1 = beam.tokens[-1]\n",
    "                if y_t_plus_1 == self.eos_id:\n",
    "                    finished.append(beam)\n",
    "                    beams.remove(beam)\n",
    "\n",
    "                # Break the loop if everything is completed\n",
    "                if len(beams) == 0:\n",
    "                    break\n",
    "\n",
    "        # Return the best hypothesis\n",
    "        if len(finished) > 0:\n",
    "            finished = sorted(finished, key=lambda beam: -beam.score)\n",
    "            return [token.item() for token in finished[0].tokens], all_attns\n",
    "        else:  # when nothing is finished, return an unfinished hypothesis\n",
    "            return [token.item() for token in beams[0].tokens], all_attns"
   ]
  },
  {
   "cell_type": "code",
   "execution_count": 60,
   "id": "763c18d2-f58d-4929-9256-bcbf4cd3b92d",
   "metadata": {},
   "outputs": [],
   "source": [
    "def attention(batched_Q, batched_K, batched_V, mask=None):\n",
    "    \"\"\"\n",
    "    Performs the attention operation and returns the attention matrix\n",
    "    `batched_A` and the context matrix `batched_C` using queries\n",
    "    `batched_Q`, keys `batched_K`, and values `batched_V`.\n",
    "\n",
    "    Arguments:\n",
    "      batched_Q: (bsz, q_len, D)\n",
    "      batched_K: (bsz, k_len, D)\n",
    "      batched_V: (bsz, k_len, D)\n",
    "      mask: (bsz, q_len, k_len). An optional boolean mask *disallowing*\n",
    "            attentions where the mask value is *`False`*.\n",
    "    Returns:\n",
    "      batched_A: the normalized attention scores (bsz, q_len, k_len)\n",
    "      batched_C: a tensor of size (bsz, q_len, D).\n",
    "    \"\"\"\n",
    "    # Check sizes\n",
    "    D = batched_Q.size(-1)\n",
    "    bsz = batched_Q.size(0)\n",
    "    q_len = batched_Q.size(1)\n",
    "    k_len = batched_K.size(1)\n",
    "    assert batched_K.size(-1) == D and batched_V.size(-1) == D\n",
    "    assert batched_K.size(0) == bsz and batched_V.size(0) == bsz\n",
    "    assert batched_V.size(1) == k_len\n",
    "    if mask is not None:\n",
    "        assert mask.size() == torch.Size([bsz, q_len, k_len])\n",
    "\n",
    "    A = torch.bmm(batched_Q, batched_K.transpose(1,2))\n",
    "\n",
    "    if mask is not None:\n",
    "        A = A.masked_fill(mask==False, -float('inf'))\n",
    "\n",
    "    batched_A = torch.softmax(A, dim=-1)\n",
    "    batched_C = torch.bmm(batched_A, batched_V)\n",
    "\n",
    "    # Verify that things sum up to one properly.\n",
    "    assert torch.all(torch.isclose(batched_A.sum(-1),\n",
    "                                 torch.ones(bsz, q_len).to(device)))\n",
    "    return batched_A, batched_C"
   ]
  },
  {
   "cell_type": "code",
   "execution_count": 61,
   "id": "86324eb0-cd3c-4436-b7d0-bdc3181a13cc",
   "metadata": {},
   "outputs": [],
   "source": [
    "# TODO - implement the `AttnEncoderDecoder` class.\n",
    "class AttnEncoderDecoder(nn.Module):\n",
    "    def __init__(self, hf_src_tokenizer, hf_tgt_tokenizer, hidden_size=64, layers=3):\n",
    "        super().__init__()\n",
    "        self.hf_src_tokenizer = hf_src_tokenizer\n",
    "        self.hf_tgt_tokenizer = hf_tgt_tokenizer\n",
    "\n",
    "        # Keep the vocabulary sizes available\n",
    "        self.V_src = len(self.hf_src_tokenizer)\n",
    "        self.V_tgt = len(self.hf_tgt_tokenizer)\n",
    "\n",
    "        # Get special word ids\n",
    "        self.padding_id_src = self.hf_src_tokenizer.pad_token_id\n",
    "        self.padding_id_tgt = self.hf_tgt_tokenizer.pad_token_id\n",
    "        self.bos_id = self.hf_tgt_tokenizer.get_vocab()[bos_token]\n",
    "        self.eos_id = self.hf_tgt_tokenizer.get_vocab()[eos_token]\n",
    "\n",
    "        # Keep hyperparameters available\n",
    "        self.embedding_size = hidden_size\n",
    "        self.hidden_size = hidden_size\n",
    "        self.layers = layers\n",
    "\n",
    "        # Create essential modules\n",
    "        self.word_embeddings_src = nn.Embedding(self.V_src, self.embedding_size)\n",
    "        self.word_embeddings_tgt = nn.Embedding(self.V_tgt, self.embedding_size)\n",
    "\n",
    "        # RNN cells\n",
    "        self.encoder_rnn = nn.LSTM(\n",
    "            input_size=self.embedding_size,\n",
    "            hidden_size=hidden_size // 2,\n",
    "            num_layers=layers,\n",
    "            batch_first=True,\n",
    "            bidirectional=True\n",
    "        )\n",
    "        self.decoder_rnn = nn.LSTM(\n",
    "            input_size=self.embedding_size,\n",
    "            hidden_size=hidden_size,\n",
    "            num_layers=layers,\n",
    "            batch_first=True,\n",
    "            bidirectional=False\n",
    "        )\n",
    "\n",
    "        # Final projection layer\n",
    "        self.hidden2output = nn.Linear(2 * hidden_size, self.V_tgt)\n",
    "\n",
    "        # Create loss function\n",
    "        self.loss_function = nn.CrossEntropyLoss(reduction='sum',\n",
    "                                                 ignore_index=self.padding_id_tgt)\n",
    "\n",
    "    def forward_encoder(self, src, src_lengths):\n",
    "        src_embedded = self.word_embeddings_src(src)\n",
    "        packed = pack(src_embedded, lengths=src_lengths, batch_first=True, enforce_sorted=False)\n",
    "        packed_outputs, (h, c) = self.encoder_rnn(packed)\n",
    "        batch_size = len(src_lengths)\n",
    "        h = h.reshape(self.layers, 2, batch_size, self.hidden_size // 2)\n",
    "        h = h.transpose(1, 2)\n",
    "        h = h.reshape(self.layers, batch_size, -1)\n",
    "\n",
    "    \n",
    "        c = c.reshape(self.layers, 2, batch_size, self.hidden_size // 2)\n",
    "        c = c.transpose(1, 2)\n",
    "        c = c.reshape(self.layers, batch_size, -1)\n",
    "        final_state = (h, c)\n",
    "\n",
    "        memory_bank = unpack(packed_outputs, batch_first=True)[0]\n",
    "        context = None\n",
    "        return memory_bank, (final_state, context)\n",
    "\n",
    "    def forward_decoder(self, encoder_final_state, tgt_in, memory_bank, src_mask):\n",
    "        max_tgt_length = tgt_in.size(1)\n",
    "        decoder_states = encoder_final_state\n",
    "        all_logits = []\n",
    "        for i in range(max_tgt_length):\n",
    "            logits, decoder_states, _ = self.forward_decoder_incrementally(\n",
    "                decoder_states,\n",
    "                tgt_in[:, i],\n",
    "                memory_bank,\n",
    "                src_mask,\n",
    "                normalize=False\n",
    "            )\n",
    "            all_logits.append(logits)\n",
    "        all_logits = torch.stack(all_logits, 1)  # bsz, tgt_len, vocab_tgt\n",
    "        return all_logits\n",
    "\n",
    "\n",
    "    def forward(self, src, src_lengths, tgt_in):\n",
    "        src_mask = src.ne(self.padding_id_src)  # bsz, max_src_len\n",
    "\n",
    "        # Forward encoder\n",
    "        memory_bank, encoder_final_state = self.forward_encoder(src, src_lengths)\n",
    "\n",
    "        # Forward decoder\n",
    "        logits = self.forward_decoder(encoder_final_state, tgt_in, memory_bank, src_mask)\n",
    "\n",
    "        return logits\n",
    "\n",
    "    def forward_decoder_incrementally(self, prev_decoder_states, tgt_in_onestep,\n",
    "                                      memory_bank, src_mask, normalize=True):\n",
    "        prev_decoder_state, prev_context = prev_decoder_states\n",
    "        batch_size = prev_decoder_state[0].size(1)\n",
    "        tgt_embedding = self.word_embeddings_tgt(tgt_in_onestep.reshape(batch_size, 1))\n",
    "\n",
    "        if prev_context is not None:\n",
    "            tgt_embedding += prev_context\n",
    "\n",
    "        decoder_output, decoder_state = self.decoder_rnn(tgt_embedding, prev_decoder_state)\n",
    "        mask = src_mask.unsqueeze(1)\n",
    "\n",
    "        attn_weights, context_vector = attention(decoder_output, memory_bank, memory_bank, mask)\n",
    "\n",
    "        combined_input = torch.cat((decoder_output, context_vector), dim=-1)\n",
    "        logits = self.hidden2output(combined_input)\n",
    "\n",
    "        if normalize:\n",
    "            logits = torch.log_softmax(logits, dim=-1)\n",
    "\n",
    "        updated_decoder_states = (decoder_state, context_vector)\n",
    "\n",
    "        return logits, updated_decoder_states, attn_weights\n",
    "\n",
    "    def evaluate_ppl(self, iterator):\n",
    "        self.eval()\n",
    "        total_loss = 0\n",
    "        total_words = 0\n",
    "        for batch in iterator:\n",
    "            src = batch['src_ids']\n",
    "            src_lengths = batch['src_lengths']\n",
    "            tgt_in = batch['tgt_ids'][:, :-1]\n",
    "            tgt_out = batch['tgt_ids'][:, 1:]\n",
    "            logits = self.forward(src, src_lengths, tgt_in)\n",
    "            loss = self.loss_function(logits.reshape(-1, self.V_tgt), tgt_out.reshape(-1))\n",
    "            total_loss += loss.item()\n",
    "            total_words += tgt_out.ne(self.padding_id_tgt).float().sum().item()\n",
    "        return math.exp(total_loss / total_words)\n",
    "\n",
    "    def train_all(self, train_iter, val_iter, epochs=10, learning_rate=0.001):\n",
    "        self.train()\n",
    "        optim = torch.optim.Adam(self.parameters(), lr=learning_rate)\n",
    "        best_validation_ppl = float('inf')\n",
    "        best_model = None\n",
    "        for epoch in range(epochs):\n",
    "            total_words = 0\n",
    "            total_loss = 0.0\n",
    "            for batch in tqdm(train_iter):\n",
    "                self.zero_grad()\n",
    "                tgt = batch['tgt_ids']\n",
    "                src = batch['src_ids']\n",
    "                src_lengths = batch['src_lengths']\n",
    "                tgt_in = tgt[:, :-1].contiguous()\n",
    "                tgt_out = tgt[:, 1:].contiguous()\n",
    "                bsz = tgt.size(0)\n",
    "                logits = self.forward(src, src_lengths, tgt_in)\n",
    "                loss = self.loss_function(logits.view(-1, self.V_tgt), tgt_out.view(-1))\n",
    "                num_tgt_words = tgt_out.ne(self.padding_id_tgt).float().sum().item()\n",
    "                total_words += num_tgt_words\n",
    "                total_loss += loss.item()\n",
    "                loss.div(bsz).backward()\n",
    "                optim.step()\n",
    "\n",
    "            validation_ppl = self.evaluate_ppl(val_iter)\n",
    "            self.train()\n",
    "            if validation_ppl < best_validation_ppl:\n",
    "                best_validation_ppl = validation_ppl\n",
    "                self.best_model = copy.deepcopy(self.state_dict())\n",
    "            epoch_loss = total_loss / total_words\n",
    "            print(f'Epoch: {epoch} Training Perplexity: {math.exp(epoch_loss):.4f} '\n",
    "                  f'Validation Perplexity: {validation_ppl:.4f}')\n",
    "\n",
    "    def predict(self, tokens, K=1, max_T=15):\n",
    "        beam_searcher = BeamSearcher(self)\n",
    "        \n",
    "        src = torch.tensor([hf_src_tokenizer.encode(tokens)])\n",
    "        src_lengths = torch.tensor([len(src[0])])\n",
    "\n",
    "        prediction, _ = beam_searcher.beam_search(src, src_lengths, K, max_T)\n",
    "        prediction = self.hf_tgt_tokenizer.decode(prediction, skip_special_tokens=True)\n",
    "\n",
    "        return prediction\n"
   ]
  },
  {
   "cell_type": "markdown",
   "id": "694f299e",
   "metadata": {
    "id": "JLuzTt-RFgoL"
   },
   "source": [
    "We provide the recommended hyperparameters for the final model in the script below, but you are free to tune the hyperparameters or change any part of the provided code. \n",
    "\n",
    ">For quick debugging, we recommend starting with smaller models (by using a very small `hidden_size`), and only a single epoch. If the model runs smoothly, then you can train the full model on GPUs."
   ]
  },
  {
   "cell_type": "code",
   "execution_count": 62,
   "id": "5491f115",
   "metadata": {
    "colab": {
     "base_uri": "https://localhost:8080/",
     "height": 654
    },
    "id": "gT1gVKaN2I8P",
    "outputId": "bcf06a3c-215c-4363-ee67-6378984b8e64"
   },
   "outputs": [
    {
     "data": {
      "application/vnd.jupyter.widget-view+json": {
       "model_id": "14a5b9d39ada48148321ce3b19bd176a",
       "version_major": 2,
       "version_minor": 0
      },
      "text/plain": [
       "  0%|          | 0/229 [00:00<?, ?it/s]"
      ]
     },
     "metadata": {},
     "output_type": "display_data"
    },
    {
     "name": "stdout",
     "output_type": "stream",
     "text": [
      "Epoch: 0 Training Perplexity: 4.1195 Validation Perplexity: 1.6977\n"
     ]
    },
    {
     "data": {
      "application/vnd.jupyter.widget-view+json": {
       "model_id": "2f371c34371148cbba8058004f699441",
       "version_major": 2,
       "version_minor": 0
      },
      "text/plain": [
       "  0%|          | 0/229 [00:00<?, ?it/s]"
      ]
     },
     "metadata": {},
     "output_type": "display_data"
    },
    {
     "name": "stdout",
     "output_type": "stream",
     "text": [
      "Epoch: 1 Training Perplexity: 1.4547 Validation Perplexity: 1.3648\n"
     ]
    },
    {
     "data": {
      "application/vnd.jupyter.widget-view+json": {
       "model_id": "f6f6d9a8553741b89b6f0d8296f3f7fd",
       "version_major": 2,
       "version_minor": 0
      },
      "text/plain": [
       "  0%|          | 0/229 [00:00<?, ?it/s]"
      ]
     },
     "metadata": {},
     "output_type": "display_data"
    },
    {
     "name": "stdout",
     "output_type": "stream",
     "text": [
      "Epoch: 2 Training Perplexity: 1.2738 Validation Perplexity: 1.2614\n"
     ]
    },
    {
     "data": {
      "application/vnd.jupyter.widget-view+json": {
       "model_id": "e518a814ee71407b8017d7beba7b1825",
       "version_major": 2,
       "version_minor": 0
      },
      "text/plain": [
       "  0%|          | 0/229 [00:00<?, ?it/s]"
      ]
     },
     "metadata": {},
     "output_type": "display_data"
    },
    {
     "name": "stdout",
     "output_type": "stream",
     "text": [
      "Epoch: 3 Training Perplexity: 1.1975 Validation Perplexity: 1.2031\n"
     ]
    },
    {
     "data": {
      "application/vnd.jupyter.widget-view+json": {
       "model_id": "d7fa778d94e74563ac1cc9894455f1d9",
       "version_major": 2,
       "version_minor": 0
      },
      "text/plain": [
       "  0%|          | 0/229 [00:00<?, ?it/s]"
      ]
     },
     "metadata": {},
     "output_type": "display_data"
    },
    {
     "name": "stdout",
     "output_type": "stream",
     "text": [
      "Epoch: 4 Training Perplexity: 1.1490 Validation Perplexity: 1.1697\n"
     ]
    },
    {
     "data": {
      "application/vnd.jupyter.widget-view+json": {
       "model_id": "aba57a52c9ea462daed3676822185a3e",
       "version_major": 2,
       "version_minor": 0
      },
      "text/plain": [
       "  0%|          | 0/229 [00:00<?, ?it/s]"
      ]
     },
     "metadata": {},
     "output_type": "display_data"
    },
    {
     "name": "stdout",
     "output_type": "stream",
     "text": [
      "Epoch: 5 Training Perplexity: 1.1211 Validation Perplexity: 1.1482\n"
     ]
    },
    {
     "data": {
      "application/vnd.jupyter.widget-view+json": {
       "model_id": "4d110b9083c648058584fe7863e7466f",
       "version_major": 2,
       "version_minor": 0
      },
      "text/plain": [
       "  0%|          | 0/229 [00:00<?, ?it/s]"
      ]
     },
     "metadata": {},
     "output_type": "display_data"
    },
    {
     "name": "stdout",
     "output_type": "stream",
     "text": [
      "Epoch: 6 Training Perplexity: 1.0967 Validation Perplexity: 1.1366\n"
     ]
    },
    {
     "data": {
      "application/vnd.jupyter.widget-view+json": {
       "model_id": "d929ed0e40114d3bb6c99dcf79596c3c",
       "version_major": 2,
       "version_minor": 0
      },
      "text/plain": [
       "  0%|          | 0/229 [00:00<?, ?it/s]"
      ]
     },
     "metadata": {},
     "output_type": "display_data"
    },
    {
     "name": "stdout",
     "output_type": "stream",
     "text": [
      "Epoch: 7 Training Perplexity: 1.0800 Validation Perplexity: 1.1213\n"
     ]
    },
    {
     "data": {
      "application/vnd.jupyter.widget-view+json": {
       "model_id": "6fde2a54248c4257a1e16fc07c2931b5",
       "version_major": 2,
       "version_minor": 0
      },
      "text/plain": [
       "  0%|          | 0/229 [00:00<?, ?it/s]"
      ]
     },
     "metadata": {},
     "output_type": "display_data"
    },
    {
     "name": "stdout",
     "output_type": "stream",
     "text": [
      "Epoch: 8 Training Perplexity: 1.0676 Validation Perplexity: 1.1166\n"
     ]
    },
    {
     "data": {
      "application/vnd.jupyter.widget-view+json": {
       "model_id": "3d664942032c4988ae77d03e0064c147",
       "version_major": 2,
       "version_minor": 0
      },
      "text/plain": [
       "  0%|          | 0/229 [00:00<?, ?it/s]"
      ]
     },
     "metadata": {},
     "output_type": "display_data"
    },
    {
     "name": "stdout",
     "output_type": "stream",
     "text": [
      "Epoch: 9 Training Perplexity: 1.0584 Validation Perplexity: 1.1124\n"
     ]
    }
   ],
   "source": [
    "EPOCHS = 10\n",
    "# we start with 1 epoch, but for good performance\n",
    "# you'll want to use many more epochs, perhaps 10\n",
    "LEARNING_RATE = 1e-4\n",
    "\n",
    "# Instantiate and train classifier\n",
    "model = AttnEncoderDecoder(\n",
    "    hf_src_tokenizer,\n",
    "    hf_tgt_tokenizer,\n",
    "    hidden_size=1024,\n",
    "    layers=1,\n",
    ").to(device)\n",
    "\n",
    "model.train_all(train_iter, val_iter, epochs=EPOCHS, learning_rate=LEARNING_RATE)"
   ]
  },
  {
   "cell_type": "code",
   "execution_count": 63,
   "id": "66e88d0c",
   "metadata": {
    "colab": {
     "base_uri": "https://localhost:8080/",
     "height": 654
    },
    "id": "gT1gVKaN2I8P",
    "outputId": "bcf06a3c-215c-4363-ee67-6378984b8e64"
   },
   "outputs": [
    {
     "data": {
      "application/vnd.jupyter.widget-view+json": {
       "model_id": "4ab800d8489b45aa80d5e7273b9463fe",
       "version_major": 2,
       "version_minor": 0
      },
      "text/plain": [
       "  0%|          | 0/25 [00:00<?, ?it/s]"
      ]
     },
     "metadata": {},
     "output_type": "display_data"
    },
    {
     "name": "stdout",
     "output_type": "stream",
     "text": [
      "Validation perplexity: 1.112\n"
     ]
    }
   ],
   "source": [
    "# Evaluate model performance on the validation set using the best model found. \n",
    "# The expected value should be < 1.2\n",
    "model.load_state_dict(model.best_model)\n",
    "print (f'Validation perplexity: {model.evaluate_ppl(tqdm(val_iter)):.3f}')"
   ]
  },
  {
   "cell_type": "markdown",
   "id": "4f077a9b",
   "metadata": {
    "id": "krTxz3Qo2I8P"
   },
   "source": [
    "With a trained model, we can convert questions to SQL statements. We recommend making sure that the model can generate at least reasonable results on the examples from before, before evaluating on the full test set."
   ]
  },
  {
   "cell_type": "code",
   "execution_count": 64,
   "id": "b569a153",
   "metadata": {
    "id": "jVux00Ud2I8P"
   },
   "outputs": [],
   "source": [
    "def seq2seq_trial(sentence, gold_sql):\n",
    "    print(\"Sentence: \", sentence, \"\\n\")\n",
    "\n",
    "    predicted_sql = model.predict(sentence, K=1, max_T=400)\n",
    "    print(\"Predicted SQL:\\n\\n\", predicted_sql, \"\\n\")\n",
    "\n",
    "    if verify(predicted_sql, gold_sql, silent=False):\n",
    "        print(\"Correct!\")\n",
    "    else:\n",
    "        print(\"Incorrect!\")"
   ]
  },
  {
   "cell_type": "code",
   "execution_count": 65,
   "id": "b33833ad",
   "metadata": {
    "colab": {
     "base_uri": "https://localhost:8080/"
    },
    "id": "YI0SADkU2I8Q",
    "outputId": "5ba2d49a-d875-4976-8359-8c1bccec8ee6"
   },
   "outputs": [
    {
     "name": "stdout",
     "output_type": "stream",
     "text": [
      "Sentence:  flights from phoenix to milwaukee \n",
      "\n",
      "Predicted SQL:\n",
      "\n",
      " SELECT DISTINCT flight_1.flight_id FROM flight flight_1 , airport_service airport_service_1 , city city_1 , airport_service airport_service_2 , city city_2 WHERE flight_1.from_airport = airport_service_1.airport_code AND airport_service_1.city_code = city_1.city_code AND city_1.city_name = 'PHOENIX' AND flight_1.to_airport = airport_service_2.airport_code AND airport_service_2.city_code = city_2.city_code AND city_2.city_name = 'MILWAUKEE' \n",
      "\n",
      "Predicted DB result:\n",
      "\n",
      " [(108086,), (108087,), (301763,), (301764,), (301765,), (301766,), (302323,), (304881,), (310619,), (310620,)] \n",
      "\n",
      "Gold DB result:\n",
      "\n",
      " [(108086,), (108087,), (301763,), (301764,), (301765,), (301766,), (302323,), (304881,), (310619,), (310620,)] \n",
      "\n",
      "Correct!\n"
     ]
    }
   ],
   "source": [
    "seq2seq_trial(example_1, gold_sql_1)"
   ]
  },
  {
   "cell_type": "code",
   "execution_count": 66,
   "id": "61bb53ab",
   "metadata": {
    "colab": {
     "base_uri": "https://localhost:8080/"
    },
    "id": "zHpSVrO62I8Q",
    "outputId": "8208194d-4ecc-48aa-8765-c99aa6281fca"
   },
   "outputs": [
    {
     "name": "stdout",
     "output_type": "stream",
     "text": [
      "Sentence:  i would like a united flight \n",
      "\n",
      "Predicted SQL:\n",
      "\n",
      " SELECT DISTINCT flight_1.flight_id FROM flight flight_1 , airport_service airport_service_1 , city city_1 WHERE flight_1.airline_code = 'UA' AND flight_1.from_airport = airport_service_1.airport_code AND airport_service_1.city_code = city_1.city_code AND city_1.city_name = 'DENVER' \n",
      "\n",
      "Predicted DB result:\n",
      "\n",
      " [(100094,), (100099,), (100699,), (100703,), (100704,), (100705,), (100706,), (101082,), (101083,), (101084,)] \n",
      "\n",
      "Gold DB result:\n",
      "\n",
      " [(100094,), (100099,), (100145,), (100158,), (100164,), (100167,), (100169,), (100203,), (100204,), (100296,)] \n",
      "\n",
      "Incorrect!\n"
     ]
    }
   ],
   "source": [
    "seq2seq_trial(example_2, gold_sql_2)"
   ]
  },
  {
   "cell_type": "code",
   "execution_count": 67,
   "id": "3bff365b",
   "metadata": {
    "colab": {
     "base_uri": "https://localhost:8080/"
    },
    "id": "HTR93hfj2I8Q",
    "outputId": "2a44ee2d-cc24-4886-b155-9cd7eaef288b"
   },
   "outputs": [
    {
     "name": "stdout",
     "output_type": "stream",
     "text": [
      "Sentence:  i would like a flight between boston and dallas \n",
      "\n",
      "Predicted SQL:\n",
      "\n",
      " SELECT DISTINCT flight_1.flight_id FROM flight flight_1 , airport_service airport_service_1 , city city_1 , airport_service airport_service_2 , city city_2 WHERE flight_1.from_airport = airport_service_1.airport_code AND airport_service_1.city_code = city_1.city_code AND city_1.city_name = 'BOSTON' AND flight_1.to_airport = airport_service_2.airport_code AND airport_service_2.city_code = city_2.city_code AND city_2.city_name = 'DALLAS' \n",
      "\n",
      "Predicted DB result:\n",
      "\n",
      " [(103171,), (103172,), (103173,), (103174,), (103175,), (103176,), (103177,), (103178,), (103179,), (103180,)] \n",
      "\n",
      "Gold DB result:\n",
      "\n",
      " [(103171,), (103172,), (103173,), (103174,), (103175,), (103176,), (103177,), (103178,), (103179,), (103180,)] \n",
      "\n",
      "Correct!\n"
     ]
    }
   ],
   "source": [
    "seq2seq_trial(example_3, gold_sql_3)"
   ]
  },
  {
   "cell_type": "code",
   "execution_count": 68,
   "id": "6d81392f",
   "metadata": {
    "colab": {
     "base_uri": "https://localhost:8080/",
     "height": 171
    },
    "id": "mPpbX3oU2I8Q",
    "outputId": "439a677e-d97a-41e7-eb9e-1e5a43b59c2c"
   },
   "outputs": [
    {
     "name": "stdout",
     "output_type": "stream",
     "text": [
      "Sentence:  show me the united flights from denver to baltimore \n",
      "\n",
      "Predicted SQL:\n",
      "\n",
      " SELECT DISTINCT flight_1.flight_id FROM flight flight_1 , airport_service airport_service_1 , city city_1 , airport_service airport_service_2 , city city_2 WHERE flight_1.airline_code = 'UA' AND ( flight_1.from_airport = airport_service_1.airport_code AND airport_service_1.city_code = city_1.city_code AND city_1.city_name = 'DENVER' AND flight_1.to_airport = airport_service_2.airport_code AND airport_service_2.city_code = city_2.city_code AND city_2.city_name = 'BALTIMORE' ) \n",
      "\n",
      "Predicted DB result:\n",
      "\n",
      " [(101231,), (101233,), (305983,)] \n",
      "\n",
      "Gold DB result:\n",
      "\n",
      " [(101231,), (101233,), (305983,)] \n",
      "\n",
      "Correct!\n"
     ]
    }
   ],
   "source": [
    "seq2seq_trial(example_4, gold_sql_4)"
   ]
  },
  {
   "cell_type": "code",
   "execution_count": 69,
   "id": "8e60941c",
   "metadata": {
    "id": "pgvfg5Df2I8Q"
   },
   "outputs": [
    {
     "name": "stdout",
     "output_type": "stream",
     "text": [
      "Sentence:  show flights from cleveland to miami that arrive before 4pm \n",
      "\n",
      "Predicted SQL:\n",
      "\n",
      " SELECT DISTINCT flight_1.flight_id FROM flight flight_1 , airport_service airport_service_1 , city city_1 , airport_service airport_service_2 , city city_2 WHERE flight_1.from_airport = airport_service_1.airport_code AND airport_service_1.city_code = city_1.city_code AND city_1.city_name = 'CLEVELAND' AND ( flight_1.to_airport = airport_service_2.airport_code AND airport_service_2.city_code = city_2.city_code AND city_2.city_name = 'MIAMI' AND flight_1.arrival_time < 1600 ) \n",
      "\n",
      "Predicted DB result:\n",
      "\n",
      " [(107698,), (301117,)] \n",
      "\n",
      "Gold DB result:\n",
      "\n",
      " [(107698,), (301117,)] \n",
      "\n",
      "Correct!\n"
     ]
    }
   ],
   "source": [
    "seq2seq_trial(example_5, gold_sql_5)"
   ]
  },
  {
   "cell_type": "code",
   "execution_count": 70,
   "id": "2f9830f9",
   "metadata": {
    "id": "iyrwQXnS2I8Q"
   },
   "outputs": [
    {
     "name": "stdout",
     "output_type": "stream",
     "text": [
      "Sentence:  okay how about a flight on sunday from tampa to charlotte \n",
      "\n",
      "Predicted SQL:\n",
      "\n",
      " SELECT DISTINCT flight_1.flight_id FROM flight flight_1 , airport_service airport_service_1 , city city_1 , airport_service airport_service_2 , city city_2 , days days_1 , date_day date_day_1 WHERE flight_1.from_airport = airport_service_1.airport_code AND airport_service_1.city_code = city_1.city_code AND city_1.city_name = 'TAMPA' AND ( flight_1.to_airport = airport_service_2.airport_code AND airport_service_2.city_code = city_2.city_code AND city_2.city_name = 'CHARLOTTE' AND flight_1.flight_days = days_1.days_code AND days_1.day_name = date_day_1.day_name AND date_day_1.year = 1991 AND date_day_1.month_number = 8 AND date_day_1.day_number = 27 ) \n",
      "\n",
      "Predicted DB result:\n",
      "\n",
      " [(305231,), (101860,), (101861,), (101862,), (101863,), (101864,), (101865,)] \n",
      "\n",
      "Gold DB result:\n",
      "\n",
      " [(101860,), (101861,), (101862,), (101863,), (101864,), (101865,), (305231,)] \n",
      "\n",
      "Incorrect!\n"
     ]
    }
   ],
   "source": [
    "seq2seq_trial(example_6, gold_sql_6b)"
   ]
  },
  {
   "cell_type": "code",
   "execution_count": 71,
   "id": "fb20b041",
   "metadata": {
    "id": "xTv_NzXg2I8R"
   },
   "outputs": [
    {
     "name": "stdout",
     "output_type": "stream",
     "text": [
      "Sentence:  list all flights going from boston to atlanta that leaves before 7 am on thursday \n",
      "\n",
      "Predicted SQL:\n",
      "\n",
      " SELECT DISTINCT flight_1.flight_id FROM flight flight_1 , airport_service airport_service_1 , city city_1 , airport_service airport_service_2 , city city_2 , days days_1 , date_day date_day_1 WHERE flight_1.from_airport = airport_service_1.airport_code AND airport_service_1.city_code = city_1.city_code AND city_1.city_name = 'BOSTON' AND ( flight_1.to_airport = airport_service_2.airport_code AND airport_service_2.city_code = city_2.city_code AND city_2.city_name = 'ATLANTA' AND ( flight_1.flight_days = days_1.days_code AND days_1.day_name = date_day_1.day_name AND date_day_1.year = 1991 AND date_day_1.month_number = 5 AND date_day_1.day_number = 24 AND flight_1.departure_time < 1000 ) ) \n",
      "\n",
      "Predicted DB result:\n",
      "\n",
      " [(100014,), (100015,), (100016,), (304692,), (307328,)] \n",
      "\n",
      "Gold DB result:\n",
      "\n",
      " [(100014,)] \n",
      "\n",
      "Incorrect!\n"
     ]
    }
   ],
   "source": [
    "seq2seq_trial(example_7, gold_sql_7b)"
   ]
  },
  {
   "cell_type": "code",
   "execution_count": 72,
   "id": "14fffb1e",
   "metadata": {
    "id": "OVs2SQyL2I8R"
   },
   "outputs": [
    {
     "name": "stdout",
     "output_type": "stream",
     "text": [
      "Sentence:  list the flights from dallas to san francisco on american airlines \n",
      "\n",
      "Predicted SQL:\n",
      "\n",
      " SELECT DISTINCT flight_1.flight_id FROM flight flight_1 , airport_service airport_service_1 , city city_1 , airport_service airport_service_2 , city city_2 WHERE flight_1.airline_code = 'AA' AND ( flight_1.from_airport = airport_service_1.airport_code AND airport_service_1.city_code = city_1.city_code AND city_1.city_name = 'DALLAS' AND flight_1.to_airport = airport_service_2.airport_code AND airport_service_2.city_code = city_2.city_code AND city_2.city_name = 'SAN FRANCISCO' ) \n",
      "\n",
      "Predicted DB result:\n",
      "\n",
      " [(108452,), (108454,), (108456,), (111083,), (111085,), (111086,), (111090,), (111091,), (111092,), (111094,)] \n",
      "\n",
      "Gold DB result:\n",
      "\n",
      " [(108452,), (108454,), (108456,), (111083,), (111085,), (111086,), (111090,), (111091,), (111092,), (111094,)] \n",
      "\n",
      "Correct!\n"
     ]
    }
   ],
   "source": [
    "seq2seq_trial(example_8, gold_sql_8)"
   ]
  },
  {
   "cell_type": "markdown",
   "id": "8c7fd63c",
   "metadata": {
    "id": "kLyrRJPsqPEs"
   },
   "source": [
    "### Evaluation\n",
    "\n",
    "Now we are ready to run the full evaluation. A proper implementation should reach more than 35% precision/recall/F1."
   ]
  },
  {
   "cell_type": "code",
   "execution_count": 73,
   "id": "a75dbde7",
   "metadata": {
    "id": "TFNUIl0X2I8R"
   },
   "outputs": [],
   "source": [
    "def seq2seq_predictor(tokens):\n",
    "    prediction = model.predict(tokens, K=1, max_T=400)\n",
    "    return prediction"
   ]
  },
  {
   "cell_type": "code",
   "execution_count": 74,
   "id": "3a1d2b1c",
   "metadata": {
    "id": "Qyn3vZ5R2I8R"
   },
   "outputs": [
    {
     "data": {
      "application/vnd.jupyter.widget-view+json": {
       "model_id": "fc517323a5fa453f8abd99241c42a1f2",
       "version_major": 2,
       "version_minor": 0
      },
      "text/plain": [
       "  0%|          | 0/332 [00:00<?, ?it/s]"
      ]
     },
     "metadata": {},
     "output_type": "display_data"
    },
    {
     "name": "stdout",
     "output_type": "stream",
     "text": [
      "precision: 0.42\n",
      "recall:    0.42\n",
      "F1:        0.42\n"
     ]
    }
   ],
   "source": [
    "precision, recall, f1 = evaluate(seq2seq_predictor, test_data, num_examples=0)\n",
    "print(f\"precision: {precision:3.2f}\")\n",
    "print(f\"recall:    {recall:3.2f}\")\n",
    "print(f\"F1:        {f1:3.2f}\")"
   ]
  },
  {
   "cell_type": "markdown",
   "id": "08394a7f",
   "metadata": {
    "id": "UeSUe7hV5nWw"
   },
   "source": [
    "## Goal 3: Implement a seq2seq model (with cross attention and self attention)\n",
    "\n",
    "In the previous section, you have implemented a seq2seq model with attention. The attention mechanism used in that section is usually referred to as \"cross-attention\", as at each decoding step, the decoder attends to encoder outputs, enabling a dynamic view on the encoder side as decoding proceeds.\n",
    "\n",
    "Similarly, we can have a dynamic view on the decoder side as well as decoding proceeds, i.e., the decoder attends to decoder outputs at previous steps. This is called \"self attention\", and has been found very useful in modern neural architectures such as transformers.\n",
    "\n",
    "Augment the seq2seq model you implemented before with a decoder self-attention mechanism as class `AttnEncoderDecoder2`. A model diagram can be found below:\n",
    "\n",
    "\n",
    "<img src=\"https://github.com/nlp-course/data/raw/master/img/encoderdecoder_attn_selfattn.png\" alt=\"encoder-decoder-attn-with-selfattn illustration\" />\n",
    "\n",
    "At each decoding step, the decoder LSTM first produces an output state $o_t$, then it attends to all previous output states $o_1, \\ldots, o_{t-1}$ (decoder self-attention). You need to special case the first decoding step to not perform self-attention, as there are no previous decoder states. The attention result is added to $o_t$ itself and the sum is used as $q_t$ to attend to the encoder side (encoder-decoder cross-attention). The rest of the model is the same as encoder-decoder with attention.\n"
   ]
  },
  {
   "cell_type": "code",
   "execution_count": 75,
   "id": "dd0c6f8f",
   "metadata": {
    "id": "P5z3NCmq6Nm6"
   },
   "outputs": [],
   "source": [
    "# TODO - implement the `AttnEncoderDecoder2` class.\n",
    "class AttnEncoderDecoder2(nn.Module):\n",
    "    def __init__(self, hf_src_tokenizer, hf_tgt_tokenizer, hidden_size=64, layers=3):\n",
    "        super().__init__()\n",
    "        self.hf_src_tokenizer = hf_src_tokenizer\n",
    "        self.hf_tgt_tokenizer = hf_tgt_tokenizer\n",
    "\n",
    "        # Keep the vocabulary sizes available\n",
    "        self.V_src = len(self.hf_src_tokenizer)\n",
    "        self.V_tgt = len(self.hf_tgt_tokenizer)\n",
    "\n",
    "        # Get special word ids\n",
    "        self.padding_id_src = self.hf_src_tokenizer.pad_token_id\n",
    "        self.padding_id_tgt = self.hf_tgt_tokenizer.pad_token_id\n",
    "        self.bos_id = self.hf_tgt_tokenizer.get_vocab()[bos_token]\n",
    "        self.eos_id = self.hf_tgt_tokenizer.get_vocab()[eos_token]\n",
    "\n",
    "        # Keep hyperparameters available\n",
    "        self.embedding_size = hidden_size\n",
    "        self.hidden_size = hidden_size\n",
    "        self.layers = layers\n",
    "\n",
    "        # Create essential modules\n",
    "        self.word_embeddings_src = nn.Embedding(self.V_src, self.embedding_size)\n",
    "        self.word_embeddings_tgt = nn.Embedding(self.V_tgt, self.embedding_size)\n",
    "\n",
    "        # RNN cells\n",
    "        self.encoder_rnn = nn.LSTM(\n",
    "            input_size=self.embedding_size,\n",
    "            hidden_size=hidden_size // 2,\n",
    "            num_layers=layers,\n",
    "            batch_first=True,\n",
    "            bidirectional=True\n",
    "        )\n",
    "        self.decoder_rnn = nn.LSTM(\n",
    "            input_size=self.embedding_size,\n",
    "            hidden_size=hidden_size,\n",
    "            num_layers=layers,\n",
    "            batch_first=True,\n",
    "            bidirectional=False\n",
    "        )\n",
    "\n",
    "        # Final projection layer\n",
    "        self.hidden2output = nn.Linear(2 * hidden_size, self.V_tgt)\n",
    "\n",
    "        # Create loss function\n",
    "        self.loss_function = nn.CrossEntropyLoss(reduction='sum',\n",
    "                                                 ignore_index=self.padding_id_tgt)\n",
    "\n",
    "    def forward_encoder(self, src, src_lengths):\n",
    "        src_embedded = self.word_embeddings_src(src)\n",
    "        packed = pack(src_embedded, lengths=src_lengths, batch_first=True, enforce_sorted=False)\n",
    "        packed_outputs, (h, c) = self.encoder_rnn(packed)\n",
    "        batch_size = len(src_lengths)\n",
    "        h = h.reshape(self.layers, 2, batch_size, self.hidden_size // 2)\n",
    "        h = h.transpose(1, 2)\n",
    "        h = h.reshape(self.layers, batch_size, -1)\n",
    "\n",
    "    \n",
    "        c = c.reshape(self.layers, 2, batch_size, self.hidden_size // 2)\n",
    "        c = c.transpose(1, 2)\n",
    "        c = c.reshape(self.layers, batch_size, -1)\n",
    "        final_state = (h, c)\n",
    "\n",
    "        memory_bank = unpack(packed_outputs, batch_first=True)[0]\n",
    "        context = None\n",
    "        return memory_bank, (final_state, context, None)\n",
    "\n",
    "    def forward_decoder(self, encoder_final_state, tgt_in, memory_bank, src_mask):\n",
    "        max_tgt_length = tgt_in.size(1)\n",
    "        decoder_states = encoder_final_state\n",
    "        all_logits = []\n",
    "        for i in range(max_tgt_length):\n",
    "            logits, decoder_states, _ = self.forward_decoder_incrementally(\n",
    "                decoder_states,\n",
    "                tgt_in[:, i],\n",
    "                memory_bank,\n",
    "                src_mask,\n",
    "                normalize=False\n",
    "            )\n",
    "            all_logits.append(logits)\n",
    "        all_logits = torch.stack(all_logits, 1)  # bsz, tgt_len, vocab_tgt\n",
    "        return all_logits\n",
    "\n",
    "\n",
    "    def forward(self, src, src_lengths, tgt_in):\n",
    "        src_mask = src.ne(self.padding_id_src)  # bsz, max_src_len\n",
    "\n",
    "        # Forward encoder\n",
    "        memory_bank, encoder_final_state = self.forward_encoder(src, src_lengths)\n",
    "\n",
    "        # Forward decoder\n",
    "        logits = self.forward_decoder(encoder_final_state, tgt_in, memory_bank, src_mask)\n",
    "\n",
    "        return logits\n",
    "\n",
    "    def forward_decoder_incrementally(self, prev_decoder_states, tgt_in_onestep,\n",
    "                                      memory_bank, src_mask, normalize=True):\n",
    "        \n",
    "        prev_decoder_state, prev_context, prev_output = prev_decoder_states\n",
    "        batch_size = prev_decoder_state[0].size(1)\n",
    "        tgt_embedding = self.word_embeddings_tgt(tgt_in_onestep.reshape(batch_size, 1))\n",
    "\n",
    "        if prev_context is not None:\n",
    "            tgt_embedding += prev_context\n",
    "\n",
    "        decoder_output, decoder_state = self.decoder_rnn(tgt_embedding, prev_decoder_state)\n",
    "\n",
    "        if prev_context is not None:\n",
    "            _, self_context = attention(decoder_output, prev_output, prev_output)\n",
    "            prev_output = torch.cat((prev_output, decoder_output), dim = 1)\n",
    "            torch.add(decoder_output, self_context)\n",
    "        else:\n",
    "            prev_output = decoder_output\n",
    "        \n",
    "        mask = src_mask.unsqueeze(1)\n",
    "\n",
    "        attn_weights, context_vector = attention(decoder_output, memory_bank, memory_bank, mask)\n",
    "\n",
    "        combined_input = torch.cat((decoder_output, context_vector), dim=-1)\n",
    "        logits = self.hidden2output(combined_input)\n",
    "\n",
    "        if normalize:\n",
    "            logits = torch.log_softmax(logits, dim=-1)\n",
    "\n",
    "        updated_decoder_states = (decoder_state, context_vector, prev_output)\n",
    "\n",
    "        return logits, updated_decoder_states, attn_weights\n",
    "\n",
    "    def evaluate_ppl(self, iterator):\n",
    "        self.eval()\n",
    "        total_loss = 0\n",
    "        total_words = 0\n",
    "        for batch in iterator:\n",
    "            src = batch['src_ids']\n",
    "            src_lengths = batch['src_lengths']\n",
    "            tgt_in = batch['tgt_ids'][:, :-1]\n",
    "            tgt_out = batch['tgt_ids'][:, 1:]\n",
    "            logits = self.forward(src, src_lengths, tgt_in)\n",
    "            loss = self.loss_function(logits.reshape(-1, self.V_tgt), tgt_out.reshape(-1))\n",
    "            total_loss += loss.item()\n",
    "            total_words += tgt_out.ne(self.padding_id_tgt).float().sum().item()\n",
    "        return math.exp(total_loss / total_words)\n",
    "\n",
    "    def train_all(self, train_iter, val_iter, epochs=10, learning_rate=0.001):\n",
    "        self.train()\n",
    "        optim = torch.optim.Adam(self.parameters(), lr=learning_rate)\n",
    "        best_validation_ppl = float('inf')\n",
    "        best_model = None\n",
    "        for epoch in range(epochs):\n",
    "            total_words = 0\n",
    "            total_loss = 0.0\n",
    "            for batch in tqdm(train_iter):\n",
    "                self.zero_grad()\n",
    "                tgt = batch['tgt_ids']\n",
    "                src = batch['src_ids']\n",
    "                src_lengths = batch['src_lengths']\n",
    "                tgt_in = tgt[:, :-1].contiguous()\n",
    "                tgt_out = tgt[:, 1:].contiguous()\n",
    "                bsz = tgt.size(0)\n",
    "                logits = self.forward(src, src_lengths, tgt_in)\n",
    "                loss = self.loss_function(logits.view(-1, self.V_tgt), tgt_out.view(-1))\n",
    "                num_tgt_words = tgt_out.ne(self.padding_id_tgt).float().sum().item()\n",
    "                total_words += num_tgt_words\n",
    "                total_loss += loss.item()\n",
    "                loss.div(bsz).backward()\n",
    "                optim.step()\n",
    "\n",
    "            validation_ppl = self.evaluate_ppl(val_iter)\n",
    "            self.train()\n",
    "            if validation_ppl < best_validation_ppl:\n",
    "                best_validation_ppl = validation_ppl\n",
    "                self.best_model = copy.deepcopy(self.state_dict())\n",
    "            epoch_loss = total_loss / total_words\n",
    "            print(f'Epoch: {epoch} Training Perplexity: {math.exp(epoch_loss):.4f} '\n",
    "                  f'Validation Perplexity: {validation_ppl:.4f}')\n",
    "\n",
    "    def predict(self, tokens, K=1, max_T=15):\n",
    "        beam_searcher = BeamSearcher(self)\n",
    "        \n",
    "        src = torch.tensor([hf_src_tokenizer.encode(tokens)])\n",
    "        src_lengths = torch.tensor([len(src[0])])\n",
    "\n",
    "        prediction, _ = beam_searcher.beam_search(src, src_lengths, K, max_T)\n",
    "        prediction = self.hf_tgt_tokenizer.decode(prediction, skip_special_tokens=True)\n",
    "\n",
    "        return prediction\n"
   ]
  },
  {
   "cell_type": "code",
   "execution_count": 76,
   "id": "e4c7e7d1",
   "metadata": {
    "id": "KJQ7o3Rn6kV5"
   },
   "outputs": [
    {
     "data": {
      "text/plain": [
       "Ellipsis"
      ]
     },
     "execution_count": 76,
     "metadata": {},
     "output_type": "execute_result"
    }
   ],
   "source": [
    "..."
   ]
  },
  {
   "cell_type": "code",
   "execution_count": 77,
   "id": "44a25bb6",
   "metadata": {
    "colab": {
     "base_uri": "https://localhost:8080/"
    },
    "id": "_t6GuLYI6pJ4",
    "outputId": "e9286e07-b8a8-4485-d786-a81e408bcb0f"
   },
   "outputs": [],
   "source": [
    "EPOCHS = 10 # epochs; we start with 1 epoch, but for good performance \n",
    "           # you'll want to use many more epochs, perhaps 20\n",
    "LEARNING_RATE = 1e-4\n",
    "\n",
    "# Instantiate and train classifier\n",
    "model2 = AttnEncoderDecoder2(hf_src_tokenizer, hf_tgt_tokenizer,\n",
    "  hidden_size    = 1024,\n",
    "  layers         = 1,\n",
    ").to(device)"
   ]
  },
  {
   "cell_type": "code",
   "execution_count": 78,
   "id": "9f409fbf",
   "metadata": {
    "colab": {
     "base_uri": "https://localhost:8080/"
    },
    "id": "_t6GuLYI6pJ4",
    "outputId": "e9286e07-b8a8-4485-d786-a81e408bcb0f"
   },
   "outputs": [
    {
     "data": {
      "application/vnd.jupyter.widget-view+json": {
       "model_id": "823ef81db6c841d89b39ea4ae9823749",
       "version_major": 2,
       "version_minor": 0
      },
      "text/plain": [
       "  0%|          | 0/229 [00:00<?, ?it/s]"
      ]
     },
     "metadata": {},
     "output_type": "display_data"
    },
    {
     "name": "stdout",
     "output_type": "stream",
     "text": [
      "Epoch: 0 Training Perplexity: 4.0113 Validation Perplexity: 1.7154\n"
     ]
    },
    {
     "data": {
      "application/vnd.jupyter.widget-view+json": {
       "model_id": "2e338270b0734d97b4f939ecd6972226",
       "version_major": 2,
       "version_minor": 0
      },
      "text/plain": [
       "  0%|          | 0/229 [00:00<?, ?it/s]"
      ]
     },
     "metadata": {},
     "output_type": "display_data"
    },
    {
     "name": "stdout",
     "output_type": "stream",
     "text": [
      "Epoch: 1 Training Perplexity: 1.4494 Validation Perplexity: 1.3570\n"
     ]
    },
    {
     "data": {
      "application/vnd.jupyter.widget-view+json": {
       "model_id": "c3785d51852f46738a1f5951a9144524",
       "version_major": 2,
       "version_minor": 0
      },
      "text/plain": [
       "  0%|          | 0/229 [00:00<?, ?it/s]"
      ]
     },
     "metadata": {},
     "output_type": "display_data"
    },
    {
     "name": "stdout",
     "output_type": "stream",
     "text": [
      "Epoch: 2 Training Perplexity: 1.2702 Validation Perplexity: 1.2653\n"
     ]
    },
    {
     "data": {
      "application/vnd.jupyter.widget-view+json": {
       "model_id": "d5ac0dd4c6824bfbab9dbc6b80044abf",
       "version_major": 2,
       "version_minor": 0
      },
      "text/plain": [
       "  0%|          | 0/229 [00:00<?, ?it/s]"
      ]
     },
     "metadata": {},
     "output_type": "display_data"
    },
    {
     "name": "stdout",
     "output_type": "stream",
     "text": [
      "Epoch: 3 Training Perplexity: 1.1987 Validation Perplexity: 1.2071\n"
     ]
    },
    {
     "data": {
      "application/vnd.jupyter.widget-view+json": {
       "model_id": "a931c7be22e74f7da4cd41ada1c1fafb",
       "version_major": 2,
       "version_minor": 0
      },
      "text/plain": [
       "  0%|          | 0/229 [00:00<?, ?it/s]"
      ]
     },
     "metadata": {},
     "output_type": "display_data"
    },
    {
     "name": "stdout",
     "output_type": "stream",
     "text": [
      "Epoch: 4 Training Perplexity: 1.1572 Validation Perplexity: 1.1772\n"
     ]
    },
    {
     "data": {
      "application/vnd.jupyter.widget-view+json": {
       "model_id": "ae6ef8b328d042b6ab146a46fa8874ba",
       "version_major": 2,
       "version_minor": 0
      },
      "text/plain": [
       "  0%|          | 0/229 [00:00<?, ?it/s]"
      ]
     },
     "metadata": {},
     "output_type": "display_data"
    },
    {
     "name": "stdout",
     "output_type": "stream",
     "text": [
      "Epoch: 5 Training Perplexity: 1.1281 Validation Perplexity: 1.1546\n"
     ]
    },
    {
     "data": {
      "application/vnd.jupyter.widget-view+json": {
       "model_id": "2fd5f3e22d00443f99dde175ddf7b176",
       "version_major": 2,
       "version_minor": 0
      },
      "text/plain": [
       "  0%|          | 0/229 [00:00<?, ?it/s]"
      ]
     },
     "metadata": {},
     "output_type": "display_data"
    },
    {
     "name": "stdout",
     "output_type": "stream",
     "text": [
      "Epoch: 6 Training Perplexity: 1.1045 Validation Perplexity: 1.1371\n"
     ]
    },
    {
     "data": {
      "application/vnd.jupyter.widget-view+json": {
       "model_id": "1bcc537d24e34af2b5bc64a3376f86b3",
       "version_major": 2,
       "version_minor": 0
      },
      "text/plain": [
       "  0%|          | 0/229 [00:00<?, ?it/s]"
      ]
     },
     "metadata": {},
     "output_type": "display_data"
    },
    {
     "name": "stdout",
     "output_type": "stream",
     "text": [
      "Epoch: 7 Training Perplexity: 1.0890 Validation Perplexity: 1.1277\n"
     ]
    },
    {
     "data": {
      "application/vnd.jupyter.widget-view+json": {
       "model_id": "9b339a04eea94bb2af77fbd725e73aa9",
       "version_major": 2,
       "version_minor": 0
      },
      "text/plain": [
       "  0%|          | 0/229 [00:00<?, ?it/s]"
      ]
     },
     "metadata": {},
     "output_type": "display_data"
    },
    {
     "name": "stdout",
     "output_type": "stream",
     "text": [
      "Epoch: 8 Training Perplexity: 1.0758 Validation Perplexity: 1.1181\n"
     ]
    },
    {
     "data": {
      "application/vnd.jupyter.widget-view+json": {
       "model_id": "2a9d2eb8e7dd4a9d90b8441855cec039",
       "version_major": 2,
       "version_minor": 0
      },
      "text/plain": [
       "  0%|          | 0/229 [00:00<?, ?it/s]"
      ]
     },
     "metadata": {},
     "output_type": "display_data"
    },
    {
     "name": "stdout",
     "output_type": "stream",
     "text": [
      "Epoch: 9 Training Perplexity: 1.0650 Validation Perplexity: 1.1116\n",
      "Validation perplexity: 1.112\n"
     ]
    }
   ],
   "source": [
    "# Evaluate model performance on the validation set using the best model found.\n",
    "# The expected value should be < 1.2.\n",
    "model2.train_all(train_iter, val_iter, epochs=EPOCHS, learning_rate=LEARNING_RATE)\n",
    "model2.load_state_dict(model2.best_model)\n",
    "\n",
    "print(f\"Validation perplexity: {model2.evaluate_ppl(val_iter):.3f}\")"
   ]
  },
  {
   "cell_type": "markdown",
   "id": "5ece6534",
   "metadata": {},
   "source": [
    "### Evaluation\n",
    "\n",
    "Now we are ready to run the full evaluation. A proper implementation should reach more than 35% precision/recall/F1."
   ]
  },
  {
   "cell_type": "code",
   "execution_count": 79,
   "id": "f9938037",
   "metadata": {
    "id": "TdHTptPuh1MY"
   },
   "outputs": [],
   "source": [
    "def seq2seq_predictor2(tokens):\n",
    "    prediction = model2.predict(tokens, K=1, max_T=400)\n",
    "    return prediction"
   ]
  },
  {
   "cell_type": "code",
   "execution_count": 80,
   "id": "a19b5306",
   "metadata": {
    "id": "ZxOPg-ldh6GR"
   },
   "outputs": [
    {
     "data": {
      "application/vnd.jupyter.widget-view+json": {
       "model_id": "843d04ce57e641279518227c4e5b8c9a",
       "version_major": 2,
       "version_minor": 0
      },
      "text/plain": [
       "  0%|          | 0/332 [00:00<?, ?it/s]"
      ]
     },
     "metadata": {},
     "output_type": "display_data"
    },
    {
     "name": "stdout",
     "output_type": "stream",
     "text": [
      "precision: 0.45\n",
      "recall:    0.45\n",
      "F1:        0.45\n"
     ]
    }
   ],
   "source": [
    "precision, recall, f1 = evaluate(seq2seq_predictor2, test_iter.dataset, num_examples=0)\n",
    "print(f\"precision: {precision:3.2f}\")\n",
    "print(f\"recall:    {recall:3.2f}\")\n",
    "print(f\"F1:        {f1:3.2f}\")"
   ]
  },
  {
   "cell_type": "markdown",
   "id": "caa56230",
   "metadata": {
    "id": "BZhVf4362I8T"
   },
   "source": [
    "## (Optional) Goal 4: Use state-of-the-art pretrained transformers\n",
    "\n",
    "\n",
    "The most recent breakthrough in natural-language processing stems from the use of pretrained transformer models. For example, you might have heard of pretrained transformers such as [GPT-3](https://arxiv.org/abs/2005.14165) and [BERT](https://arxiv.org/abs/1810.04805). (BERT is already used in [Google search](https://searchengineland.com/google-bert-used-on-almost-every-english-query-342193).) These models are usually trained on vast amounts of text data using variants of language modeling objectives, and researchers have found that finetuning them on downstream tasks usually results in better performance as compared to training a model from scratch.\n",
    "\n",
    "In the previous part, you implemented an LSTM-based sequence-to-sequence approach. To \"upgrade\" the model to be a state-of-the-art pretrained transformer only requires minor modifications.\n",
    "\n",
    "The pretrained model that we will use is [BART](https://arxiv.org/abs/1910.13461), which uses a bidirectional transformer encoder and a unidirectional transformer decoder, as illustrated in the below diagram (image courtesy https://arxiv.org/pdf/1910.13461):\n",
    "\n",
    "<img src=\"https://raw.githubusercontent.com/nlp-course/data/master/img/bart_architecture.png\" alt=\"encoder-decoder illustration\" />\n",
    "\n",
    "We can see that this model is strikingly similar to the LSTM-based encoder-decoder model we've been using. The only difference is that they use transformers instead of LSTMs. Therefore, we only need to change the modeling parts of the code, as we will see later."
   ]
  },
  {
   "cell_type": "markdown",
   "id": "a5a49fbf",
   "metadata": {
    "id": "4Njji5Bn2I8U"
   },
   "source": [
    "First, we download and load the pretrained BART model from the [transformers](https://github.com/huggingface/transformers) package by Huggingface. Note that we also need to use the \"tokenizer\" of BART, which is actually a combination of a tokenizer and a mapping from strings to word ids."
   ]
  },
  {
   "cell_type": "code",
   "execution_count": null,
   "id": "262f8877",
   "metadata": {
    "id": "_76BjA9J2I8U"
   },
   "outputs": [],
   "source": [
    "pretrained_bart = BartForConditionalGeneration.from_pretrained('facebook/bart-base')\n",
    "bart_tokenizer = BartTokenizer.from_pretrained('facebook/bart-base')"
   ]
  },
  {
   "cell_type": "markdown",
   "id": "28d0bc57",
   "metadata": {
    "id": "rNjWdC6W2I8W"
   },
   "source": [
    "We need to reprocess the data using our new tokenizer. Note that we use the same tokenizer for both the source and target."
   ]
  },
  {
   "cell_type": "code",
   "execution_count": null,
   "id": "7c22415c",
   "metadata": {
    "id": "_kzOJOnf2I8X"
   },
   "outputs": [],
   "source": [
    "def bart_encode(example):\n",
    "    example['src_ids'] = bart_tokenizer(example['src']).input_ids[:1024] # BART model can process at most 1024 tokens\n",
    "    example['tgt_ids'] = bart_tokenizer(example['tgt']).input_ids[:1024]\n",
    "    return example\n",
    "\n",
    "train_bart_data = dataset['train'].map(bart_encode)\n",
    "val_bart_data = dataset['val'].map(bart_encode)\n",
    "test_bart_data = dataset['test'].map(bart_encode)\n",
    "\n",
    "BATCH_SIZE = 1 # batch size for training/validation\n",
    "TEST_BATCH_SIZE = 1 # batch size for test, we use 1 to make beam search implementation easier\n",
    "\n",
    "# we use the same collate function as before\n",
    "train_iter_bart = torch.utils.data.DataLoader(train_bart_data, \n",
    "                                         batch_size=BATCH_SIZE, \n",
    "                                         shuffle=True, \n",
    "                                         collate_fn=collate_fn)\n",
    "val_iter_bart = torch.utils.data.DataLoader(val_bart_data, \n",
    "                                       batch_size=BATCH_SIZE, \n",
    "                                       shuffle=False, \n",
    "                                       collate_fn=collate_fn)\n",
    "test_iter_bart = torch.utils.data.DataLoader(test_bart_data, \n",
    "                                        batch_size=TEST_BATCH_SIZE, \n",
    "                                        shuffle=False, \n",
    "                                        collate_fn=collate_fn)"
   ]
  },
  {
   "cell_type": "markdown",
   "id": "ea776407",
   "metadata": {
    "id": "amgKjT4t2I8X"
   },
   "source": [
    "Let's take a look at a batch."
   ]
  },
  {
   "cell_type": "code",
   "execution_count": null,
   "id": "22c03bf1",
   "metadata": {
    "id": "tFOvvcLs2I8X"
   },
   "outputs": [],
   "source": [
    "batch = next(iter(train_iter_bart))\n",
    "src_ids = batch['src_ids']\n",
    "src_example = src_ids[0]\n",
    "print (f\"Size of text batch: {src_ids.size()}\")\n",
    "print (f\"First sentence in batch: {src_example}\")\n",
    "print (f\"Length of the third sentence in batch: {len(src_example)}\")\n",
    "print (f\"Converted back to string: {bart_tokenizer.decode(src_example)}\")\n",
    "\n",
    "tgt_ids = batch['tgt_ids']\n",
    "tgt_example = tgt_ids[0]\n",
    "print (f\"Size of sql batch: {tgt_ids.size()}\")\n",
    "print (f\"First sql in batch: {tgt_example}\")\n",
    "print (f\"Converted back to string: {bart_tokenizer.decode(tgt_example)}\")"
   ]
  },
  {
   "cell_type": "markdown",
   "id": "859075f0",
   "metadata": {
    "id": "1yxZvTRF2I8X"
   },
   "source": [
    "Now we are ready to implement the BART-based approach for the text-to-SQL conversion problem. In the below `BART` class, we have provided the constructer `__init__`, the `forward` function, and the `predict` function. Your job is to implement the main optimization `train_all`, and `evaluate_ppl` for evaluating validation perplexity for model selection."
   ]
  },
  {
   "cell_type": "code",
   "execution_count": null,
   "id": "900fbb5a",
   "metadata": {
    "id": "pCxIwyh72I8Y"
   },
   "outputs": [],
   "source": [
    "# TODO - finish implementing the `BART` class.\n",
    "class BART(nn.Module):\n",
    "    def __init__(self, tokenizer, pretrained_bart):\n",
    "        \"\"\"\n",
    "        Initializer. Creates network modules and loss function.\n",
    "        Arguments:\n",
    "            tokenizer: BART tokenizer\n",
    "            pretrained_bart: pretrained BART\n",
    "        \"\"\"\n",
    "        super(BART, self).__init__()\n",
    "\n",
    "        self.tokenizer = tokenizer\n",
    "\n",
    "        self.V_tgt = len(tokenizer)\n",
    "\n",
    "        # Get special word ids\n",
    "        self.padding_id_tgt = tokenizer.pad_token_id\n",
    "\n",
    "        # Create essential modules\n",
    "        self.bart = pretrained_bart\n",
    "\n",
    "        # Create loss function\n",
    "        self.loss_function = nn.CrossEntropyLoss(\n",
    "            reduction=\"sum\", ignore_index=self.padding_id_tgt\n",
    "        )\n",
    "\n",
    "    def forward(self, src, src_lengths, tgt_in):\n",
    "        \"\"\"\n",
    "        Performs forward computation, returns logits.\n",
    "        Arguments:\n",
    "            src: src batch of size (batch_size, max_src_len)\n",
    "            src_lengths: src lengths of size (batch_size)\n",
    "            tgt_in:  a tensor of size (batch_size, tgt_len)\n",
    "        \"\"\"\n",
    "        # BART assumes inputs to be batch-first\n",
    "        # This single function is forwarding both encoder and decoder (w/ cross attn),\n",
    "        # using `input_ids` as encoder inputs, and `decoder_input_ids`\n",
    "        # as decoder inputs.\n",
    "        logits = self.bart(\n",
    "            input_ids=src, decoder_input_ids=tgt_in, use_cache=False\n",
    "        ).logits\n",
    "        return logits\n",
    "\n",
    "    def evaluate_ppl(self, iterator):\n",
    "        \"\"\"Returns the model's perplexity on a given dataset `iterator`.\"\"\"\n",
    "        # TODO - implement this function\n",
    "        ...\n",
    "        ppl = ...\n",
    "        return ppl\n",
    "\n",
    "    def train_all(\n",
    "        self, train_iter, val_iter, epochs=10, first_n_batches=None, learning_rate=0.001\n",
    "    ):\n",
    "        \"\"\"Train the model.\"\"\"\n",
    "        # TODO - implement this function\n",
    "        ...\n",
    "\n",
    "    def predict(self, tokens, K=1, max_T=400):\n",
    "        \"\"\"\n",
    "        Generates the target sequence given the source sequence using beam search decoding.\n",
    "        Note that for simplicity, we only use batch size 1.\n",
    "        Arguments:\n",
    "            tokens: the source sentence.\n",
    "            max_T: at most proceed this many steps of decoding\n",
    "        Returns:\n",
    "            a string of the generated target sentence.\n",
    "        \"\"\"\n",
    "        # Tokenize and map to a list of word ids\n",
    "        inputs = torch.LongTensor(self.tokenizer([tokens])[\"input_ids\"][:1024]).to(\n",
    "            device\n",
    "        )\n",
    "        # The `transformers` package provides built-in beam search support\n",
    "        prediction = self.bart.generate(\n",
    "            inputs,\n",
    "            num_beams=K,\n",
    "            max_length=max_T,\n",
    "            early_stopping=True,\n",
    "            no_repeat_ngram_size=0,\n",
    "            decoder_start_token_id=0,\n",
    "            use_cache=True,\n",
    "        )[0]\n",
    "        return self.tokenizer.decode(prediction, skip_special_tokens=True)"
   ]
  },
  {
   "cell_type": "markdown",
   "id": "9ee86f03",
   "metadata": {
    "id": "Bw-tTTCI2I8Z"
   },
   "source": [
    "The code below will kick off training, and evaluate the validation perplexity. You should expect to see a value very close to 1."
   ]
  },
  {
   "cell_type": "code",
   "execution_count": null,
   "id": "24bf65b4",
   "metadata": {
    "id": "tp0K3Ie32I8Z"
   },
   "outputs": [],
   "source": [
    "EPOCHS = 1  # epochs; we start with 1 epoch, but for good performance\n",
    "# you'll want to use many more epochs, perhaps 5\n",
    "LEARNING_RATE = 1e-5\n",
    "\n",
    "# Instantiate and train classifier\n",
    "bart_model = BART(bart_tokenizer, pretrained_bart).to(device)\n",
    "\n",
    "bart_model.train_all(\n",
    "    train_iter_bart, val_iter_bart, epochs=EPOCHS, learning_rate=LEARNING_RATE\n",
    ")\n",
    "bart_model.load_state_dict(bart_model.best_model)"
   ]
  },
  {
   "cell_type": "code",
   "execution_count": null,
   "id": "40ec2467",
   "metadata": {
    "id": "tp0K3Ie32I8Z"
   },
   "outputs": [],
   "source": [
    "# Evaluate model performance, the expected value should be < 1.2\n",
    "print(f\"Validation perplexity: {bart_model.evaluate_ppl(val_iter_bart):.3f}\")"
   ]
  },
  {
   "cell_type": "markdown",
   "id": "3f45ab2c",
   "metadata": {
    "id": "O653HXta2I8Z"
   },
   "source": [
    "As before, make sure that your model is making reasonable predictions on a few examples before evaluating on the entire test set."
   ]
  },
  {
   "cell_type": "code",
   "execution_count": null,
   "id": "784a23cf",
   "metadata": {
    "id": "YQg5IVKD2I8Z"
   },
   "outputs": [],
   "source": [
    "def bart_trial(sentence, gold_sql):\n",
    "    predicted_sql = bart_model.predict(sentence, K=1, max_T=300)\n",
    "    print(\"Predicted SQL:\\n\\n\", predicted_sql, \"\\n\")\n",
    "\n",
    "    if verify(predicted_sql, gold_sql, silent=False):\n",
    "        print(\"Correct!\")\n",
    "    else:\n",
    "        print(\"Incorrect!\")"
   ]
  },
  {
   "cell_type": "code",
   "execution_count": null,
   "id": "b0d2aa59",
   "metadata": {
    "id": "5cpg2d6t2I8Z"
   },
   "outputs": [],
   "source": [
    "bart_trial(example_1, gold_sql_1)"
   ]
  },
  {
   "cell_type": "code",
   "execution_count": null,
   "id": "f50c1f87",
   "metadata": {
    "id": "j8p6vfrA2I8a"
   },
   "outputs": [],
   "source": [
    "bart_trial(example_2, gold_sql_2)"
   ]
  },
  {
   "cell_type": "code",
   "execution_count": null,
   "id": "768e9b6c",
   "metadata": {
    "id": "Gqfx_GBt2I8a"
   },
   "outputs": [],
   "source": [
    "bart_trial(example_3, gold_sql_3)"
   ]
  },
  {
   "cell_type": "code",
   "execution_count": null,
   "id": "43654ce1",
   "metadata": {
    "id": "hUg3W5d72I8a"
   },
   "outputs": [],
   "source": [
    "bart_trial(example_4, gold_sql_4)"
   ]
  },
  {
   "cell_type": "code",
   "execution_count": null,
   "id": "f7c03d5a",
   "metadata": {
    "id": "tCg5ft6H2I8a"
   },
   "outputs": [],
   "source": [
    "bart_trial(example_5, gold_sql_5)"
   ]
  },
  {
   "cell_type": "code",
   "execution_count": null,
   "id": "43f31655",
   "metadata": {
    "id": "omLXKhel2I8a"
   },
   "outputs": [],
   "source": [
    "bart_trial(example_6, gold_sql_6b)"
   ]
  },
  {
   "cell_type": "code",
   "execution_count": null,
   "id": "07d09787",
   "metadata": {
    "id": "nXD8nrX62I8b"
   },
   "outputs": [],
   "source": [
    "bart_trial(example_7, gold_sql_7b)"
   ]
  },
  {
   "cell_type": "code",
   "execution_count": null,
   "id": "d3ea784f",
   "metadata": {
    "id": "37Puy-dT2I8b"
   },
   "outputs": [],
   "source": [
    "bart_trial(example_8, gold_sql_8)"
   ]
  },
  {
   "cell_type": "markdown",
   "id": "7c96eca8",
   "metadata": {
    "id": "g8OUieX02I8b"
   },
   "source": [
    "### Evaluation"
   ]
  },
  {
   "cell_type": "markdown",
   "id": "e0331a94",
   "metadata": {
    "id": "APbL0lzP2I8b"
   },
   "source": [
    "The code below will evaluate on the entire test set. You should expect to see precision/recall/F1 greater than 40%."
   ]
  },
  {
   "cell_type": "code",
   "execution_count": null,
   "id": "a1251434",
   "metadata": {
    "id": "Xx-aLKW42I8b"
   },
   "outputs": [],
   "source": [
    "def seq2seq_predictor_bart(tokens):\n",
    "    prediction = bart_model.predict(tokens, K=4, max_T=400)\n",
    "    return prediction"
   ]
  },
  {
   "cell_type": "code",
   "execution_count": null,
   "id": "79bb9ccd",
   "metadata": {
    "id": "RCsKMLGy2I8b"
   },
   "outputs": [],
   "source": [
    "precision, recall, f1 = evaluate(seq2seq_predictor_bart, test_bart_data, num_examples=0)\n",
    "print(f\"precision: {precision:3.2f}\")\n",
    "print(f\"recall:    {recall:3.2f}\")\n",
    "print(f\"F1:        {f1:3.2f}\")"
   ]
  },
  {
   "cell_type": "markdown",
   "id": "b6ac7d52",
   "metadata": {
    "deletable": false,
    "editable": false,
    "id": "HV5Q1nuCReVv"
   },
   "source": [
    "<!-- BEGIN QUESTION -->\n",
    "\n",
    "# Discussion\n",
    "\n",
    "## Goal 5: Compare the pros and cons of rule-based and neural approaches.\n",
    "\n",
    "Compare the pros and cons of the rule-based approach and the neural approaches with relevant examples from your experiments above. With regard to accuracy, which approach would you choose to be used in a product? Explain.\n",
    "<!--\n",
    "BEGIN QUESTION\n",
    "name: open_response_comp\n",
    "manual: true\n",
    "-->"
   ]
  },
  {
   "cell_type": "markdown",
   "id": "e3ce5204",
   "metadata": {},
   "source": [
    "Upon completing the rule-based and neural approaches it's evident that there are big differences between the two approaches. The neural approach required a lot more time to complete, due to constant debugging and training challenges. Even though the dataset was of fairly modest size, training the model with 10 epochs could take up to two hours without a GPU. This made testing the function and bugs very frustrating and challenging. \n",
    "In contrast the rule-based approach involved manual grammar augmentations which was tedious to write, but allowed for rapid testing which only took seconds to run. While the manual labor of augmenting the grammar was tedious, it was manageable for our scope. However, scaling the project to allow a broader range of inputs could have proved challenging and in such a case  Neural networks might be more effictive and flexible. \n",
    "\n",
    "The performance metrics of the two approaches also revealed key differences. The rule-based approach achieved 64% precision, 27% recall, and 38% F1 score. In comparison, the neural approaches achieved around 42% and 45% for all these three same metric metrics.\n",
    "Precision is how accurate the model is when it makes a prediction (it finds a parse), whereas recall evaluates the proportion of the total examples that the model got right including those where the model can't find a valid parse. Therefore the rule-based model tend to be more accurate when it makes a predction but the fact that the recall is so much lower than precision suggests that a lot of the time, the model doesn't find a valid parse and the predicted_sql == \"None\". This makes sense since we didn't add that many augmentations. The recall for the rule-based approach therefore have higher potential if we made more comprehensive grammar rules. \n",
    "\n",
    "With regard to accuracy and which approach I would use for a product, it depends what the use of the product really is. If the use of the product is to book flights through this system I would choose the rule-based approach in a product since it has much higher precision. In such a scenario false positives could have devasting financial or logistical consequenses which would happen about 55-58% of the time the neural approach would make a prediciton. On the other hand, if the product is more like a brainstorm just to search up flights like momondo, I might choose the neural approach since it has a higher recall and at the end of the day would find more accurate routes. I would however list on the website that great caution should be taken since 55-58% of situations it would be wrong. However, even with the momondo product it could make sense to use the rule-based approach since I believe there is potential for much greater recall if one where to add many more augmentations for the grammar. It ultimately also depends on the scale of the product. If the system needs to scale rapidly, handle diverse inputs, or support exploratory searches where users can tolerate occasional inaccuracies (e.g., casual Q&A systems), the neural approach is better suited."
   ]
  },
  {
   "cell_type": "markdown",
   "id": "d2b754de",
   "metadata": {
    "deletable": false,
    "editable": false,
    "id": "1xL28W1p2I8c"
   },
   "source": [
    "<!-- END QUESTION -->\n",
    "\n",
    "<!-- BEGIN QUESTION -->\n",
    "\n",
    "# Debrief\n",
    "\n",
    "**Question:** We're interested in any thoughts you have about this project segment so that we can improve it for later years, and to inform later segments for this year. Please list any issues that arose or comments you have to improve the project segment. Useful things to comment on might include the following: \n",
    "\n",
    "* Was the project segment clear or unclear? Which portions?\n",
    "* Were the readings appropriate background for the project segment? \n",
    "* Are there additions or changes you think would make the project segment better?\n",
    "\n",
    "<!--\n",
    "BEGIN QUESTION\n",
    "name: open_response_debrief\n",
    "manual: true\n",
    "-->\n",
    "\n",
    "but you should comment on whatever aspects you found especially positive or negative."
   ]
  },
  {
   "cell_type": "markdown",
   "id": "e751cf1f",
   "metadata": {},
   "source": [
    "I think the project would have benefited from a few hints. Regarding the grammar augmentation, it was not always clear which sections I needed to modify, and figuring out how to make certain changes was quite challenging. I would also have preferred a little more background on the second neural network although I eventually understood what I was supposed to do. The diagram was helpful."
   ]
  },
  {
   "cell_type": "markdown",
   "id": "f60e0278",
   "metadata": {
    "id": "CcgpogLj2I8c"
   },
   "source": [
    "<!-- END QUESTION -->\n",
    "\n",
    "\n",
    "\n",
    "# Instructions for submission of the project segment\n",
    "\n",
    "This project segment should be submitted to Gradescope at <http://go.cs187.info/project4-submit-code> and <http://go.cs187.info/project4-submit-pdf>, which will be made available some time before the due date.\n",
    "\n",
    "Project segment notebooks are manually graded, not autograded using otter as labs are. (Otter is used within project segment notebooks to synchronize distribution and solution code however.) **We will not run your notebook before grading it.** Instead, we ask that you submit the already freshly run notebook. The best method is to \"restart kernel and run all cells\", allowing time for all cells to be run to completion. You should submit your code to Gradescope at the code submission assignment at <http://go.cs187.info/project4-submit-code>. Make sure that you are also submitting your `data/grammar` file as part of your solution code as well.\n",
    "\n",
    "We also request that you **submit a PDF of the freshly run notebook**. The simplest method is to use \"Export notebook to PDF\", which will render the notebook to PDF via LaTeX. If that doesn't work, the method that seems to be most reliable is to export the notebook as HTML (if you are using Jupyter Notebook, you can do so using `File -> Print Preview`), open the HTML in a browser, and print it to a file. Then make sure to add the file to your git commit. Please name the file the same name as this notebook, but with a `.pdf` extension. (Conveniently, the methods just described will use that name by default.) You can then perform a git commit and push and submit the commit to Gradescope at <http://go.cs187.info/project4-submit-pdf>.\n",
    "\n",
    "When you submit the PDF to Gradescope, make sure to **assign to each question in the outline the corresponding pages in the PDF**. You can refer to the official Gradescope documentation for instructions on assigning pages at <https://go.cs187.info/assignpages>. Submissions without assigned pages are subject to a score deduction."
   ]
  },
  {
   "cell_type": "markdown",
   "id": "18f3e4cd",
   "metadata": {
    "id": "y3d0-waK2I8c"
   },
   "source": [
    "# End of project segment 4 {-}"
   ]
  }
 ],
 "metadata": {
  "accelerator": "GPU",
  "celltoolbar": "Tags",
  "colab": {
   "collapsed_sections": [],
   "name": "project4_semantics.ipynb",
   "provenance": [],
   "toc_visible": true
  },
  "kernelspec": {
   "display_name": "Python 3 (ipykernel)",
   "language": "python",
   "name": "python3"
  },
  "language_info": {
   "codemirror_mode": {
    "name": "ipython",
    "version": 3
   },
   "file_extension": ".py",
   "mimetype": "text/x-python",
   "name": "python",
   "nbconvert_exporter": "python",
   "pygments_lexer": "ipython3",
   "version": "3.8.18"
  },
  "title": "CS187 Project Segment 4: Semantic Interpretation – Question Answering"
 },
 "nbformat": 4,
 "nbformat_minor": 5
}
